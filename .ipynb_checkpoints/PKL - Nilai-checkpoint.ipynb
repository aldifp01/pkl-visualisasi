{
 "cells": [
  {
   "cell_type": "code",
   "execution_count": null,
   "metadata": {
    "cell_id": "dabeba99-6097-42a5-a0e6-bb32fbcdacd4",
    "deepnote_cell_height": 94,
    "deepnote_cell_type": "code",
    "deepnote_to_be_reexecuted": false,
    "execution_millis": 219927,
    "execution_start": 1659931844768,
    "source_hash": "c76c7c51",
    "tags": []
   },
   "outputs": [],
   "source": [
    "import pandas as pd\n",
    "import numpy as np"
   ]
  },
  {
   "cell_type": "code",
   "execution_count": null,
   "metadata": {
    "cell_id": "b03870cc5e224682971023737a861886",
    "deepnote_cell_height": 94,
    "deepnote_cell_type": "code",
    "deepnote_to_be_reexecuted": false,
    "execution_millis": 0,
    "execution_start": 1659931844816,
    "source_hash": "696c3e49",
    "tags": []
   },
   "outputs": [],
   "source": [
    "pretest=pd.read_csv('nilai_pretest.csv')\n",
    "posttest=pd.read_csv('nilai_posttest.csv')"
   ]
  },
  {
   "cell_type": "code",
   "execution_count": null,
   "metadata": {
    "cell_id": "37610887072b4e7d8e8168d2b14e0e82",
    "deepnote_cell_height": 610,
    "deepnote_cell_type": "code",
    "deepnote_to_be_reexecuted": false,
    "execution_millis": 83,
    "execution_start": 1659931844816,
    "source_hash": "4506e71d",
    "tags": []
   },
   "outputs": [
    {
     "data": {
      "application/vnd.deepnote.dataframe.v3+json": {
       "column_count": 27,
       "columns": [
        {
         "dtype": "object",
         "name": "Timestamp",
         "stats": {
          "categories": [
           {
            "count": 3,
            "name": "4/19/2022 8:43:57"
           },
           {
            "count": 2,
            "name": "4/18/2022 14:09:35"
           },
           {
            "count": 309,
            "name": "306 others"
           }
          ],
          "nan_count": 0,
          "unique_count": 308
         }
        },
        {
         "dtype": "object",
         "name": "Nama Mahasiswa",
         "stats": {
          "categories": [
           {
            "count": 2,
            "name": "Leonard Samuel Pakpahan"
           },
           {
            "count": 2,
            "name": "Rif'atul Ilmi"
           },
           {
            "count": 310,
            "name": "307 others"
           }
          ],
          "nan_count": 0,
          "unique_count": 309
         }
        },
        {
         "dtype": "int64",
         "name": "NIM",
         "stats": {
          "histogram": [
           {
            "bin_end": 179150250811048.5,
            "bin_start": 175150200111049,
            "count": 3
           },
           {
            "bin_end": 183150301511048,
            "bin_start": 179150250811048.5,
            "count": 0
           },
           {
            "bin_end": 187150352211047.5,
            "bin_start": 183150301511048,
            "count": 8
           },
           {
            "bin_end": 191150402911047,
            "bin_start": 187150352211047.5,
            "count": 0
           },
           {
            "bin_end": 195150453611046.5,
            "bin_start": 191150402911047,
            "count": 18
           },
           {
            "bin_end": 199150504311046,
            "bin_start": 195150453611046.5,
            "count": 6
           },
           {
            "bin_end": 203150555011045.5,
            "bin_start": 199150504311046,
            "count": 0
           },
           {
            "bin_end": 207150605711045,
            "bin_start": 203150555011045.5,
            "count": 220
           },
           {
            "bin_end": 211150656411044.5,
            "bin_start": 207150605711045,
            "count": 0
           },
           {
            "bin_end": 215150707111044,
            "bin_start": 211150656411044.5,
            "count": 59
           }
          ],
          "max": "215150707111044",
          "min": "175150200111049",
          "nan_count": 0,
          "unique_count": 309
         }
        },
        {
         "dtype": "object",
         "name": "Mata Kuliah",
         "stats": {
          "categories": [
           {
            "count": 32,
            "name": "Lainnya"
           },
           {
            "count": 31,
            "name": "DIMP A"
           },
           {
            "count": 251,
            "name": "10 others"
           }
          ],
          "nan_count": 0,
          "unique_count": 12
         }
        },
        {
         "dtype": "object",
         "name": "1",
         "stats": {
          "categories": [
           {
            "count": 255,
            "name": "1"
           },
           {
            "count": 58,
            "name": "4 others"
           },
           {
            "count": 1,
            "name": "Missing"
           }
          ],
          "nan_count": 1,
          "unique_count": 5
         }
        },
        {
         "dtype": "object",
         "name": "2",
         "stats": {
          "categories": [
           {
            "count": 231,
            "name": "1"
           },
           {
            "count": 81,
            "name": "4 others"
           },
           {
            "count": 2,
            "name": "Missing"
           }
          ],
          "nan_count": 2,
          "unique_count": 5
         }
        },
        {
         "dtype": "object",
         "name": "3",
         "stats": {
          "categories": [
           {
            "count": 284,
            "name": "1"
           },
           {
            "count": 29,
            "name": "3 others"
           },
           {
            "count": 1,
            "name": "Missing"
           }
          ],
          "nan_count": 1,
          "unique_count": 4
         }
        },
        {
         "dtype": "object",
         "name": "4",
         "stats": {
          "categories": [
           {
            "count": 224,
            "name": "1"
           },
           {
            "count": 88,
            "name": "4 others"
           },
           {
            "count": 2,
            "name": "Missing"
           }
          ],
          "nan_count": 2,
          "unique_count": 5
         }
        },
        {
         "dtype": "object",
         "name": "5",
         "stats": {
          "categories": [
           {
            "count": 261,
            "name": "2"
           },
           {
            "count": 51,
            "name": "4 others"
           },
           {
            "count": 2,
            "name": "Missing"
           }
          ],
          "nan_count": 2,
          "unique_count": 5
         }
        },
        {
         "dtype": "object",
         "name": "6",
         "stats": {
          "categories": [
           {
            "count": 299,
            "name": "1"
           },
           {
            "count": 13,
            "name": "4 others"
           },
           {
            "count": 2,
            "name": "Missing"
           }
          ],
          "nan_count": 2,
          "unique_count": 5
         }
        },
        {
         "dtype": "object",
         "name": "7",
         "stats": {
          "categories": [
           {
            "count": 267,
            "name": "1"
           },
           {
            "count": 45,
            "name": "4 others"
           },
           {
            "count": 2,
            "name": "Missing"
           }
          ],
          "nan_count": 2,
          "unique_count": 5
         }
        },
        {
         "dtype": "object",
         "name": "8",
         "stats": {
          "categories": [
           {
            "count": 262,
            "name": "1"
           },
           {
            "count": 51,
            "name": "4 others"
           },
           {
            "count": 1,
            "name": "Missing"
           }
          ],
          "nan_count": 1,
          "unique_count": 5
         }
        },
        {
         "dtype": "object",
         "name": "9",
         "stats": {
          "categories": [
           {
            "count": 264,
            "name": "1"
           },
           {
            "count": 49,
            "name": "4 others"
           },
           {
            "count": 1,
            "name": "Missing"
           }
          ],
          "nan_count": 1,
          "unique_count": 5
         }
        },
        {
         "dtype": "object",
         "name": "10",
         "stats": {
          "categories": [
           {
            "count": 217,
            "name": "1"
           },
           {
            "count": 93,
            "name": "4 others"
           },
           {
            "count": 4,
            "name": "Missing"
           }
          ],
          "nan_count": 4,
          "unique_count": 5
         }
        },
        {
         "dtype": "object",
         "name": "11",
         "stats": {
          "categories": [
           {
            "count": 79,
            "name": "tanda bintang (*)"
           },
           {
            "count": 194,
            "name": "4 others"
           },
           {
            "count": 41,
            "name": "Missing"
           }
          ],
          "nan_count": 41,
          "unique_count": 5
         }
        },
        {
         "dtype": "object",
         "name": "12",
         "stats": {
          "categories": [
           {
            "count": 194,
            "name": "1"
           },
           {
            "count": 116,
            "name": "4 others"
           },
           {
            "count": 4,
            "name": "Missing"
           }
          ],
          "nan_count": 4,
          "unique_count": 5
         }
        },
        {
         "dtype": "object",
         "name": "13",
         "stats": {
          "categories": [
           {
            "count": 224,
            "name": "1"
           },
           {
            "count": 83,
            "name": "4 others"
           },
           {
            "count": 7,
            "name": "Missing"
           }
          ],
          "nan_count": 7,
          "unique_count": 5
         }
        },
        {
         "dtype": "object",
         "name": "14",
         "stats": {
          "categories": [
           {
            "count": 215,
            "name": "1"
           },
           {
            "count": 97,
            "name": "4 others"
           },
           {
            "count": 2,
            "name": "Missing"
           }
          ],
          "nan_count": 2,
          "unique_count": 5
         }
        },
        {
         "dtype": "object",
         "name": "15",
         "stats": {
          "categories": [
           {
            "count": 179,
            "name": "1"
           },
           {
            "count": 131,
            "name": "4 others"
           },
           {
            "count": 4,
            "name": "Missing"
           }
          ],
          "nan_count": 4,
          "unique_count": 5
         }
        },
        {
         "dtype": "object",
         "name": "16",
         "stats": {
          "categories": [
           {
            "count": 213,
            "name": "2"
           },
           {
            "count": 95,
            "name": "4 others"
           },
           {
            "count": 6,
            "name": "Missing"
           }
          ],
          "nan_count": 6,
          "unique_count": 5
         }
        },
        {
         "dtype": "object",
         "name": "17",
         "stats": {
          "categories": [
           {
            "count": 229,
            "name": "1"
           },
           {
            "count": 81,
            "name": "4 others"
           },
           {
            "count": 4,
            "name": "Missing"
           }
          ],
          "nan_count": 4,
          "unique_count": 5
         }
        },
        {
         "dtype": "object",
         "name": "18",
         "stats": {
          "categories": [
           {
            "count": 281,
            "name": "1"
           },
           {
            "count": 30,
            "name": "4 others"
           },
           {
            "count": 3,
            "name": "Missing"
           }
          ],
          "nan_count": 3,
          "unique_count": 5
         }
        },
        {
         "dtype": "int64",
         "name": "19",
         "stats": {
          "histogram": [
           {
            "bin_end": 0.6,
            "bin_start": 0.5,
            "count": 0
           },
           {
            "bin_end": 0.7,
            "bin_start": 0.6,
            "count": 0
           },
           {
            "bin_end": 0.8,
            "bin_start": 0.7,
            "count": 0
           },
           {
            "bin_end": 0.9,
            "bin_start": 0.8,
            "count": 0
           },
           {
            "bin_end": 1,
            "bin_start": 0.9,
            "count": 0
           },
           {
            "bin_end": 1.1,
            "bin_start": 1,
            "count": 314
           },
           {
            "bin_end": 1.2000000000000002,
            "bin_start": 1.1,
            "count": 0
           },
           {
            "bin_end": 1.3,
            "bin_start": 1.2000000000000002,
            "count": 0
           },
           {
            "bin_end": 1.4,
            "bin_start": 1.3,
            "count": 0
           },
           {
            "bin_end": 1.5,
            "bin_start": 1.4,
            "count": 0
           }
          ],
          "max": "1",
          "min": "1",
          "nan_count": 0,
          "unique_count": 1
         }
        },
        {
         "dtype": "object",
         "name": "20",
         "stats": {
          "categories": [
           {
            "count": 224,
            "name": "1"
           },
           {
            "count": 86,
            "name": "4 others"
           },
           {
            "count": 4,
            "name": "Missing"
           }
          ],
          "nan_count": 4,
          "unique_count": 5
         }
        },
        {
         "dtype": "object",
         "name": "21",
         "stats": {
          "categories": [
           {
            "count": 280,
            "name": "1"
           },
           {
            "count": 32,
            "name": "3 others"
           },
           {
            "count": 2,
            "name": "Missing"
           }
          ],
          "nan_count": 2,
          "unique_count": 4
         }
        },
        {
         "dtype": "object",
         "name": "22",
         "stats": {
          "categories": [
           {
            "count": 178,
            "name": "2"
           },
           {
            "count": 131,
            "name": "4 others"
           },
           {
            "count": 5,
            "name": "Missing"
           }
          ],
          "nan_count": 5,
          "unique_count": 5
         }
        },
        {
         "dtype": "object",
         "name": "23",
         "stats": {
          "categories": [
           {
            "count": 104,
            "name": "<div> ditampilkan selebar 2 kolom pada layar ukuran medium, 4 kolom pada layar ukuran small dan 6 kolom pada layar ukuran extra small."
           },
           {
            "count": 205,
            "name": "4 others"
           },
           {
            "count": 5,
            "name": "Missing"
           }
          ],
          "nan_count": 5,
          "unique_count": 5
         }
        },
        {
         "dtype": "int64",
         "name": "_deepnote_index_column"
        }
       ],
       "row_count": 314,
       "rows": [
        {
         "1": "1",
         "10": "<a href=”style.css”>",
         "11": "titik dua (:)",
         "12": "titik dua (:)",
         "13": "titik dua (:)",
         "14": "// komentar //",
         "15": "background-image: background.gif;",
         "16": "nilai padding bagian bawah = 40 px",
         "17": "tag <style> yang diletakkan di dalam tag <body>",
         "18": "1",
         "19": 1,
         "2": "1",
         "20": "1",
         "21": "1",
         "22": "2",
         "23": "<div> ditampilkan selebar 2 kolom pada layar ukuran medium, 4 kolom pada layar ukuran small dan 6 kolom pada layar ukuran extra small.",
         "3": "1",
         "4": "1",
         "5": "2",
         "6": "1",
         "7": "1",
         "8": "1",
         "9": "1",
         "Mata Kuliah": "DPSI C",
         "NIM": 215150701111025,
         "Nama Mahasiswa": "Irfan Hanif Habibi",
         "Timestamp": "4/18/2022 14:06:17",
         "_deepnote_index_column": 0
        },
        {
         "1": "1",
         "10": "<a href=”style.css”>",
         "11": "tanda bintang (*)",
         "12": "1",
         "13": "tanda pagar (#)",
         "14": "// komentar //",
         "15": "background-img:  src(\"background.gif\");",
         "16": "nilai padding bagian bawah = 40 px",
         "17": "1",
         "18": "1",
         "19": 1,
         "2": "1",
         "20": "1",
         "21": "1",
         "22": "2",
         "23": "2",
         "3": "<img href=”image.png”>",
         "4": "1",
         "5": "2",
         "6": "1",
         "7": "1",
         "8": "1",
         "9": "1",
         "Mata Kuliah": "DPSI C",
         "NIM": 215150701111003,
         "Nama Mahasiswa": "Ghifari Adil Ruchiyat",
         "Timestamp": "4/18/2022 14:07:37",
         "_deepnote_index_column": 1
        },
        {
         "1": "1",
         "10": "1",
         "11": "titik (.)",
         "12": "1",
         "13": "1",
         "14": "1",
         "15": "1",
         "16": "2",
         "17": "1",
         "18": "1",
         "19": 1,
         "2": "1",
         "20": "1",
         "21": "1",
         "22": "Option 5",
         "23": "<div> dgn class bernama \"row\" terdapat sebuah <div> dgn class yang bernama \"col-md-2 col-sm-4 col-xs-6\"",
         "3": "1",
         "4": "1",
         "5": "2",
         "6": "1",
         "7": "1",
         "8": "1",
         "9": "1",
         "Mata Kuliah": "DPSI C",
         "NIM": 215150701111032,
         "Nama Mahasiswa": "Redomeire",
         "Timestamp": "4/18/2022 14:07:43",
         "_deepnote_index_column": 2
        },
        {
         "1": "1",
         "10": "1",
         "11": "1",
         "12": "at sign (@)",
         "13": "1",
         "14": "1",
         "15": "1",
         "16": "2",
         "17": "tag <style> yang diletakkan di dalam tag <body>",
         "18": "1",
         "19": 1,
         "2": "1",
         "20": "tag <style> yang diletakkan di dalam tag <body>",
         "21": "1",
         "22": "2",
         "23": "2",
         "3": "1",
         "4": "1",
         "5": "2",
         "6": "1",
         "7": "1",
         "8": "1",
         "9": "1",
         "Mata Kuliah": "DPSI C",
         "NIM": 215150701111024,
         "Nama Mahasiswa": "Danuar Wiranata",
         "Timestamp": "4/18/2022 14:08:09",
         "_deepnote_index_column": 3
        },
        {
         "1": "1",
         "10": "<link url=”style.css”>",
         "11": "nan",
         "12": "tanda pagar (#)",
         "13": "1",
         "14": "1",
         "15": "background-image: background.gif;",
         "16": "nilai padding bagian kiri = 10 px",
         "17": "1",
         "18": "1",
         "19": 1,
         "2": "1",
         "20": "1",
         "21": "1",
         "22": "nan",
         "23": "<div> dgn class bernama \"row\" terdapat sebuah <div> dgn class yang bernama \"col-md-2 col-sm-4 col-xs-6\"",
         "3": "1",
         "4": "1",
         "5": "2",
         "6": "1",
         "7": "1",
         "8": "1",
         "9": "1",
         "Mata Kuliah": "DPSI C",
         "NIM": 215150701111005,
         "Nama Mahasiswa": "Danish Alif Arsan",
         "Timestamp": "4/18/2022 14:08:14",
         "_deepnote_index_column": 4
        },
        {
         "1": "1",
         "10": "<a url=”style.css”>",
         "11": "titik (.)",
         "12": "titik (.)",
         "13": "titik dua (:)",
         "14": "// komentar //",
         "15": "background: img(background.gif);",
         "16": "nilai padding bagian bawah = 40 px",
         "17": "tag <script> yang diletakkan di dalam tag <head>",
         "18": "div {text: center;}",
         "19": 1,
         "2": "1",
         "20": "tag <style> yang diletakkan di dalam tag <div>",
         "21": "div {text: center;}",
         "22": "2",
         "23": "2",
         "3": "1",
         "4": "1",
         "5": "2",
         "6": "1",
         "7": "1",
         "8": "1",
         "9": "/* komentar */",
         "Mata Kuliah": "DPSI C",
         "NIM": 215150701111013,
         "Nama Mahasiswa": "Muhammad Dayfit Al Rashad ",
         "Timestamp": "4/18/2022 14:08:40",
         "_deepnote_index_column": 5
        },
        {
         "1": "1",
         "10": "<a href=”style.css”>",
         "11": "titik dua (:)",
         "12": "tanda pagar (#)",
         "13": "1",
         "14": "<!-- komentar -->",
         "15": "background-img:  src(\"background.gif\");",
         "16": "2",
         "17": "1",
         "18": "1",
         "19": 1,
         "2": "1",
         "20": "1",
         "21": "1",
         "22": "Option 5",
         "23": "2",
         "3": "1",
         "4": "1",
         "5": "<link href=”http://my-blog.com”> Read more </link>",
         "6": "1",
         "7": "<ul>",
         "8": "<ol>",
         "9": "1",
         "Mata Kuliah": "DPSI C",
         "NIM": 215150701111004,
         "Nama Mahasiswa": "Bagas Meganata",
         "Timestamp": "4/18/2022 14:08:50",
         "_deepnote_index_column": 6
        },
        {
         "1": "<BODY>",
         "10": "<link url=”style.css”>",
         "11": "nan",
         "12": "titik (.)",
         "13": "1",
         "14": "<!-- komentar -->",
         "15": "background-img: background.gif;",
         "16": "nilai padding bagian kiri = 10 px",
         "17": "tag <script> yang diletakkan di dalam tag <body>",
         "18": "1",
         "19": 1,
         "2": "<HTML>",
         "20": "tag <style> yang diletakkan di dalam tag <body>",
         "21": "div {text-display: center;}",
         "22": "Option 1",
         "23": "<div> dgn class bernama \"row\" terdapat sebuah <div> dgn class yang bernama \"col-md-2 col-sm-4 col-xs-6\"",
         "3": "1",
         "4": "1",
         "5": "<link href=”http://my-blog.com”> Read more </link>",
         "6": "1",
         "7": "<dl>",
         "8": "<ol>",
         "9": "1",
         "Mata Kuliah": "DPSI C",
         "NIM": 215150701111019,
         "Nama Mahasiswa": "Aulia Heppy Cahya Sudjianto",
         "Timestamp": "4/18/2022 14:08:57",
         "_deepnote_index_column": 7
        },
        {
         "1": "<BODY>",
         "10": "1",
         "11": "1",
         "12": "titik (.)",
         "13": "titik dua (:)",
         "14": "<!-- komentar -->",
         "15": "1",
         "16": "2",
         "17": "tag <style> yang diletakkan di dalam tag <body>",
         "18": "div {text-display: center;}",
         "19": 1,
         "2": "<HTML>",
         "20": "tag <script> yang diletakkan di dalam tag <body>",
         "21": "div {text-display: center;}",
         "22": "2",
         "23": "terdapat tiga <div>: <div> pertama ditampilkan selebar 2 kolom pada layar ukuran medium, <div> kedua selebar 4 kolom pada layar ukuran small dan <div> ketiga selebar 6 kolom pada layar ukuran extra small.",
         "3": "<img href=”image.png”>",
         "4": "1",
         "5": "<link href=”http://my-blog.com”> Read more </link>",
         "6": "1",
         "7": "<ul>",
         "8": "<ol>",
         "9": "1",
         "Mata Kuliah": "DPSI C",
         "NIM": 215150701111031,
         "Nama Mahasiswa": "Firda Kusumamawardhani",
         "Timestamp": "4/18/2022 14:08:58",
         "_deepnote_index_column": 8
        },
        {
         "1": "1",
         "10": "1",
         "11": "titik dua (:)",
         "12": "titik dua (:)",
         "13": "1",
         "14": "<!-- komentar -->",
         "15": "background-img:  src(\"background.gif\");",
         "16": "nilai padding bagian atas = 40 px",
         "17": "tag <script> yang diletakkan di dalam tag <head>",
         "18": "1",
         "19": 1,
         "2": "1",
         "20": "tag <style> yang diletakkan di dalam tag <div>",
         "21": "1",
         "22": "Option 3",
         "23": "terdapat tiga <div>: <div> pertama ditampilkan selebar 2 kolom pada layar ukuran medium, <div> kedua selebar 4 kolom pada layar ukuran small dan <div> ketiga selebar 6 kolom pada layar ukuran extra small.",
         "3": "1",
         "4": "1",
         "5": "2",
         "6": "1",
         "7": "1",
         "8": "1",
         "9": "1",
         "Mata Kuliah": "DPSI C",
         "NIM": 215150701111026,
         "Nama Mahasiswa": "Erwin Marbinoto Tamba",
         "Timestamp": "4/18/2022 14:09:04",
         "_deepnote_index_column": 9
        }
       ]
      },
      "text/html": [
       "<div>\n",
       "<style scoped>\n",
       "    .dataframe tbody tr th:only-of-type {\n",
       "        vertical-align: middle;\n",
       "    }\n",
       "\n",
       "    .dataframe tbody tr th {\n",
       "        vertical-align: top;\n",
       "    }\n",
       "\n",
       "    .dataframe thead th {\n",
       "        text-align: right;\n",
       "    }\n",
       "</style>\n",
       "<table border=\"1\" class=\"dataframe\">\n",
       "  <thead>\n",
       "    <tr style=\"text-align: right;\">\n",
       "      <th></th>\n",
       "      <th>Timestamp</th>\n",
       "      <th>Nama Mahasiswa</th>\n",
       "      <th>NIM</th>\n",
       "      <th>Mata Kuliah</th>\n",
       "      <th>1</th>\n",
       "      <th>2</th>\n",
       "      <th>3</th>\n",
       "      <th>4</th>\n",
       "      <th>5</th>\n",
       "      <th>6</th>\n",
       "      <th>...</th>\n",
       "      <th>14</th>\n",
       "      <th>15</th>\n",
       "      <th>16</th>\n",
       "      <th>17</th>\n",
       "      <th>18</th>\n",
       "      <th>19</th>\n",
       "      <th>20</th>\n",
       "      <th>21</th>\n",
       "      <th>22</th>\n",
       "      <th>23</th>\n",
       "    </tr>\n",
       "  </thead>\n",
       "  <tbody>\n",
       "    <tr>\n",
       "      <th>0</th>\n",
       "      <td>4/18/2022 14:06:17</td>\n",
       "      <td>Irfan Hanif Habibi</td>\n",
       "      <td>215150701111025</td>\n",
       "      <td>DPSI C</td>\n",
       "      <td>1</td>\n",
       "      <td>1</td>\n",
       "      <td>1</td>\n",
       "      <td>1</td>\n",
       "      <td>2</td>\n",
       "      <td>1</td>\n",
       "      <td>...</td>\n",
       "      <td>// komentar //</td>\n",
       "      <td>background-image: background.gif;</td>\n",
       "      <td>nilai padding bagian bawah = 40 px</td>\n",
       "      <td>tag &lt;style&gt; yang diletakkan di dalam tag &lt;body&gt;</td>\n",
       "      <td>1</td>\n",
       "      <td>1</td>\n",
       "      <td>1</td>\n",
       "      <td>1</td>\n",
       "      <td>2</td>\n",
       "      <td>&lt;div&gt; ditampilkan selebar 2 kolom pada layar u...</td>\n",
       "    </tr>\n",
       "    <tr>\n",
       "      <th>1</th>\n",
       "      <td>4/18/2022 14:07:37</td>\n",
       "      <td>Ghifari Adil Ruchiyat</td>\n",
       "      <td>215150701111003</td>\n",
       "      <td>DPSI C</td>\n",
       "      <td>1</td>\n",
       "      <td>1</td>\n",
       "      <td>&lt;img href=”image.png”&gt;</td>\n",
       "      <td>1</td>\n",
       "      <td>2</td>\n",
       "      <td>1</td>\n",
       "      <td>...</td>\n",
       "      <td>// komentar //</td>\n",
       "      <td>background-img:  src(\"background.gif\");</td>\n",
       "      <td>nilai padding bagian bawah = 40 px</td>\n",
       "      <td>1</td>\n",
       "      <td>1</td>\n",
       "      <td>1</td>\n",
       "      <td>1</td>\n",
       "      <td>1</td>\n",
       "      <td>2</td>\n",
       "      <td>2</td>\n",
       "    </tr>\n",
       "    <tr>\n",
       "      <th>2</th>\n",
       "      <td>4/18/2022 14:07:43</td>\n",
       "      <td>Redomeire</td>\n",
       "      <td>215150701111032</td>\n",
       "      <td>DPSI C</td>\n",
       "      <td>1</td>\n",
       "      <td>1</td>\n",
       "      <td>1</td>\n",
       "      <td>1</td>\n",
       "      <td>2</td>\n",
       "      <td>1</td>\n",
       "      <td>...</td>\n",
       "      <td>1</td>\n",
       "      <td>1</td>\n",
       "      <td>2</td>\n",
       "      <td>1</td>\n",
       "      <td>1</td>\n",
       "      <td>1</td>\n",
       "      <td>1</td>\n",
       "      <td>1</td>\n",
       "      <td>Option 5</td>\n",
       "      <td>&lt;div&gt; dgn class bernama \"row\" terdapat sebuah ...</td>\n",
       "    </tr>\n",
       "    <tr>\n",
       "      <th>3</th>\n",
       "      <td>4/18/2022 14:08:09</td>\n",
       "      <td>Danuar Wiranata</td>\n",
       "      <td>215150701111024</td>\n",
       "      <td>DPSI C</td>\n",
       "      <td>1</td>\n",
       "      <td>1</td>\n",
       "      <td>1</td>\n",
       "      <td>1</td>\n",
       "      <td>2</td>\n",
       "      <td>1</td>\n",
       "      <td>...</td>\n",
       "      <td>1</td>\n",
       "      <td>1</td>\n",
       "      <td>2</td>\n",
       "      <td>tag &lt;style&gt; yang diletakkan di dalam tag &lt;body&gt;</td>\n",
       "      <td>1</td>\n",
       "      <td>1</td>\n",
       "      <td>tag &lt;style&gt; yang diletakkan di dalam tag &lt;body&gt;</td>\n",
       "      <td>1</td>\n",
       "      <td>2</td>\n",
       "      <td>2</td>\n",
       "    </tr>\n",
       "    <tr>\n",
       "      <th>4</th>\n",
       "      <td>4/18/2022 14:08:14</td>\n",
       "      <td>Danish Alif Arsan</td>\n",
       "      <td>215150701111005</td>\n",
       "      <td>DPSI C</td>\n",
       "      <td>1</td>\n",
       "      <td>1</td>\n",
       "      <td>1</td>\n",
       "      <td>1</td>\n",
       "      <td>2</td>\n",
       "      <td>1</td>\n",
       "      <td>...</td>\n",
       "      <td>1</td>\n",
       "      <td>background-image: background.gif;</td>\n",
       "      <td>nilai padding bagian kiri = 10 px</td>\n",
       "      <td>1</td>\n",
       "      <td>1</td>\n",
       "      <td>1</td>\n",
       "      <td>1</td>\n",
       "      <td>1</td>\n",
       "      <td>NaN</td>\n",
       "      <td>&lt;div&gt; dgn class bernama \"row\" terdapat sebuah ...</td>\n",
       "    </tr>\n",
       "    <tr>\n",
       "      <th>...</th>\n",
       "      <td>...</td>\n",
       "      <td>...</td>\n",
       "      <td>...</td>\n",
       "      <td>...</td>\n",
       "      <td>...</td>\n",
       "      <td>...</td>\n",
       "      <td>...</td>\n",
       "      <td>...</td>\n",
       "      <td>...</td>\n",
       "      <td>...</td>\n",
       "      <td>...</td>\n",
       "      <td>...</td>\n",
       "      <td>...</td>\n",
       "      <td>...</td>\n",
       "      <td>...</td>\n",
       "      <td>...</td>\n",
       "      <td>...</td>\n",
       "      <td>...</td>\n",
       "      <td>...</td>\n",
       "      <td>...</td>\n",
       "      <td>...</td>\n",
       "    </tr>\n",
       "    <tr>\n",
       "      <th>309</th>\n",
       "      <td>5/25/2022 11:36:09</td>\n",
       "      <td>Muhammad Rafi Aryadinata</td>\n",
       "      <td>205150407111037</td>\n",
       "      <td>ADSI E</td>\n",
       "      <td>1</td>\n",
       "      <td>1</td>\n",
       "      <td>1</td>\n",
       "      <td>1</td>\n",
       "      <td>2</td>\n",
       "      <td>1</td>\n",
       "      <td>...</td>\n",
       "      <td>1</td>\n",
       "      <td>1</td>\n",
       "      <td>2</td>\n",
       "      <td>1</td>\n",
       "      <td>1</td>\n",
       "      <td>1</td>\n",
       "      <td>1</td>\n",
       "      <td>1</td>\n",
       "      <td>2</td>\n",
       "      <td>Tidak ada jawaban yang benar</td>\n",
       "    </tr>\n",
       "    <tr>\n",
       "      <th>310</th>\n",
       "      <td>5/31/2022 1:12:01</td>\n",
       "      <td>Leonard Samuel Pakpahan</td>\n",
       "      <td>205150707111019</td>\n",
       "      <td>IESI D</td>\n",
       "      <td>1</td>\n",
       "      <td>&lt;HTML&gt;</td>\n",
       "      <td>1</td>\n",
       "      <td>&lt;h1&gt;</td>\n",
       "      <td>2</td>\n",
       "      <td>1</td>\n",
       "      <td>...</td>\n",
       "      <td>1</td>\n",
       "      <td>1</td>\n",
       "      <td>2</td>\n",
       "      <td>1</td>\n",
       "      <td>div {text-position: center;}</td>\n",
       "      <td>1</td>\n",
       "      <td>tag &lt;style&gt; yang diletakkan di dalam tag &lt;body&gt;</td>\n",
       "      <td>div {text-position: center;}</td>\n",
       "      <td>Option 1</td>\n",
       "      <td>Tidak ada jawaban yang benar</td>\n",
       "    </tr>\n",
       "    <tr>\n",
       "      <th>311</th>\n",
       "      <td>6/2/2022 11:52:54</td>\n",
       "      <td>Kevin Alif Mahendra</td>\n",
       "      <td>195150200111063</td>\n",
       "      <td>PPM F</td>\n",
       "      <td>1</td>\n",
       "      <td>1</td>\n",
       "      <td>1</td>\n",
       "      <td>&lt;h12&gt;</td>\n",
       "      <td>&lt;link src=”http://my-blog.com”&gt; Read more &lt;/link&gt;</td>\n",
       "      <td>&lt;line&gt;</td>\n",
       "      <td>...</td>\n",
       "      <td>1</td>\n",
       "      <td>1</td>\n",
       "      <td>2</td>\n",
       "      <td>1</td>\n",
       "      <td>1</td>\n",
       "      <td>1</td>\n",
       "      <td>1</td>\n",
       "      <td>1</td>\n",
       "      <td>2</td>\n",
       "      <td>2</td>\n",
       "    </tr>\n",
       "    <tr>\n",
       "      <th>312</th>\n",
       "      <td>6/14/2022 13:18:22</td>\n",
       "      <td>Rif'atul Ilmi</td>\n",
       "      <td>205150701111024</td>\n",
       "      <td>IESI D</td>\n",
       "      <td>1</td>\n",
       "      <td>&lt;HTML&gt;</td>\n",
       "      <td>1</td>\n",
       "      <td>&lt;h12&gt;</td>\n",
       "      <td>2</td>\n",
       "      <td>1</td>\n",
       "      <td>...</td>\n",
       "      <td>1</td>\n",
       "      <td>1</td>\n",
       "      <td>2</td>\n",
       "      <td>1</td>\n",
       "      <td>1</td>\n",
       "      <td>1</td>\n",
       "      <td>1</td>\n",
       "      <td>1</td>\n",
       "      <td>2</td>\n",
       "      <td>terdapat tiga &lt;div&gt;: &lt;div&gt; pertama ditampilkan...</td>\n",
       "    </tr>\n",
       "    <tr>\n",
       "      <th>313</th>\n",
       "      <td>6/25/2022 22:31:52</td>\n",
       "      <td>Irsyad Gema Adzani</td>\n",
       "      <td>175150200111049</td>\n",
       "      <td>PPM F</td>\n",
       "      <td>&lt;HTML&gt;</td>\n",
       "      <td>&lt;HTML&gt;</td>\n",
       "      <td>1</td>\n",
       "      <td>&lt;h12&gt;</td>\n",
       "      <td>2</td>\n",
       "      <td>1</td>\n",
       "      <td>...</td>\n",
       "      <td>&lt;!-- komentar --&gt;</td>\n",
       "      <td>background-img:  src(\"background.gif\");</td>\n",
       "      <td>2</td>\n",
       "      <td>1</td>\n",
       "      <td>1</td>\n",
       "      <td>1</td>\n",
       "      <td>1</td>\n",
       "      <td>1</td>\n",
       "      <td>2</td>\n",
       "      <td>&lt;div&gt; ditampilkan selebar 2 kolom pada layar u...</td>\n",
       "    </tr>\n",
       "  </tbody>\n",
       "</table>\n",
       "<p>314 rows × 27 columns</p>\n",
       "</div>"
      ],
      "text/plain": [
       "              Timestamp            Nama Mahasiswa              NIM  \\\n",
       "0    4/18/2022 14:06:17        Irfan Hanif Habibi  215150701111025   \n",
       "1    4/18/2022 14:07:37     Ghifari Adil Ruchiyat  215150701111003   \n",
       "2    4/18/2022 14:07:43                 Redomeire  215150701111032   \n",
       "3    4/18/2022 14:08:09           Danuar Wiranata  215150701111024   \n",
       "4    4/18/2022 14:08:14         Danish Alif Arsan  215150701111005   \n",
       "..                  ...                       ...              ...   \n",
       "309  5/25/2022 11:36:09  Muhammad Rafi Aryadinata  205150407111037   \n",
       "310   5/31/2022 1:12:01   Leonard Samuel Pakpahan  205150707111019   \n",
       "311   6/2/2022 11:52:54       Kevin Alif Mahendra  195150200111063   \n",
       "312  6/14/2022 13:18:22             Rif'atul Ilmi  205150701111024   \n",
       "313  6/25/2022 22:31:52        Irsyad Gema Adzani  175150200111049   \n",
       "\n",
       "    Mata Kuliah       1       2                       3      4  \\\n",
       "0        DPSI C       1       1                       1      1   \n",
       "1        DPSI C       1       1  <img href=”image.png”>      1   \n",
       "2        DPSI C       1       1                       1      1   \n",
       "3        DPSI C       1       1                       1      1   \n",
       "4        DPSI C       1       1                       1      1   \n",
       "..          ...     ...     ...                     ...    ...   \n",
       "309      ADSI E       1       1                       1      1   \n",
       "310      IESI D       1  <HTML>                       1   <h1>   \n",
       "311       PPM F       1       1                       1  <h12>   \n",
       "312      IESI D       1  <HTML>                       1  <h12>   \n",
       "313       PPM F  <HTML>  <HTML>                       1  <h12>   \n",
       "\n",
       "                                                     5       6  ...  \\\n",
       "0                                                    2       1  ...   \n",
       "1                                                    2       1  ...   \n",
       "2                                                    2       1  ...   \n",
       "3                                                    2       1  ...   \n",
       "4                                                    2       1  ...   \n",
       "..                                                 ...     ...  ...   \n",
       "309                                                  2       1  ...   \n",
       "310                                                  2       1  ...   \n",
       "311  <link src=”http://my-blog.com”> Read more </link>  <line>  ...   \n",
       "312                                                  2       1  ...   \n",
       "313                                                  2       1  ...   \n",
       "\n",
       "                    14                                       15  \\\n",
       "0       // komentar //        background-image: background.gif;   \n",
       "1       // komentar //  background-img:  src(\"background.gif\");   \n",
       "2                    1                                        1   \n",
       "3                    1                                        1   \n",
       "4                    1        background-image: background.gif;   \n",
       "..                 ...                                      ...   \n",
       "309                  1                                        1   \n",
       "310                  1                                        1   \n",
       "311                  1                                        1   \n",
       "312                  1                                        1   \n",
       "313  <!-- komentar -->  background-img:  src(\"background.gif\");   \n",
       "\n",
       "                                     16  \\\n",
       "0    nilai padding bagian bawah = 40 px   \n",
       "1    nilai padding bagian bawah = 40 px   \n",
       "2                                     2   \n",
       "3                                     2   \n",
       "4     nilai padding bagian kiri = 10 px   \n",
       "..                                  ...   \n",
       "309                                   2   \n",
       "310                                   2   \n",
       "311                                   2   \n",
       "312                                   2   \n",
       "313                                   2   \n",
       "\n",
       "                                                  17  \\\n",
       "0    tag <style> yang diletakkan di dalam tag <body>   \n",
       "1                                                  1   \n",
       "2                                                  1   \n",
       "3    tag <style> yang diletakkan di dalam tag <body>   \n",
       "4                                                  1   \n",
       "..                                               ...   \n",
       "309                                                1   \n",
       "310                                                1   \n",
       "311                                                1   \n",
       "312                                                1   \n",
       "313                                                1   \n",
       "\n",
       "                               18 19  \\\n",
       "0                               1  1   \n",
       "1                               1  1   \n",
       "2                               1  1   \n",
       "3                               1  1   \n",
       "4                               1  1   \n",
       "..                            ... ..   \n",
       "309                             1  1   \n",
       "310  div {text-position: center;}  1   \n",
       "311                             1  1   \n",
       "312                             1  1   \n",
       "313                             1  1   \n",
       "\n",
       "                                                  20  \\\n",
       "0                                                  1   \n",
       "1                                                  1   \n",
       "2                                                  1   \n",
       "3    tag <style> yang diletakkan di dalam tag <body>   \n",
       "4                                                  1   \n",
       "..                                               ...   \n",
       "309                                                1   \n",
       "310  tag <style> yang diletakkan di dalam tag <body>   \n",
       "311                                                1   \n",
       "312                                                1   \n",
       "313                                                1   \n",
       "\n",
       "                               21        22  \\\n",
       "0                               1         2   \n",
       "1                               1         2   \n",
       "2                               1  Option 5   \n",
       "3                               1         2   \n",
       "4                               1       NaN   \n",
       "..                            ...       ...   \n",
       "309                             1         2   \n",
       "310  div {text-position: center;}  Option 1   \n",
       "311                             1         2   \n",
       "312                             1         2   \n",
       "313                             1         2   \n",
       "\n",
       "                                                    23  \n",
       "0    <div> ditampilkan selebar 2 kolom pada layar u...  \n",
       "1                                                    2  \n",
       "2    <div> dgn class bernama \"row\" terdapat sebuah ...  \n",
       "3                                                    2  \n",
       "4    <div> dgn class bernama \"row\" terdapat sebuah ...  \n",
       "..                                                 ...  \n",
       "309                       Tidak ada jawaban yang benar  \n",
       "310                       Tidak ada jawaban yang benar  \n",
       "311                                                  2  \n",
       "312  terdapat tiga <div>: <div> pertama ditampilkan...  \n",
       "313  <div> ditampilkan selebar 2 kolom pada layar u...  \n",
       "\n",
       "[314 rows x 27 columns]"
      ]
     },
     "execution_count": 3,
     "metadata": {},
     "output_type": "execute_result"
    }
   ],
   "source": [
    "pretest"
   ]
  },
  {
   "cell_type": "code",
   "execution_count": null,
   "metadata": {
    "cell_id": "2d9b3454d4cc425f87e75277993c7cad",
    "deepnote_cell_height": 610,
    "deepnote_cell_type": "code",
    "deepnote_to_be_reexecuted": false,
    "execution_millis": 67,
    "execution_start": 1659931844903,
    "source_hash": "4f72ee6a",
    "tags": []
   },
   "outputs": [
    {
     "data": {
      "application/vnd.deepnote.dataframe.v3+json": {
       "column_count": 27,
       "columns": [
        {
         "dtype": "object",
         "name": "Timestamp",
         "stats": {
          "categories": [
           {
            "count": 3,
            "name": "4/27/2022 22:29:22"
           },
           {
            "count": 2,
            "name": "4/27/2022 22:29:21"
           },
           {
            "count": 237,
            "name": "235 others"
           }
          ],
          "nan_count": 0,
          "unique_count": 237
         }
        },
        {
         "dtype": "object",
         "name": "Nama Mahasiswa",
         "stats": {
          "categories": [
           {
            "count": 2,
            "name": "Dimas Agung Gumelar"
           },
           {
            "count": 2,
            "name": "Noverdi Anugrah Ramadhan"
           },
           {
            "count": 238,
            "name": "234 others"
           }
          ],
          "nan_count": 0,
          "unique_count": 236
         }
        },
        {
         "dtype": "int64",
         "name": "NIM",
         "stats": {
          "histogram": [
           {
            "bin_end": 39978588811031.4,
            "bin_start": 20515020111030,
            "count": 3
           },
           {
            "bin_end": 59442157511032.8,
            "bin_start": 39978588811031.4,
            "count": 0
           },
           {
            "bin_end": 78905726211034.19,
            "bin_start": 59442157511032.8,
            "count": 0
           },
           {
            "bin_end": 98369294911035.6,
            "bin_start": 78905726211034.19,
            "count": 0
           },
           {
            "bin_end": 117832863611037,
            "bin_start": 98369294911035.6,
            "count": 1
           },
           {
            "bin_end": 137296432311038.39,
            "bin_start": 117832863611037,
            "count": 0
           },
           {
            "bin_end": 156760001011039.78,
            "bin_start": 137296432311038.39,
            "count": 0
           },
           {
            "bin_end": 176223569711041.2,
            "bin_start": 156760001011039.78,
            "count": 2
           },
           {
            "bin_end": 195687138411042.6,
            "bin_start": 176223569711041.2,
            "count": 18
           },
           {
            "bin_end": 215150707111044,
            "bin_start": 195687138411042.6,
            "count": 218
           }
          ],
          "max": "215150707111044",
          "min": "20515020111030",
          "nan_count": 0,
          "unique_count": 234
         }
        },
        {
         "dtype": "object",
         "name": "Mata Kuliah",
         "stats": {
          "categories": [
           {
            "count": 32,
            "name": "DPSI C"
           },
           {
            "count": 30,
            "name": "IESI D"
           },
           {
            "count": 180,
            "name": "9 others"
           }
          ],
          "nan_count": 0,
          "unique_count": 11
         }
        },
        {
         "dtype": "object",
         "name": "1",
         "stats": {
          "categories": [
           {
            "count": 203,
            "name": "1"
           },
           {
            "count": 37,
            "name": "4 others"
           },
           {
            "count": 2,
            "name": "Missing"
           }
          ],
          "nan_count": 2,
          "unique_count": 5
         }
        },
        {
         "dtype": "object",
         "name": "2",
         "stats": {
          "categories": [
           {
            "count": 190,
            "name": "1"
           },
           {
            "count": 49,
            "name": "3 others"
           },
           {
            "count": 3,
            "name": "Missing"
           }
          ],
          "nan_count": 3,
          "unique_count": 4
         }
        },
        {
         "dtype": "object",
         "name": "3",
         "stats": {
          "categories": [
           {
            "count": 231,
            "name": "1"
           },
           {
            "count": 8,
            "name": "3 others"
           },
           {
            "count": 3,
            "name": "Missing"
           }
          ],
          "nan_count": 3,
          "unique_count": 4
         }
        },
        {
         "dtype": "object",
         "name": "4",
         "stats": {
          "categories": [
           {
            "count": 199,
            "name": "1"
           },
           {
            "count": 41,
            "name": "4 others"
           },
           {
            "count": 2,
            "name": "Missing"
           }
          ],
          "nan_count": 2,
          "unique_count": 5
         }
        },
        {
         "dtype": "object",
         "name": "5",
         "stats": {
          "categories": [
           {
            "count": 226,
            "name": "2"
           },
           {
            "count": 14,
            "name": "4 others"
           },
           {
            "count": 2,
            "name": "Missing"
           }
          ],
          "nan_count": 2,
          "unique_count": 5
         }
        },
        {
         "dtype": "object",
         "name": "6",
         "stats": {
          "categories": [
           {
            "count": 232,
            "name": "1"
           },
           {
            "count": 7,
            "name": "4 others"
           },
           {
            "count": 3,
            "name": "Missing"
           }
          ],
          "nan_count": 3,
          "unique_count": 5
         }
        },
        {
         "dtype": "object",
         "name": "7",
         "stats": {
          "categories": [
           {
            "count": 233,
            "name": "1"
           },
           {
            "count": 5,
            "name": "2 others"
           },
           {
            "count": 4,
            "name": "Missing"
           }
          ],
          "nan_count": 4,
          "unique_count": 3
         }
        },
        {
         "dtype": "object",
         "name": "8",
         "stats": {
          "categories": [
           {
            "count": 234,
            "name": "1"
           },
           {
            "count": 6,
            "name": "2 others"
           },
           {
            "count": 2,
            "name": "Missing"
           }
          ],
          "nan_count": 2,
          "unique_count": 3
         }
        },
        {
         "dtype": "object",
         "name": "9",
         "stats": {
          "categories": [
           {
            "count": 225,
            "name": "1"
           },
           {
            "count": 15,
            "name": "4 others"
           },
           {
            "count": 2,
            "name": "Missing"
           }
          ],
          "nan_count": 2,
          "unique_count": 5
         }
        },
        {
         "dtype": "object",
         "name": "10",
         "stats": {
          "categories": [
           {
            "count": 200,
            "name": "1"
           },
           {
            "count": 39,
            "name": "4 others"
           },
           {
            "count": 3,
            "name": "Missing"
           }
          ],
          "nan_count": 3,
          "unique_count": 5
         }
        },
        {
         "dtype": "object",
         "name": "11",
         "stats": {
          "categories": [
           {
            "count": 89,
            "name": "tanda bintang (*)"
           },
           {
            "count": 137,
            "name": "4 others"
           },
           {
            "count": 16,
            "name": "Missing"
           }
          ],
          "nan_count": 16,
          "unique_count": 5
         }
        },
        {
         "dtype": "object",
         "name": "12",
         "stats": {
          "categories": [
           {
            "count": 182,
            "name": "1"
           },
           {
            "count": 56,
            "name": "4 others"
           },
           {
            "count": 4,
            "name": "Missing"
           }
          ],
          "nan_count": 4,
          "unique_count": 5
         }
        },
        {
         "dtype": "object",
         "name": "13",
         "stats": {
          "categories": [
           {
            "count": 216,
            "name": "1"
           },
           {
            "count": 23,
            "name": "4 others"
           },
           {
            "count": 3,
            "name": "Missing"
           }
          ],
          "nan_count": 3,
          "unique_count": 5
         }
        },
        {
         "dtype": "object",
         "name": "14",
         "stats": {
          "categories": [
           {
            "count": 176,
            "name": "1"
           },
           {
            "count": 64,
            "name": "3 others"
           },
           {
            "count": 2,
            "name": "Missing"
           }
          ],
          "nan_count": 2,
          "unique_count": 4
         }
        },
        {
         "dtype": "object",
         "name": "15",
         "stats": {
          "categories": [
           {
            "count": 180,
            "name": "1"
           },
           {
            "count": 58,
            "name": "4 others"
           },
           {
            "count": 4,
            "name": "Missing"
           }
          ],
          "nan_count": 4,
          "unique_count": 5
         }
        },
        {
         "dtype": "object",
         "name": "16",
         "stats": {
          "categories": [
           {
            "count": 209,
            "name": "2"
           },
           {
            "count": 28,
            "name": "4 others"
           },
           {
            "count": 5,
            "name": "Missing"
           }
          ],
          "nan_count": 5,
          "unique_count": 5
         }
        },
        {
         "dtype": "object",
         "name": "17",
         "stats": {
          "categories": [
           {
            "count": 175,
            "name": "1"
           },
           {
            "count": 65,
            "name": "4 others"
           },
           {
            "count": 2,
            "name": "Missing"
           }
          ],
          "nan_count": 2,
          "unique_count": 5
         }
        },
        {
         "dtype": "object",
         "name": "18",
         "stats": {
          "categories": [
           {
            "count": 229,
            "name": "1"
           },
           {
            "count": 11,
            "name": "3 others"
           },
           {
            "count": 2,
            "name": "Missing"
           }
          ],
          "nan_count": 2,
          "unique_count": 4
         }
        },
        {
         "dtype": "int64",
         "name": "19",
         "stats": {
          "histogram": [
           {
            "bin_end": 0.6,
            "bin_start": 0.5,
            "count": 0
           },
           {
            "bin_end": 0.7,
            "bin_start": 0.6,
            "count": 0
           },
           {
            "bin_end": 0.8,
            "bin_start": 0.7,
            "count": 0
           },
           {
            "bin_end": 0.9,
            "bin_start": 0.8,
            "count": 0
           },
           {
            "bin_end": 1,
            "bin_start": 0.9,
            "count": 0
           },
           {
            "bin_end": 1.1,
            "bin_start": 1,
            "count": 242
           },
           {
            "bin_end": 1.2000000000000002,
            "bin_start": 1.1,
            "count": 0
           },
           {
            "bin_end": 1.3,
            "bin_start": 1.2000000000000002,
            "count": 0
           },
           {
            "bin_end": 1.4,
            "bin_start": 1.3,
            "count": 0
           },
           {
            "bin_end": 1.5,
            "bin_start": 1.4,
            "count": 0
           }
          ],
          "max": "1",
          "min": "1",
          "nan_count": 0,
          "unique_count": 1
         }
        },
        {
         "dtype": "object",
         "name": "20",
         "stats": {
          "categories": [
           {
            "count": 175,
            "name": "1"
           },
           {
            "count": 64,
            "name": "4 others"
           },
           {
            "count": 3,
            "name": "Missing"
           }
          ],
          "nan_count": 3,
          "unique_count": 5
         }
        },
        {
         "dtype": "object",
         "name": "21",
         "stats": {
          "categories": [
           {
            "count": 227,
            "name": "1"
           },
           {
            "count": 13,
            "name": "4 others"
           },
           {
            "count": 2,
            "name": "Missing"
           }
          ],
          "nan_count": 2,
          "unique_count": 5
         }
        },
        {
         "dtype": "object",
         "name": "22",
         "stats": {
          "categories": [
           {
            "count": 154,
            "name": "2"
           },
           {
            "count": 85,
            "name": "4 others"
           },
           {
            "count": 3,
            "name": "Missing"
           }
          ],
          "nan_count": 3,
          "unique_count": 5
         }
        },
        {
         "dtype": "object",
         "name": "23",
         "stats": {
          "categories": [
           {
            "count": 90,
            "name": "terdapat tiga <div>: <div> pertama ditampilkan selebar 2 kolom pada layar ukuran medium, <div> kedua selebar 4 kolom pada layar ukuran small dan <div> ketiga selebar 6 kolom pada layar ukuran extra small."
           },
           {
            "count": 149,
            "name": "4 others"
           },
           {
            "count": 3,
            "name": "Missing"
           }
          ],
          "nan_count": 3,
          "unique_count": 5
         }
        },
        {
         "dtype": "int64",
         "name": "_deepnote_index_column"
        }
       ],
       "row_count": 242,
       "rows": [
        {
         "1": "1",
         "10": "1",
         "11": "titik (.)",
         "12": "1",
         "13": "1",
         "14": "1",
         "15": "1",
         "16": "2",
         "17": "1",
         "18": "1",
         "19": 1,
         "2": "1",
         "20": "1",
         "21": "1",
         "22": "2",
         "23": "Tidak ada jawaban yang benar",
         "3": "1",
         "4": "1",
         "5": "2",
         "6": "1",
         "7": "1",
         "8": "1",
         "9": "1",
         "Mata Kuliah": "Lainnya",
         "NIM": 205150200111037,
         "Nama Mahasiswa": "Muhamad Fauzan Wahyudi",
         "Timestamp": "4/27/2022 22:25:23",
         "_deepnote_index_column": 0
        },
        {
         "1": "1",
         "10": "1",
         "11": "tanda bintang (*)",
         "12": "1",
         "13": "1",
         "14": "1",
         "15": "1",
         "16": "2",
         "17": "1",
         "18": "1",
         "19": 1,
         "2": "1",
         "20": "1",
         "21": "1",
         "22": "2",
         "23": "terdapat tiga <div>: <div> pertama ditampilkan selebar 2 kolom pada layar ukuran medium, <div> kedua selebar 4 kolom pada layar ukuran small dan <div> ketiga selebar 6 kolom pada layar ukuran extra small.",
         "3": "1",
         "4": "1",
         "5": "2",
         "6": "1",
         "7": "1",
         "8": "1",
         "9": "1",
         "Mata Kuliah": "Lainnya",
         "NIM": 205150200111067,
         "Nama Mahasiswa": "Fito Briantama ",
         "Timestamp": "4/27/2022 22:29:21",
         "_deepnote_index_column": 1
        },
        {
         "1": "1",
         "10": "1",
         "11": "1",
         "12": "1",
         "13": "1",
         "14": "1",
         "15": "1",
         "16": "2",
         "17": "1",
         "18": "1",
         "19": 1,
         "2": "1",
         "20": "1",
         "21": "1",
         "22": "2",
         "23": "terdapat tiga <div>: <div> pertama ditampilkan selebar 2 kolom pada layar ukuran medium, <div> kedua selebar 4 kolom pada layar ukuran small dan <div> ketiga selebar 6 kolom pada layar ukuran extra small.",
         "3": "1",
         "4": "1",
         "5": "2",
         "6": "1",
         "7": "1",
         "8": "1",
         "9": "1",
         "Mata Kuliah": "Lainnya",
         "NIM": 205150200111019,
         "Nama Mahasiswa": "Vincent Revel Aldisa",
         "Timestamp": "4/27/2022 22:29:21",
         "_deepnote_index_column": 2
        },
        {
         "1": "1",
         "10": "1",
         "11": "1",
         "12": "1",
         "13": "1",
         "14": "1",
         "15": "1",
         "16": "2",
         "17": "1",
         "18": "1",
         "19": 1,
         "2": "1",
         "20": "1",
         "21": "1",
         "22": "2",
         "23": "terdapat tiga <div>: <div> pertama ditampilkan selebar 2 kolom pada layar ukuran medium, <div> kedua selebar 4 kolom pada layar ukuran small dan <div> ketiga selebar 6 kolom pada layar ukuran extra small.",
         "3": "1",
         "4": "1",
         "5": "2",
         "6": "1",
         "7": "1",
         "8": "1",
         "9": "1",
         "Mata Kuliah": "Lainnya",
         "NIM": 205150207111012,
         "Nama Mahasiswa": "Aditya Ikhwan Saputro",
         "Timestamp": "4/27/2022 22:29:22",
         "_deepnote_index_column": 3
        },
        {
         "1": "1",
         "10": "1",
         "11": "1",
         "12": "1",
         "13": "1",
         "14": "1",
         "15": "1",
         "16": "2",
         "17": "1",
         "18": "1",
         "19": 1,
         "2": "1",
         "20": "1",
         "21": "1",
         "22": "2",
         "23": "terdapat tiga <div>: <div> pertama ditampilkan selebar 2 kolom pada layar ukuran medium, <div> kedua selebar 4 kolom pada layar ukuran small dan <div> ketiga selebar 6 kolom pada layar ukuran extra small.",
         "3": "1",
         "4": "1",
         "5": "2",
         "6": "1",
         "7": "1",
         "8": "1",
         "9": "1",
         "Mata Kuliah": "Lainnya",
         "NIM": 205150200111014,
         "Nama Mahasiswa": "Muhammad Fadhil Hidayatullah",
         "Timestamp": "4/27/2022 22:29:22",
         "_deepnote_index_column": 4
        },
        {
         "1": "1",
         "10": "1",
         "11": "1",
         "12": "1",
         "13": "1",
         "14": "1",
         "15": "1",
         "16": "nilai padding bagian kanan = 20 px",
         "17": "1",
         "18": "1",
         "19": 1,
         "2": "1",
         "20": "1",
         "21": "1",
         "22": "2",
         "23": "terdapat tiga <div>: <div> pertama ditampilkan selebar 2 kolom pada layar ukuran medium, <div> kedua selebar 4 kolom pada layar ukuran small dan <div> ketiga selebar 6 kolom pada layar ukuran extra small.",
         "3": "1",
         "4": "1",
         "5": "2",
         "6": "1",
         "7": "1",
         "8": "1",
         "9": "1",
         "Mata Kuliah": "Lainnya",
         "NIM": 205150201111016,
         "Nama Mahasiswa": "Bagus Dermawan Mulya",
         "Timestamp": "4/27/2022 22:29:22",
         "_deepnote_index_column": 5
        },
        {
         "1": "1",
         "10": "1",
         "11": "1",
         "12": "1",
         "13": "1",
         "14": "1",
         "15": "1",
         "16": "2",
         "17": "1",
         "18": "1",
         "19": 1,
         "2": "1",
         "20": "1",
         "21": "1",
         "22": "2",
         "23": "terdapat tiga <div>: <div> pertama ditampilkan selebar 2 kolom pada layar ukuran medium, <div> kedua selebar 4 kolom pada layar ukuran small dan <div> ketiga selebar 6 kolom pada layar ukuran extra small.",
         "3": "1",
         "4": "1",
         "5": "2",
         "6": "1",
         "7": "1",
         "8": "1",
         "9": "1",
         "Mata Kuliah": "Lainnya",
         "NIM": 205150200111025,
         "Nama Mahasiswa": "Reyhan Ardiya Yogastama",
         "Timestamp": "4/27/2022 22:29:29",
         "_deepnote_index_column": 6
        },
        {
         "1": "1",
         "10": "1",
         "11": "1",
         "12": "1",
         "13": "1",
         "14": "1",
         "15": "1",
         "16": "2",
         "17": "1",
         "18": "1",
         "19": 1,
         "2": "1",
         "20": "1",
         "21": "1",
         "22": "2",
         "23": "terdapat tiga <div>: <div> pertama ditampilkan selebar 2 kolom pada layar ukuran medium, <div> kedua selebar 4 kolom pada layar ukuran small dan <div> ketiga selebar 6 kolom pada layar ukuran extra small.",
         "3": "1",
         "4": "1",
         "5": "2",
         "6": "1",
         "7": "1",
         "8": "1",
         "9": "1",
         "Mata Kuliah": "Lainnya",
         "NIM": 205150201111002,
         "Nama Mahasiswa": "Wildan Mufid Ramadhan",
         "Timestamp": "4/27/2022 22:29:34",
         "_deepnote_index_column": 7
        },
        {
         "1": "1",
         "10": "1",
         "11": "titik dua (:)",
         "12": "1",
         "13": "1",
         "14": "1",
         "15": "1",
         "16": "2",
         "17": "tag <style> yang diletakkan di dalam tag <div>",
         "18": "1",
         "19": 1,
         "2": "1",
         "20": "tag <style> yang diletakkan di dalam tag <div>",
         "21": "1",
         "22": "2",
         "23": "2",
         "3": "1",
         "4": "1",
         "5": "2",
         "6": "1",
         "7": "1",
         "8": "1",
         "9": "1",
         "Mata Kuliah": "VD",
         "NIM": 195150200111073,
         "Nama Mahasiswa": "Andriko Fajar Prakoso",
         "Timestamp": "4/29/2022 6:56:19",
         "_deepnote_index_column": 8
        },
        {
         "1": "1",
         "10": "1",
         "11": "1",
         "12": "1",
         "13": "1",
         "14": "1",
         "15": "1",
         "16": "2",
         "17": "tag <style> yang diletakkan di dalam tag <body>",
         "18": "1",
         "19": 1,
         "2": "1",
         "20": "tag <script> yang diletakkan di dalam tag <body>",
         "21": "1",
         "22": "Option 5",
         "23": "2",
         "3": "1",
         "4": "1",
         "5": "2",
         "6": "1",
         "7": "1",
         "8": "1",
         "9": "1",
         "Mata Kuliah": "VD",
         "NIM": 195150200111039,
         "Nama Mahasiswa": "Riski Darmawan",
         "Timestamp": "4/29/2022 8:49:57",
         "_deepnote_index_column": 9
        }
       ]
      },
      "text/html": [
       "<div>\n",
       "<style scoped>\n",
       "    .dataframe tbody tr th:only-of-type {\n",
       "        vertical-align: middle;\n",
       "    }\n",
       "\n",
       "    .dataframe tbody tr th {\n",
       "        vertical-align: top;\n",
       "    }\n",
       "\n",
       "    .dataframe thead th {\n",
       "        text-align: right;\n",
       "    }\n",
       "</style>\n",
       "<table border=\"1\" class=\"dataframe\">\n",
       "  <thead>\n",
       "    <tr style=\"text-align: right;\">\n",
       "      <th></th>\n",
       "      <th>Timestamp</th>\n",
       "      <th>Nama Mahasiswa</th>\n",
       "      <th>NIM</th>\n",
       "      <th>Mata Kuliah</th>\n",
       "      <th>1</th>\n",
       "      <th>2</th>\n",
       "      <th>3</th>\n",
       "      <th>4</th>\n",
       "      <th>5</th>\n",
       "      <th>6</th>\n",
       "      <th>...</th>\n",
       "      <th>14</th>\n",
       "      <th>15</th>\n",
       "      <th>16</th>\n",
       "      <th>17</th>\n",
       "      <th>18</th>\n",
       "      <th>19</th>\n",
       "      <th>20</th>\n",
       "      <th>21</th>\n",
       "      <th>22</th>\n",
       "      <th>23</th>\n",
       "    </tr>\n",
       "  </thead>\n",
       "  <tbody>\n",
       "    <tr>\n",
       "      <th>0</th>\n",
       "      <td>4/27/2022 22:25:23</td>\n",
       "      <td>Muhamad Fauzan Wahyudi</td>\n",
       "      <td>205150200111037</td>\n",
       "      <td>Lainnya</td>\n",
       "      <td>1</td>\n",
       "      <td>1</td>\n",
       "      <td>1</td>\n",
       "      <td>1</td>\n",
       "      <td>2</td>\n",
       "      <td>1</td>\n",
       "      <td>...</td>\n",
       "      <td>1</td>\n",
       "      <td>1</td>\n",
       "      <td>2</td>\n",
       "      <td>1</td>\n",
       "      <td>1</td>\n",
       "      <td>1</td>\n",
       "      <td>1</td>\n",
       "      <td>1</td>\n",
       "      <td>2</td>\n",
       "      <td>Tidak ada jawaban yang benar</td>\n",
       "    </tr>\n",
       "    <tr>\n",
       "      <th>1</th>\n",
       "      <td>4/27/2022 22:29:21</td>\n",
       "      <td>Fito Briantama</td>\n",
       "      <td>205150200111067</td>\n",
       "      <td>Lainnya</td>\n",
       "      <td>1</td>\n",
       "      <td>1</td>\n",
       "      <td>1</td>\n",
       "      <td>1</td>\n",
       "      <td>2</td>\n",
       "      <td>1</td>\n",
       "      <td>...</td>\n",
       "      <td>1</td>\n",
       "      <td>1</td>\n",
       "      <td>2</td>\n",
       "      <td>1</td>\n",
       "      <td>1</td>\n",
       "      <td>1</td>\n",
       "      <td>1</td>\n",
       "      <td>1</td>\n",
       "      <td>2</td>\n",
       "      <td>terdapat tiga &lt;div&gt;: &lt;div&gt; pertama ditampilkan...</td>\n",
       "    </tr>\n",
       "    <tr>\n",
       "      <th>2</th>\n",
       "      <td>4/27/2022 22:29:21</td>\n",
       "      <td>Vincent Revel Aldisa</td>\n",
       "      <td>205150200111019</td>\n",
       "      <td>Lainnya</td>\n",
       "      <td>1</td>\n",
       "      <td>1</td>\n",
       "      <td>1</td>\n",
       "      <td>1</td>\n",
       "      <td>2</td>\n",
       "      <td>1</td>\n",
       "      <td>...</td>\n",
       "      <td>1</td>\n",
       "      <td>1</td>\n",
       "      <td>2</td>\n",
       "      <td>1</td>\n",
       "      <td>1</td>\n",
       "      <td>1</td>\n",
       "      <td>1</td>\n",
       "      <td>1</td>\n",
       "      <td>2</td>\n",
       "      <td>terdapat tiga &lt;div&gt;: &lt;div&gt; pertama ditampilkan...</td>\n",
       "    </tr>\n",
       "    <tr>\n",
       "      <th>3</th>\n",
       "      <td>4/27/2022 22:29:22</td>\n",
       "      <td>Aditya Ikhwan Saputro</td>\n",
       "      <td>205150207111012</td>\n",
       "      <td>Lainnya</td>\n",
       "      <td>1</td>\n",
       "      <td>1</td>\n",
       "      <td>1</td>\n",
       "      <td>1</td>\n",
       "      <td>2</td>\n",
       "      <td>1</td>\n",
       "      <td>...</td>\n",
       "      <td>1</td>\n",
       "      <td>1</td>\n",
       "      <td>2</td>\n",
       "      <td>1</td>\n",
       "      <td>1</td>\n",
       "      <td>1</td>\n",
       "      <td>1</td>\n",
       "      <td>1</td>\n",
       "      <td>2</td>\n",
       "      <td>terdapat tiga &lt;div&gt;: &lt;div&gt; pertama ditampilkan...</td>\n",
       "    </tr>\n",
       "    <tr>\n",
       "      <th>4</th>\n",
       "      <td>4/27/2022 22:29:22</td>\n",
       "      <td>Muhammad Fadhil Hidayatullah</td>\n",
       "      <td>205150200111014</td>\n",
       "      <td>Lainnya</td>\n",
       "      <td>1</td>\n",
       "      <td>1</td>\n",
       "      <td>1</td>\n",
       "      <td>1</td>\n",
       "      <td>2</td>\n",
       "      <td>1</td>\n",
       "      <td>...</td>\n",
       "      <td>1</td>\n",
       "      <td>1</td>\n",
       "      <td>2</td>\n",
       "      <td>1</td>\n",
       "      <td>1</td>\n",
       "      <td>1</td>\n",
       "      <td>1</td>\n",
       "      <td>1</td>\n",
       "      <td>2</td>\n",
       "      <td>terdapat tiga &lt;div&gt;: &lt;div&gt; pertama ditampilkan...</td>\n",
       "    </tr>\n",
       "    <tr>\n",
       "      <th>...</th>\n",
       "      <td>...</td>\n",
       "      <td>...</td>\n",
       "      <td>...</td>\n",
       "      <td>...</td>\n",
       "      <td>...</td>\n",
       "      <td>...</td>\n",
       "      <td>...</td>\n",
       "      <td>...</td>\n",
       "      <td>...</td>\n",
       "      <td>...</td>\n",
       "      <td>...</td>\n",
       "      <td>...</td>\n",
       "      <td>...</td>\n",
       "      <td>...</td>\n",
       "      <td>...</td>\n",
       "      <td>...</td>\n",
       "      <td>...</td>\n",
       "      <td>...</td>\n",
       "      <td>...</td>\n",
       "      <td>...</td>\n",
       "      <td>...</td>\n",
       "    </tr>\n",
       "    <tr>\n",
       "      <th>237</th>\n",
       "      <td>6/5/2022 14:25:02</td>\n",
       "      <td>Raka Belva Raihansha</td>\n",
       "      <td>205150700111020</td>\n",
       "      <td>IESI D</td>\n",
       "      <td>1</td>\n",
       "      <td>1</td>\n",
       "      <td>1</td>\n",
       "      <td>1</td>\n",
       "      <td>2</td>\n",
       "      <td>1</td>\n",
       "      <td>...</td>\n",
       "      <td>1</td>\n",
       "      <td>1</td>\n",
       "      <td>2</td>\n",
       "      <td>1</td>\n",
       "      <td>1</td>\n",
       "      <td>1</td>\n",
       "      <td>1</td>\n",
       "      <td>1</td>\n",
       "      <td>2</td>\n",
       "      <td>&lt;div&gt; dgn class bernama \"row\" terdapat sebuah ...</td>\n",
       "    </tr>\n",
       "    <tr>\n",
       "      <th>238</th>\n",
       "      <td>6/5/2022 21:15:28</td>\n",
       "      <td>Rizky Pramudita Setyawan</td>\n",
       "      <td>205150407111030</td>\n",
       "      <td>ADSI E</td>\n",
       "      <td>1</td>\n",
       "      <td>1</td>\n",
       "      <td>1</td>\n",
       "      <td>1</td>\n",
       "      <td>2</td>\n",
       "      <td>1</td>\n",
       "      <td>...</td>\n",
       "      <td>&lt;!-- komentar --&gt;</td>\n",
       "      <td>1</td>\n",
       "      <td>2</td>\n",
       "      <td>1</td>\n",
       "      <td>1</td>\n",
       "      <td>1</td>\n",
       "      <td>1</td>\n",
       "      <td>1</td>\n",
       "      <td>2</td>\n",
       "      <td>terdapat tiga &lt;div&gt;: &lt;div&gt; pertama ditampilkan...</td>\n",
       "    </tr>\n",
       "    <tr>\n",
       "      <th>239</th>\n",
       "      <td>6/10/2022 17:19:34</td>\n",
       "      <td>King Arthur Bintang Alfarez</td>\n",
       "      <td>205150607111006</td>\n",
       "      <td>DIMP C</td>\n",
       "      <td>&lt;HEADER&gt;</td>\n",
       "      <td>1</td>\n",
       "      <td>1</td>\n",
       "      <td>&lt;h8&gt;</td>\n",
       "      <td>&lt;link href=”http://my-blog.com”&gt; Read more &lt;/l...</td>\n",
       "      <td>1</td>\n",
       "      <td>...</td>\n",
       "      <td>1</td>\n",
       "      <td>NaN</td>\n",
       "      <td>2</td>\n",
       "      <td>tag &lt;style&gt; yang diletakkan di dalam tag &lt;body&gt;</td>\n",
       "      <td>1</td>\n",
       "      <td>1</td>\n",
       "      <td>tag &lt;script&gt; yang diletakkan di dalam tag &lt;body&gt;</td>\n",
       "      <td>1</td>\n",
       "      <td>Option 5</td>\n",
       "      <td>2</td>\n",
       "    </tr>\n",
       "    <tr>\n",
       "      <th>240</th>\n",
       "      <td>6/12/2022 19:34:39</td>\n",
       "      <td>Muhammad Zaydan Sulthon</td>\n",
       "      <td>215150707111044</td>\n",
       "      <td>DDAP E</td>\n",
       "      <td>1</td>\n",
       "      <td>&lt;HTML&gt;</td>\n",
       "      <td>1</td>\n",
       "      <td>1</td>\n",
       "      <td>&lt;link href=”http://my-blog.com”&gt; Read more &lt;/l...</td>\n",
       "      <td>1</td>\n",
       "      <td>...</td>\n",
       "      <td>1</td>\n",
       "      <td>1</td>\n",
       "      <td>2</td>\n",
       "      <td>1</td>\n",
       "      <td>1</td>\n",
       "      <td>1</td>\n",
       "      <td>1</td>\n",
       "      <td>1</td>\n",
       "      <td>2</td>\n",
       "      <td>2</td>\n",
       "    </tr>\n",
       "    <tr>\n",
       "      <th>241</th>\n",
       "      <td>6/14/2022 13:14:01</td>\n",
       "      <td>Rif'atul Ilmi</td>\n",
       "      <td>205150701111024</td>\n",
       "      <td>IESI D</td>\n",
       "      <td>1</td>\n",
       "      <td>1</td>\n",
       "      <td>1</td>\n",
       "      <td>&lt;h12&gt;</td>\n",
       "      <td>2</td>\n",
       "      <td>1</td>\n",
       "      <td>...</td>\n",
       "      <td>1</td>\n",
       "      <td>1</td>\n",
       "      <td>2</td>\n",
       "      <td>1</td>\n",
       "      <td>1</td>\n",
       "      <td>1</td>\n",
       "      <td>1</td>\n",
       "      <td>1</td>\n",
       "      <td>2</td>\n",
       "      <td>terdapat tiga &lt;div&gt;: &lt;div&gt; pertama ditampilkan...</td>\n",
       "    </tr>\n",
       "  </tbody>\n",
       "</table>\n",
       "<p>242 rows × 27 columns</p>\n",
       "</div>"
      ],
      "text/plain": [
       "              Timestamp                Nama Mahasiswa              NIM  \\\n",
       "0    4/27/2022 22:25:23        Muhamad Fauzan Wahyudi  205150200111037   \n",
       "1    4/27/2022 22:29:21               Fito Briantama   205150200111067   \n",
       "2    4/27/2022 22:29:21          Vincent Revel Aldisa  205150200111019   \n",
       "3    4/27/2022 22:29:22         Aditya Ikhwan Saputro  205150207111012   \n",
       "4    4/27/2022 22:29:22  Muhammad Fadhil Hidayatullah  205150200111014   \n",
       "..                  ...                           ...              ...   \n",
       "237   6/5/2022 14:25:02          Raka Belva Raihansha  205150700111020   \n",
       "238   6/5/2022 21:15:28     Rizky Pramudita Setyawan   205150407111030   \n",
       "239  6/10/2022 17:19:34   King Arthur Bintang Alfarez  205150607111006   \n",
       "240  6/12/2022 19:34:39       Muhammad Zaydan Sulthon  215150707111044   \n",
       "241  6/14/2022 13:14:01                 Rif'atul Ilmi  205150701111024   \n",
       "\n",
       "    Mata Kuliah         1       2  3      4  \\\n",
       "0       Lainnya         1       1  1      1   \n",
       "1       Lainnya         1       1  1      1   \n",
       "2       Lainnya         1       1  1      1   \n",
       "3       Lainnya         1       1  1      1   \n",
       "4       Lainnya         1       1  1      1   \n",
       "..          ...       ...     ... ..    ...   \n",
       "237      IESI D         1       1  1      1   \n",
       "238      ADSI E         1       1  1      1   \n",
       "239      DIMP C  <HEADER>       1  1   <h8>   \n",
       "240      DDAP E         1  <HTML>  1      1   \n",
       "241      IESI D         1       1  1  <h12>   \n",
       "\n",
       "                                                     5  6  ...  \\\n",
       "0                                                    2  1  ...   \n",
       "1                                                    2  1  ...   \n",
       "2                                                    2  1  ...   \n",
       "3                                                    2  1  ...   \n",
       "4                                                    2  1  ...   \n",
       "..                                                 ... ..  ...   \n",
       "237                                                  2  1  ...   \n",
       "238                                                  2  1  ...   \n",
       "239  <link href=”http://my-blog.com”> Read more </l...  1  ...   \n",
       "240  <link href=”http://my-blog.com”> Read more </l...  1  ...   \n",
       "241                                                  2  1  ...   \n",
       "\n",
       "                    14   15 16  \\\n",
       "0                    1    1  2   \n",
       "1                    1    1  2   \n",
       "2                    1    1  2   \n",
       "3                    1    1  2   \n",
       "4                    1    1  2   \n",
       "..                 ...  ... ..   \n",
       "237                  1    1  2   \n",
       "238  <!-- komentar -->    1  2   \n",
       "239                  1  NaN  2   \n",
       "240                  1    1  2   \n",
       "241                  1    1  2   \n",
       "\n",
       "                                                  17 18 19  \\\n",
       "0                                                  1  1  1   \n",
       "1                                                  1  1  1   \n",
       "2                                                  1  1  1   \n",
       "3                                                  1  1  1   \n",
       "4                                                  1  1  1   \n",
       "..                                               ... .. ..   \n",
       "237                                                1  1  1   \n",
       "238                                                1  1  1   \n",
       "239  tag <style> yang diletakkan di dalam tag <body>  1  1   \n",
       "240                                                1  1  1   \n",
       "241                                                1  1  1   \n",
       "\n",
       "                                                   20 21        22  \\\n",
       "0                                                   1  1         2   \n",
       "1                                                   1  1         2   \n",
       "2                                                   1  1         2   \n",
       "3                                                   1  1         2   \n",
       "4                                                   1  1         2   \n",
       "..                                                ... ..       ...   \n",
       "237                                                 1  1         2   \n",
       "238                                                 1  1         2   \n",
       "239  tag <script> yang diletakkan di dalam tag <body>  1  Option 5   \n",
       "240                                                 1  1         2   \n",
       "241                                                 1  1         2   \n",
       "\n",
       "                                                    23  \n",
       "0                         Tidak ada jawaban yang benar  \n",
       "1    terdapat tiga <div>: <div> pertama ditampilkan...  \n",
       "2    terdapat tiga <div>: <div> pertama ditampilkan...  \n",
       "3    terdapat tiga <div>: <div> pertama ditampilkan...  \n",
       "4    terdapat tiga <div>: <div> pertama ditampilkan...  \n",
       "..                                                 ...  \n",
       "237  <div> dgn class bernama \"row\" terdapat sebuah ...  \n",
       "238  terdapat tiga <div>: <div> pertama ditampilkan...  \n",
       "239                                                  2  \n",
       "240                                                  2  \n",
       "241  terdapat tiga <div>: <div> pertama ditampilkan...  \n",
       "\n",
       "[242 rows x 27 columns]"
      ]
     },
     "execution_count": 4,
     "metadata": {},
     "output_type": "execute_result"
    }
   ],
   "source": [
    "posttest"
   ]
  },
  {
   "cell_type": "code",
   "execution_count": null,
   "metadata": {
    "cell_id": "908b0937281143719f0d5728676a4d1b",
    "deepnote_cell_height": 880,
    "deepnote_cell_type": "code",
    "deepnote_table_loading": false,
    "deepnote_table_state": {
     "filters": [],
     "pageIndex": 0,
     "pageSize": 10,
     "sortBy": []
    },
    "deepnote_to_be_reexecuted": false,
    "execution_millis": 884,
    "execution_start": 1659931845327,
    "source_hash": "19b6f251",
    "tags": []
   },
   "outputs": [
    {
     "data": {
      "application/vnd.deepnote.dataframe.v3+json": {
       "column_count": 27,
       "columns": [
        {
         "dtype": "object",
         "name": "Timestamp",
         "stats": {
          "categories": [
           {
            "count": 3,
            "name": "4/19/2022 8:43:57"
           },
           {
            "count": 2,
            "name": "4/18/2022 14:09:35"
           },
           {
            "count": 309,
            "name": "306 others"
           }
          ],
          "nan_count": 0,
          "unique_count": 308
         }
        },
        {
         "dtype": "object",
         "name": "Nama Mahasiswa",
         "stats": {
          "categories": [
           {
            "count": 2,
            "name": "Leonard Samuel Pakpahan"
           },
           {
            "count": 2,
            "name": "Rif'atul Ilmi"
           },
           {
            "count": 310,
            "name": "307 others"
           }
          ],
          "nan_count": 0,
          "unique_count": 309
         }
        },
        {
         "dtype": "int64",
         "name": "NIM",
         "stats": {
          "histogram": [
           {
            "bin_end": 179150250811048.5,
            "bin_start": 175150200111049,
            "count": 3
           },
           {
            "bin_end": 183150301511048,
            "bin_start": 179150250811048.5,
            "count": 0
           },
           {
            "bin_end": 187150352211047.5,
            "bin_start": 183150301511048,
            "count": 8
           },
           {
            "bin_end": 191150402911047,
            "bin_start": 187150352211047.5,
            "count": 0
           },
           {
            "bin_end": 195150453611046.5,
            "bin_start": 191150402911047,
            "count": 18
           },
           {
            "bin_end": 199150504311046,
            "bin_start": 195150453611046.5,
            "count": 6
           },
           {
            "bin_end": 203150555011045.5,
            "bin_start": 199150504311046,
            "count": 0
           },
           {
            "bin_end": 207150605711045,
            "bin_start": 203150555011045.5,
            "count": 220
           },
           {
            "bin_end": 211150656411044.5,
            "bin_start": 207150605711045,
            "count": 0
           },
           {
            "bin_end": 215150707111044,
            "bin_start": 211150656411044.5,
            "count": 59
           }
          ],
          "max": "215150707111044",
          "min": "175150200111049",
          "nan_count": 0,
          "unique_count": 309
         }
        },
        {
         "dtype": "object",
         "name": "Mata Kuliah",
         "stats": {
          "categories": [
           {
            "count": 32,
            "name": "Lainnya"
           },
           {
            "count": 31,
            "name": "DIMP A"
           },
           {
            "count": 251,
            "name": "10 others"
           }
          ],
          "nan_count": 0,
          "unique_count": 12
         }
        },
        {
         "dtype": "object",
         "name": "1",
         "stats": {
          "categories": [
           {
            "count": 255,
            "name": "1"
           },
           {
            "count": 59,
            "name": "0"
           }
          ],
          "nan_count": 0,
          "unique_count": 2
         }
        },
        {
         "dtype": "object",
         "name": "2",
         "stats": {
          "categories": [
           {
            "count": 231,
            "name": "1"
           },
           {
            "count": 83,
            "name": "0"
           }
          ],
          "nan_count": 0,
          "unique_count": 2
         }
        },
        {
         "dtype": "object",
         "name": "3",
         "stats": {
          "categories": [
           {
            "count": 284,
            "name": "1"
           },
           {
            "count": 30,
            "name": "0"
           }
          ],
          "nan_count": 0,
          "unique_count": 2
         }
        },
        {
         "dtype": "object",
         "name": "4",
         "stats": {
          "categories": [
           {
            "count": 224,
            "name": "1"
           },
           {
            "count": 90,
            "name": "0"
           }
          ],
          "nan_count": 0,
          "unique_count": 2
         }
        },
        {
         "dtype": "object",
         "name": "5",
         "stats": {
          "categories": [
           {
            "count": 261,
            "name": "2"
           },
           {
            "count": 53,
            "name": "0"
           }
          ],
          "nan_count": 0,
          "unique_count": 2
         }
        },
        {
         "dtype": "object",
         "name": "6",
         "stats": {
          "categories": [
           {
            "count": 299,
            "name": "1"
           },
           {
            "count": 15,
            "name": "0"
           }
          ],
          "nan_count": 0,
          "unique_count": 2
         }
        },
        {
         "dtype": "object",
         "name": "7",
         "stats": {
          "categories": [
           {
            "count": 267,
            "name": "1"
           },
           {
            "count": 47,
            "name": "0"
           }
          ],
          "nan_count": 0,
          "unique_count": 2
         }
        },
        {
         "dtype": "object",
         "name": "8",
         "stats": {
          "categories": [
           {
            "count": 262,
            "name": "1"
           },
           {
            "count": 52,
            "name": "0"
           }
          ],
          "nan_count": 0,
          "unique_count": 2
         }
        },
        {
         "dtype": "object",
         "name": "9",
         "stats": {
          "categories": [
           {
            "count": 264,
            "name": "1"
           },
           {
            "count": 50,
            "name": "0"
           }
          ],
          "nan_count": 0,
          "unique_count": 2
         }
        },
        {
         "dtype": "object",
         "name": "10",
         "stats": {
          "categories": [
           {
            "count": 217,
            "name": "1"
           },
           {
            "count": 97,
            "name": "0"
           }
          ],
          "nan_count": 0,
          "unique_count": 2
         }
        },
        {
         "dtype": "object",
         "name": "11",
         "stats": {
          "categories": [
           {
            "count": 239,
            "name": "0"
           },
           {
            "count": 75,
            "name": "1"
           }
          ],
          "nan_count": 0,
          "unique_count": 2
         }
        },
        {
         "dtype": "object",
         "name": "12",
         "stats": {
          "categories": [
           {
            "count": 194,
            "name": "1"
           },
           {
            "count": 120,
            "name": "0"
           }
          ],
          "nan_count": 0,
          "unique_count": 2
         }
        },
        {
         "dtype": "object",
         "name": "13",
         "stats": {
          "categories": [
           {
            "count": 224,
            "name": "1"
           },
           {
            "count": 90,
            "name": "0"
           }
          ],
          "nan_count": 0,
          "unique_count": 2
         }
        },
        {
         "dtype": "object",
         "name": "14",
         "stats": {
          "categories": [
           {
            "count": 215,
            "name": "1"
           },
           {
            "count": 99,
            "name": "0"
           }
          ],
          "nan_count": 0,
          "unique_count": 2
         }
        },
        {
         "dtype": "object",
         "name": "15",
         "stats": {
          "categories": [
           {
            "count": 179,
            "name": "1"
           },
           {
            "count": 135,
            "name": "0"
           }
          ],
          "nan_count": 0,
          "unique_count": 2
         }
        },
        {
         "dtype": "object",
         "name": "16",
         "stats": {
          "categories": [
           {
            "count": 213,
            "name": "2"
           },
           {
            "count": 101,
            "name": "0"
           }
          ],
          "nan_count": 0,
          "unique_count": 2
         }
        },
        {
         "dtype": "object",
         "name": "17",
         "stats": {
          "categories": [
           {
            "count": 229,
            "name": "1"
           },
           {
            "count": 85,
            "name": "0"
           }
          ],
          "nan_count": 0,
          "unique_count": 2
         }
        },
        {
         "dtype": "object",
         "name": "18",
         "stats": {
          "categories": [
           {
            "count": 281,
            "name": "1"
           },
           {
            "count": 33,
            "name": "0"
           }
          ],
          "nan_count": 0,
          "unique_count": 2
         }
        },
        {
         "dtype": "int64",
         "name": "19",
         "stats": {
          "histogram": [
           {
            "bin_end": 0.6,
            "bin_start": 0.5,
            "count": 0
           },
           {
            "bin_end": 0.7,
            "bin_start": 0.6,
            "count": 0
           },
           {
            "bin_end": 0.8,
            "bin_start": 0.7,
            "count": 0
           },
           {
            "bin_end": 0.9,
            "bin_start": 0.8,
            "count": 0
           },
           {
            "bin_end": 1,
            "bin_start": 0.9,
            "count": 0
           },
           {
            "bin_end": 1.1,
            "bin_start": 1,
            "count": 314
           },
           {
            "bin_end": 1.2000000000000002,
            "bin_start": 1.1,
            "count": 0
           },
           {
            "bin_end": 1.3,
            "bin_start": 1.2000000000000002,
            "count": 0
           },
           {
            "bin_end": 1.4,
            "bin_start": 1.3,
            "count": 0
           },
           {
            "bin_end": 1.5,
            "bin_start": 1.4,
            "count": 0
           }
          ],
          "max": "1",
          "min": "1",
          "nan_count": 0,
          "unique_count": 1
         }
        },
        {
         "dtype": "object",
         "name": "20",
         "stats": {
          "categories": [
           {
            "count": 224,
            "name": "1"
           },
           {
            "count": 90,
            "name": "0"
           }
          ],
          "nan_count": 0,
          "unique_count": 2
         }
        },
        {
         "dtype": "object",
         "name": "21",
         "stats": {
          "categories": [
           {
            "count": 280,
            "name": "1"
           },
           {
            "count": 34,
            "name": "0"
           }
          ],
          "nan_count": 0,
          "unique_count": 2
         }
        },
        {
         "dtype": "object",
         "name": "22",
         "stats": {
          "categories": [
           {
            "count": 178,
            "name": "2"
           },
           {
            "count": 136,
            "name": "0"
           }
          ],
          "nan_count": 0,
          "unique_count": 2
         }
        },
        {
         "dtype": "object",
         "name": "23",
         "stats": {
          "categories": [
           {
            "count": 275,
            "name": "0"
           },
           {
            "count": 39,
            "name": "2"
           }
          ],
          "nan_count": 0,
          "unique_count": 2
         }
        },
        {
         "dtype": "int64",
         "name": "_deepnote_index_column"
        }
       ],
       "row_count": 314,
       "rows": [
        {
         "1": "1",
         "10": "0",
         "11": "0",
         "12": "0",
         "13": "0",
         "14": "0",
         "15": "0",
         "16": "0",
         "17": "0",
         "18": "1",
         "19": 1,
         "2": "1",
         "20": "1",
         "21": "1",
         "22": "2",
         "23": "0",
         "3": "1",
         "4": "1",
         "5": "2",
         "6": "1",
         "7": "1",
         "8": "1",
         "9": "1",
         "Mata Kuliah": "DPSI C",
         "NIM": 215150701111025,
         "Nama Mahasiswa": "Irfan Hanif Habibi",
         "Timestamp": "4/18/2022 14:06:17",
         "_deepnote_index_column": 0
        },
        {
         "1": "1",
         "10": "0",
         "11": "0",
         "12": "1",
         "13": "0",
         "14": "0",
         "15": "0",
         "16": "0",
         "17": "1",
         "18": "1",
         "19": 1,
         "2": "1",
         "20": "1",
         "21": "1",
         "22": "2",
         "23": "2",
         "3": "0",
         "4": "1",
         "5": "2",
         "6": "1",
         "7": "1",
         "8": "1",
         "9": "1",
         "Mata Kuliah": "DPSI C",
         "NIM": 215150701111003,
         "Nama Mahasiswa": "Ghifari Adil Ruchiyat",
         "Timestamp": "4/18/2022 14:07:37",
         "_deepnote_index_column": 1
        },
        {
         "1": "1",
         "10": "1",
         "11": "0",
         "12": "1",
         "13": "1",
         "14": "1",
         "15": "1",
         "16": "2",
         "17": "1",
         "18": "1",
         "19": 1,
         "2": "1",
         "20": "1",
         "21": "1",
         "22": "0",
         "23": "0",
         "3": "1",
         "4": "1",
         "5": "2",
         "6": "1",
         "7": "1",
         "8": "1",
         "9": "1",
         "Mata Kuliah": "DPSI C",
         "NIM": 215150701111032,
         "Nama Mahasiswa": "Redomeire",
         "Timestamp": "4/18/2022 14:07:43",
         "_deepnote_index_column": 2
        },
        {
         "1": "1",
         "10": "1",
         "11": "1",
         "12": "0",
         "13": "1",
         "14": "1",
         "15": "1",
         "16": "2",
         "17": "0",
         "18": "1",
         "19": 1,
         "2": "1",
         "20": "0",
         "21": "1",
         "22": "2",
         "23": "2",
         "3": "1",
         "4": "1",
         "5": "2",
         "6": "1",
         "7": "1",
         "8": "1",
         "9": "1",
         "Mata Kuliah": "DPSI C",
         "NIM": 215150701111024,
         "Nama Mahasiswa": "Danuar Wiranata",
         "Timestamp": "4/18/2022 14:08:09",
         "_deepnote_index_column": 3
        },
        {
         "1": "1",
         "10": "0",
         "11": "0",
         "12": "0",
         "13": "1",
         "14": "1",
         "15": "0",
         "16": "0",
         "17": "1",
         "18": "1",
         "19": 1,
         "2": "1",
         "20": "1",
         "21": "1",
         "22": "0",
         "23": "0",
         "3": "1",
         "4": "1",
         "5": "2",
         "6": "1",
         "7": "1",
         "8": "1",
         "9": "1",
         "Mata Kuliah": "DPSI C",
         "NIM": 215150701111005,
         "Nama Mahasiswa": "Danish Alif Arsan",
         "Timestamp": "4/18/2022 14:08:14",
         "_deepnote_index_column": 4
        },
        {
         "1": "1",
         "10": "0",
         "11": "0",
         "12": "0",
         "13": "0",
         "14": "0",
         "15": "0",
         "16": "0",
         "17": "0",
         "18": "0",
         "19": 1,
         "2": "1",
         "20": "0",
         "21": "0",
         "22": "2",
         "23": "2",
         "3": "1",
         "4": "1",
         "5": "2",
         "6": "1",
         "7": "1",
         "8": "1",
         "9": "0",
         "Mata Kuliah": "DPSI C",
         "NIM": 215150701111013,
         "Nama Mahasiswa": "Muhammad Dayfit Al Rashad ",
         "Timestamp": "4/18/2022 14:08:40",
         "_deepnote_index_column": 5
        },
        {
         "1": "1",
         "10": "0",
         "11": "0",
         "12": "0",
         "13": "1",
         "14": "0",
         "15": "0",
         "16": "2",
         "17": "1",
         "18": "1",
         "19": 1,
         "2": "1",
         "20": "1",
         "21": "1",
         "22": "0",
         "23": "2",
         "3": "1",
         "4": "1",
         "5": "0",
         "6": "1",
         "7": "0",
         "8": "0",
         "9": "1",
         "Mata Kuliah": "DPSI C",
         "NIM": 215150701111004,
         "Nama Mahasiswa": "Bagas Meganata",
         "Timestamp": "4/18/2022 14:08:50",
         "_deepnote_index_column": 6
        },
        {
         "1": "0",
         "10": "0",
         "11": "0",
         "12": "0",
         "13": "1",
         "14": "0",
         "15": "0",
         "16": "0",
         "17": "0",
         "18": "1",
         "19": 1,
         "2": "0",
         "20": "0",
         "21": "0",
         "22": "0",
         "23": "0",
         "3": "1",
         "4": "1",
         "5": "0",
         "6": "1",
         "7": "0",
         "8": "0",
         "9": "1",
         "Mata Kuliah": "DPSI C",
         "NIM": 215150701111019,
         "Nama Mahasiswa": "Aulia Heppy Cahya Sudjianto",
         "Timestamp": "4/18/2022 14:08:57",
         "_deepnote_index_column": 7
        },
        {
         "1": "0",
         "10": "1",
         "11": "1",
         "12": "0",
         "13": "0",
         "14": "0",
         "15": "1",
         "16": "2",
         "17": "0",
         "18": "0",
         "19": 1,
         "2": "0",
         "20": "0",
         "21": "0",
         "22": "2",
         "23": "0",
         "3": "0",
         "4": "1",
         "5": "0",
         "6": "1",
         "7": "0",
         "8": "0",
         "9": "1",
         "Mata Kuliah": "DPSI C",
         "NIM": 215150701111031,
         "Nama Mahasiswa": "Firda Kusumamawardhani",
         "Timestamp": "4/18/2022 14:08:58",
         "_deepnote_index_column": 8
        },
        {
         "1": "1",
         "10": "1",
         "11": "0",
         "12": "0",
         "13": "1",
         "14": "0",
         "15": "0",
         "16": "0",
         "17": "0",
         "18": "1",
         "19": 1,
         "2": "1",
         "20": "0",
         "21": "1",
         "22": "0",
         "23": "0",
         "3": "1",
         "4": "1",
         "5": "2",
         "6": "1",
         "7": "1",
         "8": "1",
         "9": "1",
         "Mata Kuliah": "DPSI C",
         "NIM": 215150701111026,
         "Nama Mahasiswa": "Erwin Marbinoto Tamba",
         "Timestamp": "4/18/2022 14:09:04",
         "_deepnote_index_column": 9
        }
       ]
      },
      "text/html": [
       "<div>\n",
       "<style scoped>\n",
       "    .dataframe tbody tr th:only-of-type {\n",
       "        vertical-align: middle;\n",
       "    }\n",
       "\n",
       "    .dataframe tbody tr th {\n",
       "        vertical-align: top;\n",
       "    }\n",
       "\n",
       "    .dataframe thead th {\n",
       "        text-align: right;\n",
       "    }\n",
       "</style>\n",
       "<table border=\"1\" class=\"dataframe\">\n",
       "  <thead>\n",
       "    <tr style=\"text-align: right;\">\n",
       "      <th></th>\n",
       "      <th>Timestamp</th>\n",
       "      <th>Nama Mahasiswa</th>\n",
       "      <th>NIM</th>\n",
       "      <th>Mata Kuliah</th>\n",
       "      <th>1</th>\n",
       "      <th>2</th>\n",
       "      <th>3</th>\n",
       "      <th>4</th>\n",
       "      <th>5</th>\n",
       "      <th>6</th>\n",
       "      <th>...</th>\n",
       "      <th>14</th>\n",
       "      <th>15</th>\n",
       "      <th>16</th>\n",
       "      <th>17</th>\n",
       "      <th>18</th>\n",
       "      <th>19</th>\n",
       "      <th>20</th>\n",
       "      <th>21</th>\n",
       "      <th>22</th>\n",
       "      <th>23</th>\n",
       "    </tr>\n",
       "  </thead>\n",
       "  <tbody>\n",
       "    <tr>\n",
       "      <th>0</th>\n",
       "      <td>4/18/2022 14:06:17</td>\n",
       "      <td>Irfan Hanif Habibi</td>\n",
       "      <td>215150701111025</td>\n",
       "      <td>DPSI C</td>\n",
       "      <td>1</td>\n",
       "      <td>1</td>\n",
       "      <td>1</td>\n",
       "      <td>1</td>\n",
       "      <td>2</td>\n",
       "      <td>1</td>\n",
       "      <td>...</td>\n",
       "      <td>0</td>\n",
       "      <td>0</td>\n",
       "      <td>0</td>\n",
       "      <td>0</td>\n",
       "      <td>1</td>\n",
       "      <td>1</td>\n",
       "      <td>1</td>\n",
       "      <td>1</td>\n",
       "      <td>2</td>\n",
       "      <td>0</td>\n",
       "    </tr>\n",
       "    <tr>\n",
       "      <th>1</th>\n",
       "      <td>4/18/2022 14:07:37</td>\n",
       "      <td>Ghifari Adil Ruchiyat</td>\n",
       "      <td>215150701111003</td>\n",
       "      <td>DPSI C</td>\n",
       "      <td>1</td>\n",
       "      <td>1</td>\n",
       "      <td>0</td>\n",
       "      <td>1</td>\n",
       "      <td>2</td>\n",
       "      <td>1</td>\n",
       "      <td>...</td>\n",
       "      <td>0</td>\n",
       "      <td>0</td>\n",
       "      <td>0</td>\n",
       "      <td>1</td>\n",
       "      <td>1</td>\n",
       "      <td>1</td>\n",
       "      <td>1</td>\n",
       "      <td>1</td>\n",
       "      <td>2</td>\n",
       "      <td>2</td>\n",
       "    </tr>\n",
       "    <tr>\n",
       "      <th>2</th>\n",
       "      <td>4/18/2022 14:07:43</td>\n",
       "      <td>Redomeire</td>\n",
       "      <td>215150701111032</td>\n",
       "      <td>DPSI C</td>\n",
       "      <td>1</td>\n",
       "      <td>1</td>\n",
       "      <td>1</td>\n",
       "      <td>1</td>\n",
       "      <td>2</td>\n",
       "      <td>1</td>\n",
       "      <td>...</td>\n",
       "      <td>1</td>\n",
       "      <td>1</td>\n",
       "      <td>2</td>\n",
       "      <td>1</td>\n",
       "      <td>1</td>\n",
       "      <td>1</td>\n",
       "      <td>1</td>\n",
       "      <td>1</td>\n",
       "      <td>0</td>\n",
       "      <td>0</td>\n",
       "    </tr>\n",
       "    <tr>\n",
       "      <th>3</th>\n",
       "      <td>4/18/2022 14:08:09</td>\n",
       "      <td>Danuar Wiranata</td>\n",
       "      <td>215150701111024</td>\n",
       "      <td>DPSI C</td>\n",
       "      <td>1</td>\n",
       "      <td>1</td>\n",
       "      <td>1</td>\n",
       "      <td>1</td>\n",
       "      <td>2</td>\n",
       "      <td>1</td>\n",
       "      <td>...</td>\n",
       "      <td>1</td>\n",
       "      <td>1</td>\n",
       "      <td>2</td>\n",
       "      <td>0</td>\n",
       "      <td>1</td>\n",
       "      <td>1</td>\n",
       "      <td>0</td>\n",
       "      <td>1</td>\n",
       "      <td>2</td>\n",
       "      <td>2</td>\n",
       "    </tr>\n",
       "    <tr>\n",
       "      <th>4</th>\n",
       "      <td>4/18/2022 14:08:14</td>\n",
       "      <td>Danish Alif Arsan</td>\n",
       "      <td>215150701111005</td>\n",
       "      <td>DPSI C</td>\n",
       "      <td>1</td>\n",
       "      <td>1</td>\n",
       "      <td>1</td>\n",
       "      <td>1</td>\n",
       "      <td>2</td>\n",
       "      <td>1</td>\n",
       "      <td>...</td>\n",
       "      <td>1</td>\n",
       "      <td>0</td>\n",
       "      <td>0</td>\n",
       "      <td>1</td>\n",
       "      <td>1</td>\n",
       "      <td>1</td>\n",
       "      <td>1</td>\n",
       "      <td>1</td>\n",
       "      <td>0</td>\n",
       "      <td>0</td>\n",
       "    </tr>\n",
       "    <tr>\n",
       "      <th>...</th>\n",
       "      <td>...</td>\n",
       "      <td>...</td>\n",
       "      <td>...</td>\n",
       "      <td>...</td>\n",
       "      <td>...</td>\n",
       "      <td>...</td>\n",
       "      <td>...</td>\n",
       "      <td>...</td>\n",
       "      <td>...</td>\n",
       "      <td>...</td>\n",
       "      <td>...</td>\n",
       "      <td>...</td>\n",
       "      <td>...</td>\n",
       "      <td>...</td>\n",
       "      <td>...</td>\n",
       "      <td>...</td>\n",
       "      <td>...</td>\n",
       "      <td>...</td>\n",
       "      <td>...</td>\n",
       "      <td>...</td>\n",
       "      <td>...</td>\n",
       "    </tr>\n",
       "    <tr>\n",
       "      <th>309</th>\n",
       "      <td>5/25/2022 11:36:09</td>\n",
       "      <td>Muhammad Rafi Aryadinata</td>\n",
       "      <td>205150407111037</td>\n",
       "      <td>ADSI E</td>\n",
       "      <td>1</td>\n",
       "      <td>1</td>\n",
       "      <td>1</td>\n",
       "      <td>1</td>\n",
       "      <td>2</td>\n",
       "      <td>1</td>\n",
       "      <td>...</td>\n",
       "      <td>1</td>\n",
       "      <td>1</td>\n",
       "      <td>2</td>\n",
       "      <td>1</td>\n",
       "      <td>1</td>\n",
       "      <td>1</td>\n",
       "      <td>1</td>\n",
       "      <td>1</td>\n",
       "      <td>2</td>\n",
       "      <td>0</td>\n",
       "    </tr>\n",
       "    <tr>\n",
       "      <th>310</th>\n",
       "      <td>5/31/2022 1:12:01</td>\n",
       "      <td>Leonard Samuel Pakpahan</td>\n",
       "      <td>205150707111019</td>\n",
       "      <td>IESI D</td>\n",
       "      <td>1</td>\n",
       "      <td>0</td>\n",
       "      <td>1</td>\n",
       "      <td>0</td>\n",
       "      <td>2</td>\n",
       "      <td>1</td>\n",
       "      <td>...</td>\n",
       "      <td>1</td>\n",
       "      <td>1</td>\n",
       "      <td>2</td>\n",
       "      <td>1</td>\n",
       "      <td>0</td>\n",
       "      <td>1</td>\n",
       "      <td>0</td>\n",
       "      <td>0</td>\n",
       "      <td>0</td>\n",
       "      <td>0</td>\n",
       "    </tr>\n",
       "    <tr>\n",
       "      <th>311</th>\n",
       "      <td>6/2/2022 11:52:54</td>\n",
       "      <td>Kevin Alif Mahendra</td>\n",
       "      <td>195150200111063</td>\n",
       "      <td>PPM F</td>\n",
       "      <td>1</td>\n",
       "      <td>1</td>\n",
       "      <td>1</td>\n",
       "      <td>0</td>\n",
       "      <td>0</td>\n",
       "      <td>0</td>\n",
       "      <td>...</td>\n",
       "      <td>1</td>\n",
       "      <td>1</td>\n",
       "      <td>2</td>\n",
       "      <td>1</td>\n",
       "      <td>1</td>\n",
       "      <td>1</td>\n",
       "      <td>1</td>\n",
       "      <td>1</td>\n",
       "      <td>2</td>\n",
       "      <td>2</td>\n",
       "    </tr>\n",
       "    <tr>\n",
       "      <th>312</th>\n",
       "      <td>6/14/2022 13:18:22</td>\n",
       "      <td>Rif'atul Ilmi</td>\n",
       "      <td>205150701111024</td>\n",
       "      <td>IESI D</td>\n",
       "      <td>1</td>\n",
       "      <td>0</td>\n",
       "      <td>1</td>\n",
       "      <td>0</td>\n",
       "      <td>2</td>\n",
       "      <td>1</td>\n",
       "      <td>...</td>\n",
       "      <td>1</td>\n",
       "      <td>1</td>\n",
       "      <td>2</td>\n",
       "      <td>1</td>\n",
       "      <td>1</td>\n",
       "      <td>1</td>\n",
       "      <td>1</td>\n",
       "      <td>1</td>\n",
       "      <td>2</td>\n",
       "      <td>0</td>\n",
       "    </tr>\n",
       "    <tr>\n",
       "      <th>313</th>\n",
       "      <td>6/25/2022 22:31:52</td>\n",
       "      <td>Irsyad Gema Adzani</td>\n",
       "      <td>175150200111049</td>\n",
       "      <td>PPM F</td>\n",
       "      <td>0</td>\n",
       "      <td>0</td>\n",
       "      <td>1</td>\n",
       "      <td>0</td>\n",
       "      <td>2</td>\n",
       "      <td>1</td>\n",
       "      <td>...</td>\n",
       "      <td>0</td>\n",
       "      <td>0</td>\n",
       "      <td>2</td>\n",
       "      <td>1</td>\n",
       "      <td>1</td>\n",
       "      <td>1</td>\n",
       "      <td>1</td>\n",
       "      <td>1</td>\n",
       "      <td>2</td>\n",
       "      <td>0</td>\n",
       "    </tr>\n",
       "  </tbody>\n",
       "</table>\n",
       "<p>314 rows × 27 columns</p>\n",
       "</div>"
      ],
      "text/plain": [
       "              Timestamp            Nama Mahasiswa              NIM  \\\n",
       "0    4/18/2022 14:06:17        Irfan Hanif Habibi  215150701111025   \n",
       "1    4/18/2022 14:07:37     Ghifari Adil Ruchiyat  215150701111003   \n",
       "2    4/18/2022 14:07:43                 Redomeire  215150701111032   \n",
       "3    4/18/2022 14:08:09           Danuar Wiranata  215150701111024   \n",
       "4    4/18/2022 14:08:14         Danish Alif Arsan  215150701111005   \n",
       "..                  ...                       ...              ...   \n",
       "309  5/25/2022 11:36:09  Muhammad Rafi Aryadinata  205150407111037   \n",
       "310   5/31/2022 1:12:01   Leonard Samuel Pakpahan  205150707111019   \n",
       "311   6/2/2022 11:52:54       Kevin Alif Mahendra  195150200111063   \n",
       "312  6/14/2022 13:18:22             Rif'atul Ilmi  205150701111024   \n",
       "313  6/25/2022 22:31:52        Irsyad Gema Adzani  175150200111049   \n",
       "\n",
       "    Mata Kuliah  1  2  3  4  5  6  ... 14 15 16 17 18 19 20 21 22 23  \n",
       "0        DPSI C  1  1  1  1  2  1  ...  0  0  0  0  1  1  1  1  2  0  \n",
       "1        DPSI C  1  1  0  1  2  1  ...  0  0  0  1  1  1  1  1  2  2  \n",
       "2        DPSI C  1  1  1  1  2  1  ...  1  1  2  1  1  1  1  1  0  0  \n",
       "3        DPSI C  1  1  1  1  2  1  ...  1  1  2  0  1  1  0  1  2  2  \n",
       "4        DPSI C  1  1  1  1  2  1  ...  1  0  0  1  1  1  1  1  0  0  \n",
       "..          ... .. .. .. .. .. ..  ... .. .. .. .. .. .. .. .. .. ..  \n",
       "309      ADSI E  1  1  1  1  2  1  ...  1  1  2  1  1  1  1  1  2  0  \n",
       "310      IESI D  1  0  1  0  2  1  ...  1  1  2  1  0  1  0  0  0  0  \n",
       "311       PPM F  1  1  1  0  0  0  ...  1  1  2  1  1  1  1  1  2  2  \n",
       "312      IESI D  1  0  1  0  2  1  ...  1  1  2  1  1  1  1  1  2  0  \n",
       "313       PPM F  0  0  1  0  2  1  ...  0  0  2  1  1  1  1  1  2  0  \n",
       "\n",
       "[314 rows x 27 columns]"
      ]
     },
     "execution_count": 5,
     "metadata": {},
     "output_type": "execute_result"
    }
   ],
   "source": [
    "for i in range(len(pretest)):\n",
    "    for j in range(4,27):\n",
    "        if (pretest.iloc[i,j]==\"1\" or pretest.iloc[i,j]==\"2\" or pretest.iloc[i,j]==1):\n",
    "            continue\n",
    "        else:\n",
    "            pretest.iloc[i,j]=\"0\"\n",
    "\n",
    "for i in range(len(posttest)):\n",
    "    for j in range(4,27):\n",
    "        if (posttest.iloc[i,j]==\"1\" or posttest.iloc[i,j]==\"2\" or pretest.iloc[i,j]==1):\n",
    "            continue\n",
    "        else:\n",
    "            posttest.iloc[i,j]=\"0\"\n",
    "\n",
    "pretest\n"
   ]
  },
  {
   "cell_type": "code",
   "execution_count": null,
   "metadata": {
    "cell_id": "a26b5d4e708445d2a1f7d05dafe6c125",
    "deepnote_cell_height": 610,
    "deepnote_cell_type": "code",
    "deepnote_to_be_reexecuted": false,
    "execution_millis": 30,
    "execution_start": 1659931846272,
    "source_hash": "4f72ee6a",
    "tags": []
   },
   "outputs": [
    {
     "data": {
      "application/vnd.deepnote.dataframe.v3+json": {
       "column_count": 27,
       "columns": [
        {
         "dtype": "object",
         "name": "Timestamp",
         "stats": {
          "categories": [
           {
            "count": 3,
            "name": "4/27/2022 22:29:22"
           },
           {
            "count": 2,
            "name": "4/27/2022 22:29:21"
           },
           {
            "count": 237,
            "name": "235 others"
           }
          ],
          "nan_count": 0,
          "unique_count": 237
         }
        },
        {
         "dtype": "object",
         "name": "Nama Mahasiswa",
         "stats": {
          "categories": [
           {
            "count": 2,
            "name": "Dimas Agung Gumelar"
           },
           {
            "count": 2,
            "name": "Noverdi Anugrah Ramadhan"
           },
           {
            "count": 238,
            "name": "234 others"
           }
          ],
          "nan_count": 0,
          "unique_count": 236
         }
        },
        {
         "dtype": "int64",
         "name": "NIM",
         "stats": {
          "histogram": [
           {
            "bin_end": 39978588811031.4,
            "bin_start": 20515020111030,
            "count": 3
           },
           {
            "bin_end": 59442157511032.8,
            "bin_start": 39978588811031.4,
            "count": 0
           },
           {
            "bin_end": 78905726211034.19,
            "bin_start": 59442157511032.8,
            "count": 0
           },
           {
            "bin_end": 98369294911035.6,
            "bin_start": 78905726211034.19,
            "count": 0
           },
           {
            "bin_end": 117832863611037,
            "bin_start": 98369294911035.6,
            "count": 1
           },
           {
            "bin_end": 137296432311038.39,
            "bin_start": 117832863611037,
            "count": 0
           },
           {
            "bin_end": 156760001011039.78,
            "bin_start": 137296432311038.39,
            "count": 0
           },
           {
            "bin_end": 176223569711041.2,
            "bin_start": 156760001011039.78,
            "count": 2
           },
           {
            "bin_end": 195687138411042.6,
            "bin_start": 176223569711041.2,
            "count": 18
           },
           {
            "bin_end": 215150707111044,
            "bin_start": 195687138411042.6,
            "count": 218
           }
          ],
          "max": "215150707111044",
          "min": "20515020111030",
          "nan_count": 0,
          "unique_count": 234
         }
        },
        {
         "dtype": "object",
         "name": "Mata Kuliah",
         "stats": {
          "categories": [
           {
            "count": 32,
            "name": "DPSI C"
           },
           {
            "count": 30,
            "name": "IESI D"
           },
           {
            "count": 180,
            "name": "9 others"
           }
          ],
          "nan_count": 0,
          "unique_count": 11
         }
        },
        {
         "dtype": "object",
         "name": "1",
         "stats": {
          "categories": [
           {
            "count": 203,
            "name": "1"
           },
           {
            "count": 39,
            "name": "0"
           }
          ],
          "nan_count": 0,
          "unique_count": 2
         }
        },
        {
         "dtype": "object",
         "name": "2",
         "stats": {
          "categories": [
           {
            "count": 190,
            "name": "1"
           },
           {
            "count": 52,
            "name": "0"
           }
          ],
          "nan_count": 0,
          "unique_count": 2
         }
        },
        {
         "dtype": "object",
         "name": "3",
         "stats": {
          "categories": [
           {
            "count": 231,
            "name": "1"
           },
           {
            "count": 11,
            "name": "0"
           }
          ],
          "nan_count": 0,
          "unique_count": 2
         }
        },
        {
         "dtype": "object",
         "name": "4",
         "stats": {
          "categories": [
           {
            "count": 199,
            "name": "1"
           },
           {
            "count": 43,
            "name": "0"
           }
          ],
          "nan_count": 0,
          "unique_count": 2
         }
        },
        {
         "dtype": "object",
         "name": "5",
         "stats": {
          "categories": [
           {
            "count": 226,
            "name": "2"
           },
           {
            "count": 16,
            "name": "0"
           }
          ],
          "nan_count": 0,
          "unique_count": 2
         }
        },
        {
         "dtype": "object",
         "name": "6",
         "stats": {
          "categories": [
           {
            "count": 232,
            "name": "1"
           },
           {
            "count": 10,
            "name": "0"
           }
          ],
          "nan_count": 0,
          "unique_count": 2
         }
        },
        {
         "dtype": "object",
         "name": "7",
         "stats": {
          "categories": [
           {
            "count": 233,
            "name": "1"
           },
           {
            "count": 9,
            "name": "0"
           }
          ],
          "nan_count": 0,
          "unique_count": 2
         }
        },
        {
         "dtype": "object",
         "name": "8",
         "stats": {
          "categories": [
           {
            "count": 234,
            "name": "1"
           },
           {
            "count": 8,
            "name": "0"
           }
          ],
          "nan_count": 0,
          "unique_count": 2
         }
        },
        {
         "dtype": "object",
         "name": "9",
         "stats": {
          "categories": [
           {
            "count": 225,
            "name": "1"
           },
           {
            "count": 17,
            "name": "0"
           }
          ],
          "nan_count": 0,
          "unique_count": 2
         }
        },
        {
         "dtype": "object",
         "name": "10",
         "stats": {
          "categories": [
           {
            "count": 200,
            "name": "1"
           },
           {
            "count": 42,
            "name": "0"
           }
          ],
          "nan_count": 0,
          "unique_count": 2
         }
        },
        {
         "dtype": "object",
         "name": "11",
         "stats": {
          "categories": [
           {
            "count": 173,
            "name": "0"
           },
           {
            "count": 69,
            "name": "1"
           }
          ],
          "nan_count": 0,
          "unique_count": 2
         }
        },
        {
         "dtype": "object",
         "name": "12",
         "stats": {
          "categories": [
           {
            "count": 182,
            "name": "1"
           },
           {
            "count": 60,
            "name": "0"
           }
          ],
          "nan_count": 0,
          "unique_count": 2
         }
        },
        {
         "dtype": "object",
         "name": "13",
         "stats": {
          "categories": [
           {
            "count": 216,
            "name": "1"
           },
           {
            "count": 26,
            "name": "0"
           }
          ],
          "nan_count": 0,
          "unique_count": 2
         }
        },
        {
         "dtype": "object",
         "name": "14",
         "stats": {
          "categories": [
           {
            "count": 176,
            "name": "1"
           },
           {
            "count": 66,
            "name": "0"
           }
          ],
          "nan_count": 0,
          "unique_count": 2
         }
        },
        {
         "dtype": "object",
         "name": "15",
         "stats": {
          "categories": [
           {
            "count": 180,
            "name": "1"
           },
           {
            "count": 62,
            "name": "0"
           }
          ],
          "nan_count": 0,
          "unique_count": 2
         }
        },
        {
         "dtype": "object",
         "name": "16",
         "stats": {
          "categories": [
           {
            "count": 209,
            "name": "2"
           },
           {
            "count": 33,
            "name": "0"
           }
          ],
          "nan_count": 0,
          "unique_count": 2
         }
        },
        {
         "dtype": "object",
         "name": "17",
         "stats": {
          "categories": [
           {
            "count": 175,
            "name": "1"
           },
           {
            "count": 67,
            "name": "0"
           }
          ],
          "nan_count": 0,
          "unique_count": 2
         }
        },
        {
         "dtype": "object",
         "name": "18",
         "stats": {
          "categories": [
           {
            "count": 229,
            "name": "1"
           },
           {
            "count": 13,
            "name": "0"
           }
          ],
          "nan_count": 0,
          "unique_count": 2
         }
        },
        {
         "dtype": "int64",
         "name": "19",
         "stats": {
          "histogram": [
           {
            "bin_end": 0.6,
            "bin_start": 0.5,
            "count": 0
           },
           {
            "bin_end": 0.7,
            "bin_start": 0.6,
            "count": 0
           },
           {
            "bin_end": 0.8,
            "bin_start": 0.7,
            "count": 0
           },
           {
            "bin_end": 0.9,
            "bin_start": 0.8,
            "count": 0
           },
           {
            "bin_end": 1,
            "bin_start": 0.9,
            "count": 0
           },
           {
            "bin_end": 1.1,
            "bin_start": 1,
            "count": 242
           },
           {
            "bin_end": 1.2000000000000002,
            "bin_start": 1.1,
            "count": 0
           },
           {
            "bin_end": 1.3,
            "bin_start": 1.2000000000000002,
            "count": 0
           },
           {
            "bin_end": 1.4,
            "bin_start": 1.3,
            "count": 0
           },
           {
            "bin_end": 1.5,
            "bin_start": 1.4,
            "count": 0
           }
          ],
          "max": "1",
          "min": "1",
          "nan_count": 0,
          "unique_count": 1
         }
        },
        {
         "dtype": "object",
         "name": "20",
         "stats": {
          "categories": [
           {
            "count": 175,
            "name": "1"
           },
           {
            "count": 67,
            "name": "0"
           }
          ],
          "nan_count": 0,
          "unique_count": 2
         }
        },
        {
         "dtype": "object",
         "name": "21",
         "stats": {
          "categories": [
           {
            "count": 227,
            "name": "1"
           },
           {
            "count": 15,
            "name": "0"
           }
          ],
          "nan_count": 0,
          "unique_count": 2
         }
        },
        {
         "dtype": "object",
         "name": "22",
         "stats": {
          "categories": [
           {
            "count": 154,
            "name": "2"
           },
           {
            "count": 88,
            "name": "0"
           }
          ],
          "nan_count": 0,
          "unique_count": 2
         }
        },
        {
         "dtype": "object",
         "name": "23",
         "stats": {
          "categories": [
           {
            "count": 154,
            "name": "0"
           },
           {
            "count": 88,
            "name": "2"
           }
          ],
          "nan_count": 0,
          "unique_count": 2
         }
        },
        {
         "dtype": "int64",
         "name": "_deepnote_index_column"
        }
       ],
       "row_count": 242,
       "rows": [
        {
         "1": "1",
         "10": "1",
         "11": "0",
         "12": "1",
         "13": "1",
         "14": "1",
         "15": "1",
         "16": "2",
         "17": "1",
         "18": "1",
         "19": 1,
         "2": "1",
         "20": "1",
         "21": "1",
         "22": "2",
         "23": "0",
         "3": "1",
         "4": "1",
         "5": "2",
         "6": "1",
         "7": "1",
         "8": "1",
         "9": "1",
         "Mata Kuliah": "Lainnya",
         "NIM": 205150200111037,
         "Nama Mahasiswa": "Muhamad Fauzan Wahyudi",
         "Timestamp": "4/27/2022 22:25:23",
         "_deepnote_index_column": 0
        },
        {
         "1": "1",
         "10": "1",
         "11": "0",
         "12": "1",
         "13": "1",
         "14": "1",
         "15": "1",
         "16": "2",
         "17": "1",
         "18": "1",
         "19": 1,
         "2": "1",
         "20": "1",
         "21": "1",
         "22": "2",
         "23": "0",
         "3": "1",
         "4": "1",
         "5": "2",
         "6": "1",
         "7": "1",
         "8": "1",
         "9": "1",
         "Mata Kuliah": "Lainnya",
         "NIM": 205150200111067,
         "Nama Mahasiswa": "Fito Briantama ",
         "Timestamp": "4/27/2022 22:29:21",
         "_deepnote_index_column": 1
        },
        {
         "1": "1",
         "10": "1",
         "11": "1",
         "12": "1",
         "13": "1",
         "14": "1",
         "15": "1",
         "16": "2",
         "17": "1",
         "18": "1",
         "19": 1,
         "2": "1",
         "20": "1",
         "21": "1",
         "22": "2",
         "23": "0",
         "3": "1",
         "4": "1",
         "5": "2",
         "6": "1",
         "7": "1",
         "8": "1",
         "9": "1",
         "Mata Kuliah": "Lainnya",
         "NIM": 205150200111019,
         "Nama Mahasiswa": "Vincent Revel Aldisa",
         "Timestamp": "4/27/2022 22:29:21",
         "_deepnote_index_column": 2
        },
        {
         "1": "1",
         "10": "1",
         "11": "1",
         "12": "1",
         "13": "1",
         "14": "1",
         "15": "1",
         "16": "2",
         "17": "1",
         "18": "1",
         "19": 1,
         "2": "1",
         "20": "1",
         "21": "1",
         "22": "2",
         "23": "0",
         "3": "1",
         "4": "1",
         "5": "2",
         "6": "1",
         "7": "1",
         "8": "1",
         "9": "1",
         "Mata Kuliah": "Lainnya",
         "NIM": 205150207111012,
         "Nama Mahasiswa": "Aditya Ikhwan Saputro",
         "Timestamp": "4/27/2022 22:29:22",
         "_deepnote_index_column": 3
        },
        {
         "1": "1",
         "10": "1",
         "11": "1",
         "12": "1",
         "13": "1",
         "14": "1",
         "15": "1",
         "16": "2",
         "17": "1",
         "18": "1",
         "19": 1,
         "2": "1",
         "20": "1",
         "21": "1",
         "22": "2",
         "23": "0",
         "3": "1",
         "4": "1",
         "5": "2",
         "6": "1",
         "7": "1",
         "8": "1",
         "9": "1",
         "Mata Kuliah": "Lainnya",
         "NIM": 205150200111014,
         "Nama Mahasiswa": "Muhammad Fadhil Hidayatullah",
         "Timestamp": "4/27/2022 22:29:22",
         "_deepnote_index_column": 4
        },
        {
         "1": "1",
         "10": "1",
         "11": "1",
         "12": "1",
         "13": "1",
         "14": "1",
         "15": "1",
         "16": "0",
         "17": "1",
         "18": "1",
         "19": 1,
         "2": "1",
         "20": "1",
         "21": "1",
         "22": "2",
         "23": "0",
         "3": "1",
         "4": "1",
         "5": "2",
         "6": "1",
         "7": "1",
         "8": "1",
         "9": "1",
         "Mata Kuliah": "Lainnya",
         "NIM": 205150201111016,
         "Nama Mahasiswa": "Bagus Dermawan Mulya",
         "Timestamp": "4/27/2022 22:29:22",
         "_deepnote_index_column": 5
        },
        {
         "1": "1",
         "10": "1",
         "11": "1",
         "12": "1",
         "13": "1",
         "14": "1",
         "15": "1",
         "16": "2",
         "17": "1",
         "18": "1",
         "19": 1,
         "2": "1",
         "20": "1",
         "21": "1",
         "22": "2",
         "23": "0",
         "3": "1",
         "4": "1",
         "5": "2",
         "6": "1",
         "7": "1",
         "8": "1",
         "9": "1",
         "Mata Kuliah": "Lainnya",
         "NIM": 205150200111025,
         "Nama Mahasiswa": "Reyhan Ardiya Yogastama",
         "Timestamp": "4/27/2022 22:29:29",
         "_deepnote_index_column": 6
        },
        {
         "1": "1",
         "10": "1",
         "11": "1",
         "12": "1",
         "13": "1",
         "14": "1",
         "15": "1",
         "16": "2",
         "17": "1",
         "18": "1",
         "19": 1,
         "2": "1",
         "20": "1",
         "21": "1",
         "22": "2",
         "23": "0",
         "3": "1",
         "4": "1",
         "5": "2",
         "6": "1",
         "7": "1",
         "8": "1",
         "9": "1",
         "Mata Kuliah": "Lainnya",
         "NIM": 205150201111002,
         "Nama Mahasiswa": "Wildan Mufid Ramadhan",
         "Timestamp": "4/27/2022 22:29:34",
         "_deepnote_index_column": 7
        },
        {
         "1": "1",
         "10": "1",
         "11": "0",
         "12": "1",
         "13": "1",
         "14": "1",
         "15": "1",
         "16": "2",
         "17": "0",
         "18": "1",
         "19": 1,
         "2": "1",
         "20": "0",
         "21": "1",
         "22": "2",
         "23": "2",
         "3": "1",
         "4": "1",
         "5": "2",
         "6": "1",
         "7": "1",
         "8": "1",
         "9": "1",
         "Mata Kuliah": "VD",
         "NIM": 195150200111073,
         "Nama Mahasiswa": "Andriko Fajar Prakoso",
         "Timestamp": "4/29/2022 6:56:19",
         "_deepnote_index_column": 8
        },
        {
         "1": "1",
         "10": "1",
         "11": "1",
         "12": "1",
         "13": "1",
         "14": "1",
         "15": "1",
         "16": "2",
         "17": "0",
         "18": "1",
         "19": 1,
         "2": "1",
         "20": "0",
         "21": "1",
         "22": "0",
         "23": "2",
         "3": "1",
         "4": "1",
         "5": "2",
         "6": "1",
         "7": "1",
         "8": "1",
         "9": "1",
         "Mata Kuliah": "VD",
         "NIM": 195150200111039,
         "Nama Mahasiswa": "Riski Darmawan",
         "Timestamp": "4/29/2022 8:49:57",
         "_deepnote_index_column": 9
        }
       ]
      },
      "text/html": [
       "<div>\n",
       "<style scoped>\n",
       "    .dataframe tbody tr th:only-of-type {\n",
       "        vertical-align: middle;\n",
       "    }\n",
       "\n",
       "    .dataframe tbody tr th {\n",
       "        vertical-align: top;\n",
       "    }\n",
       "\n",
       "    .dataframe thead th {\n",
       "        text-align: right;\n",
       "    }\n",
       "</style>\n",
       "<table border=\"1\" class=\"dataframe\">\n",
       "  <thead>\n",
       "    <tr style=\"text-align: right;\">\n",
       "      <th></th>\n",
       "      <th>Timestamp</th>\n",
       "      <th>Nama Mahasiswa</th>\n",
       "      <th>NIM</th>\n",
       "      <th>Mata Kuliah</th>\n",
       "      <th>1</th>\n",
       "      <th>2</th>\n",
       "      <th>3</th>\n",
       "      <th>4</th>\n",
       "      <th>5</th>\n",
       "      <th>6</th>\n",
       "      <th>...</th>\n",
       "      <th>14</th>\n",
       "      <th>15</th>\n",
       "      <th>16</th>\n",
       "      <th>17</th>\n",
       "      <th>18</th>\n",
       "      <th>19</th>\n",
       "      <th>20</th>\n",
       "      <th>21</th>\n",
       "      <th>22</th>\n",
       "      <th>23</th>\n",
       "    </tr>\n",
       "  </thead>\n",
       "  <tbody>\n",
       "    <tr>\n",
       "      <th>0</th>\n",
       "      <td>4/27/2022 22:25:23</td>\n",
       "      <td>Muhamad Fauzan Wahyudi</td>\n",
       "      <td>205150200111037</td>\n",
       "      <td>Lainnya</td>\n",
       "      <td>1</td>\n",
       "      <td>1</td>\n",
       "      <td>1</td>\n",
       "      <td>1</td>\n",
       "      <td>2</td>\n",
       "      <td>1</td>\n",
       "      <td>...</td>\n",
       "      <td>1</td>\n",
       "      <td>1</td>\n",
       "      <td>2</td>\n",
       "      <td>1</td>\n",
       "      <td>1</td>\n",
       "      <td>1</td>\n",
       "      <td>1</td>\n",
       "      <td>1</td>\n",
       "      <td>2</td>\n",
       "      <td>0</td>\n",
       "    </tr>\n",
       "    <tr>\n",
       "      <th>1</th>\n",
       "      <td>4/27/2022 22:29:21</td>\n",
       "      <td>Fito Briantama</td>\n",
       "      <td>205150200111067</td>\n",
       "      <td>Lainnya</td>\n",
       "      <td>1</td>\n",
       "      <td>1</td>\n",
       "      <td>1</td>\n",
       "      <td>1</td>\n",
       "      <td>2</td>\n",
       "      <td>1</td>\n",
       "      <td>...</td>\n",
       "      <td>1</td>\n",
       "      <td>1</td>\n",
       "      <td>2</td>\n",
       "      <td>1</td>\n",
       "      <td>1</td>\n",
       "      <td>1</td>\n",
       "      <td>1</td>\n",
       "      <td>1</td>\n",
       "      <td>2</td>\n",
       "      <td>0</td>\n",
       "    </tr>\n",
       "    <tr>\n",
       "      <th>2</th>\n",
       "      <td>4/27/2022 22:29:21</td>\n",
       "      <td>Vincent Revel Aldisa</td>\n",
       "      <td>205150200111019</td>\n",
       "      <td>Lainnya</td>\n",
       "      <td>1</td>\n",
       "      <td>1</td>\n",
       "      <td>1</td>\n",
       "      <td>1</td>\n",
       "      <td>2</td>\n",
       "      <td>1</td>\n",
       "      <td>...</td>\n",
       "      <td>1</td>\n",
       "      <td>1</td>\n",
       "      <td>2</td>\n",
       "      <td>1</td>\n",
       "      <td>1</td>\n",
       "      <td>1</td>\n",
       "      <td>1</td>\n",
       "      <td>1</td>\n",
       "      <td>2</td>\n",
       "      <td>0</td>\n",
       "    </tr>\n",
       "    <tr>\n",
       "      <th>3</th>\n",
       "      <td>4/27/2022 22:29:22</td>\n",
       "      <td>Aditya Ikhwan Saputro</td>\n",
       "      <td>205150207111012</td>\n",
       "      <td>Lainnya</td>\n",
       "      <td>1</td>\n",
       "      <td>1</td>\n",
       "      <td>1</td>\n",
       "      <td>1</td>\n",
       "      <td>2</td>\n",
       "      <td>1</td>\n",
       "      <td>...</td>\n",
       "      <td>1</td>\n",
       "      <td>1</td>\n",
       "      <td>2</td>\n",
       "      <td>1</td>\n",
       "      <td>1</td>\n",
       "      <td>1</td>\n",
       "      <td>1</td>\n",
       "      <td>1</td>\n",
       "      <td>2</td>\n",
       "      <td>0</td>\n",
       "    </tr>\n",
       "    <tr>\n",
       "      <th>4</th>\n",
       "      <td>4/27/2022 22:29:22</td>\n",
       "      <td>Muhammad Fadhil Hidayatullah</td>\n",
       "      <td>205150200111014</td>\n",
       "      <td>Lainnya</td>\n",
       "      <td>1</td>\n",
       "      <td>1</td>\n",
       "      <td>1</td>\n",
       "      <td>1</td>\n",
       "      <td>2</td>\n",
       "      <td>1</td>\n",
       "      <td>...</td>\n",
       "      <td>1</td>\n",
       "      <td>1</td>\n",
       "      <td>2</td>\n",
       "      <td>1</td>\n",
       "      <td>1</td>\n",
       "      <td>1</td>\n",
       "      <td>1</td>\n",
       "      <td>1</td>\n",
       "      <td>2</td>\n",
       "      <td>0</td>\n",
       "    </tr>\n",
       "    <tr>\n",
       "      <th>...</th>\n",
       "      <td>...</td>\n",
       "      <td>...</td>\n",
       "      <td>...</td>\n",
       "      <td>...</td>\n",
       "      <td>...</td>\n",
       "      <td>...</td>\n",
       "      <td>...</td>\n",
       "      <td>...</td>\n",
       "      <td>...</td>\n",
       "      <td>...</td>\n",
       "      <td>...</td>\n",
       "      <td>...</td>\n",
       "      <td>...</td>\n",
       "      <td>...</td>\n",
       "      <td>...</td>\n",
       "      <td>...</td>\n",
       "      <td>...</td>\n",
       "      <td>...</td>\n",
       "      <td>...</td>\n",
       "      <td>...</td>\n",
       "      <td>...</td>\n",
       "    </tr>\n",
       "    <tr>\n",
       "      <th>237</th>\n",
       "      <td>6/5/2022 14:25:02</td>\n",
       "      <td>Raka Belva Raihansha</td>\n",
       "      <td>205150700111020</td>\n",
       "      <td>IESI D</td>\n",
       "      <td>1</td>\n",
       "      <td>1</td>\n",
       "      <td>1</td>\n",
       "      <td>1</td>\n",
       "      <td>2</td>\n",
       "      <td>1</td>\n",
       "      <td>...</td>\n",
       "      <td>1</td>\n",
       "      <td>1</td>\n",
       "      <td>2</td>\n",
       "      <td>1</td>\n",
       "      <td>1</td>\n",
       "      <td>1</td>\n",
       "      <td>1</td>\n",
       "      <td>1</td>\n",
       "      <td>2</td>\n",
       "      <td>0</td>\n",
       "    </tr>\n",
       "    <tr>\n",
       "      <th>238</th>\n",
       "      <td>6/5/2022 21:15:28</td>\n",
       "      <td>Rizky Pramudita Setyawan</td>\n",
       "      <td>205150407111030</td>\n",
       "      <td>ADSI E</td>\n",
       "      <td>1</td>\n",
       "      <td>1</td>\n",
       "      <td>1</td>\n",
       "      <td>1</td>\n",
       "      <td>2</td>\n",
       "      <td>1</td>\n",
       "      <td>...</td>\n",
       "      <td>0</td>\n",
       "      <td>1</td>\n",
       "      <td>2</td>\n",
       "      <td>1</td>\n",
       "      <td>1</td>\n",
       "      <td>1</td>\n",
       "      <td>1</td>\n",
       "      <td>1</td>\n",
       "      <td>2</td>\n",
       "      <td>0</td>\n",
       "    </tr>\n",
       "    <tr>\n",
       "      <th>239</th>\n",
       "      <td>6/10/2022 17:19:34</td>\n",
       "      <td>King Arthur Bintang Alfarez</td>\n",
       "      <td>205150607111006</td>\n",
       "      <td>DIMP C</td>\n",
       "      <td>0</td>\n",
       "      <td>1</td>\n",
       "      <td>1</td>\n",
       "      <td>0</td>\n",
       "      <td>0</td>\n",
       "      <td>1</td>\n",
       "      <td>...</td>\n",
       "      <td>1</td>\n",
       "      <td>0</td>\n",
       "      <td>2</td>\n",
       "      <td>0</td>\n",
       "      <td>1</td>\n",
       "      <td>1</td>\n",
       "      <td>0</td>\n",
       "      <td>1</td>\n",
       "      <td>0</td>\n",
       "      <td>2</td>\n",
       "    </tr>\n",
       "    <tr>\n",
       "      <th>240</th>\n",
       "      <td>6/12/2022 19:34:39</td>\n",
       "      <td>Muhammad Zaydan Sulthon</td>\n",
       "      <td>215150707111044</td>\n",
       "      <td>DDAP E</td>\n",
       "      <td>1</td>\n",
       "      <td>0</td>\n",
       "      <td>1</td>\n",
       "      <td>1</td>\n",
       "      <td>0</td>\n",
       "      <td>1</td>\n",
       "      <td>...</td>\n",
       "      <td>1</td>\n",
       "      <td>1</td>\n",
       "      <td>2</td>\n",
       "      <td>1</td>\n",
       "      <td>1</td>\n",
       "      <td>1</td>\n",
       "      <td>1</td>\n",
       "      <td>1</td>\n",
       "      <td>2</td>\n",
       "      <td>2</td>\n",
       "    </tr>\n",
       "    <tr>\n",
       "      <th>241</th>\n",
       "      <td>6/14/2022 13:14:01</td>\n",
       "      <td>Rif'atul Ilmi</td>\n",
       "      <td>205150701111024</td>\n",
       "      <td>IESI D</td>\n",
       "      <td>1</td>\n",
       "      <td>1</td>\n",
       "      <td>1</td>\n",
       "      <td>0</td>\n",
       "      <td>2</td>\n",
       "      <td>1</td>\n",
       "      <td>...</td>\n",
       "      <td>1</td>\n",
       "      <td>1</td>\n",
       "      <td>2</td>\n",
       "      <td>1</td>\n",
       "      <td>1</td>\n",
       "      <td>1</td>\n",
       "      <td>1</td>\n",
       "      <td>1</td>\n",
       "      <td>2</td>\n",
       "      <td>0</td>\n",
       "    </tr>\n",
       "  </tbody>\n",
       "</table>\n",
       "<p>242 rows × 27 columns</p>\n",
       "</div>"
      ],
      "text/plain": [
       "              Timestamp                Nama Mahasiswa              NIM  \\\n",
       "0    4/27/2022 22:25:23        Muhamad Fauzan Wahyudi  205150200111037   \n",
       "1    4/27/2022 22:29:21               Fito Briantama   205150200111067   \n",
       "2    4/27/2022 22:29:21          Vincent Revel Aldisa  205150200111019   \n",
       "3    4/27/2022 22:29:22         Aditya Ikhwan Saputro  205150207111012   \n",
       "4    4/27/2022 22:29:22  Muhammad Fadhil Hidayatullah  205150200111014   \n",
       "..                  ...                           ...              ...   \n",
       "237   6/5/2022 14:25:02          Raka Belva Raihansha  205150700111020   \n",
       "238   6/5/2022 21:15:28     Rizky Pramudita Setyawan   205150407111030   \n",
       "239  6/10/2022 17:19:34   King Arthur Bintang Alfarez  205150607111006   \n",
       "240  6/12/2022 19:34:39       Muhammad Zaydan Sulthon  215150707111044   \n",
       "241  6/14/2022 13:14:01                 Rif'atul Ilmi  205150701111024   \n",
       "\n",
       "    Mata Kuliah  1  2  3  4  5  6  ... 14 15 16 17 18 19 20 21 22 23  \n",
       "0       Lainnya  1  1  1  1  2  1  ...  1  1  2  1  1  1  1  1  2  0  \n",
       "1       Lainnya  1  1  1  1  2  1  ...  1  1  2  1  1  1  1  1  2  0  \n",
       "2       Lainnya  1  1  1  1  2  1  ...  1  1  2  1  1  1  1  1  2  0  \n",
       "3       Lainnya  1  1  1  1  2  1  ...  1  1  2  1  1  1  1  1  2  0  \n",
       "4       Lainnya  1  1  1  1  2  1  ...  1  1  2  1  1  1  1  1  2  0  \n",
       "..          ... .. .. .. .. .. ..  ... .. .. .. .. .. .. .. .. .. ..  \n",
       "237      IESI D  1  1  1  1  2  1  ...  1  1  2  1  1  1  1  1  2  0  \n",
       "238      ADSI E  1  1  1  1  2  1  ...  0  1  2  1  1  1  1  1  2  0  \n",
       "239      DIMP C  0  1  1  0  0  1  ...  1  0  2  0  1  1  0  1  0  2  \n",
       "240      DDAP E  1  0  1  1  0  1  ...  1  1  2  1  1  1  1  1  2  2  \n",
       "241      IESI D  1  1  1  0  2  1  ...  1  1  2  1  1  1  1  1  2  0  \n",
       "\n",
       "[242 rows x 27 columns]"
      ]
     },
     "execution_count": 6,
     "metadata": {},
     "output_type": "execute_result"
    }
   ],
   "source": [
    "posttest"
   ]
  },
  {
   "cell_type": "code",
   "execution_count": null,
   "metadata": {
    "cell_id": "cb53827fda3446d2813ab7316c257362",
    "deepnote_cell_height": 1042,
    "deepnote_cell_type": "code",
    "deepnote_to_be_reexecuted": false,
    "execution_millis": 89,
    "execution_start": 1659931846295,
    "source_hash": "b4a16f0a",
    "tags": []
   },
   "outputs": [
    {
     "data": {
      "application/vnd.deepnote.dataframe.v3+json": {
       "column_count": 27,
       "columns": [
        {
         "dtype": "object",
         "name": "Timestamp",
         "stats": {
          "categories": [
           {
            "count": 3,
            "name": "4/19/2022 8:43:57"
           },
           {
            "count": 2,
            "name": "4/18/2022 14:09:35"
           },
           {
            "count": 309,
            "name": "306 others"
           }
          ],
          "nan_count": 0,
          "unique_count": 308
         }
        },
        {
         "dtype": "object",
         "name": "Nama Mahasiswa",
         "stats": {
          "categories": [
           {
            "count": 2,
            "name": "Leonard Samuel Pakpahan"
           },
           {
            "count": 2,
            "name": "Rif'atul Ilmi"
           },
           {
            "count": 310,
            "name": "307 others"
           }
          ],
          "nan_count": 0,
          "unique_count": 309
         }
        },
        {
         "dtype": "int64",
         "name": "NIM",
         "stats": {
          "histogram": [
           {
            "bin_end": 179150250811048.5,
            "bin_start": 175150200111049,
            "count": 3
           },
           {
            "bin_end": 183150301511048,
            "bin_start": 179150250811048.5,
            "count": 0
           },
           {
            "bin_end": 187150352211047.5,
            "bin_start": 183150301511048,
            "count": 8
           },
           {
            "bin_end": 191150402911047,
            "bin_start": 187150352211047.5,
            "count": 0
           },
           {
            "bin_end": 195150453611046.5,
            "bin_start": 191150402911047,
            "count": 18
           },
           {
            "bin_end": 199150504311046,
            "bin_start": 195150453611046.5,
            "count": 6
           },
           {
            "bin_end": 203150555011045.5,
            "bin_start": 199150504311046,
            "count": 0
           },
           {
            "bin_end": 207150605711045,
            "bin_start": 203150555011045.5,
            "count": 220
           },
           {
            "bin_end": 211150656411044.5,
            "bin_start": 207150605711045,
            "count": 0
           },
           {
            "bin_end": 215150707111044,
            "bin_start": 211150656411044.5,
            "count": 59
           }
          ],
          "max": "215150707111044",
          "min": "175150200111049",
          "nan_count": 0,
          "unique_count": 309
         }
        },
        {
         "dtype": "object",
         "name": "Mata Kuliah",
         "stats": {
          "categories": [
           {
            "count": 32,
            "name": "Lainnya"
           },
           {
            "count": 31,
            "name": "DIMP A"
           },
           {
            "count": 251,
            "name": "10 others"
           }
          ],
          "nan_count": 0,
          "unique_count": 12
         }
        },
        {
         "dtype": "int64",
         "name": "1",
         "stats": {
          "histogram": [
           {
            "bin_end": 0.1,
            "bin_start": 0,
            "count": 59
           },
           {
            "bin_end": 0.2,
            "bin_start": 0.1,
            "count": 0
           },
           {
            "bin_end": 0.30000000000000004,
            "bin_start": 0.2,
            "count": 0
           },
           {
            "bin_end": 0.4,
            "bin_start": 0.30000000000000004,
            "count": 0
           },
           {
            "bin_end": 0.5,
            "bin_start": 0.4,
            "count": 0
           },
           {
            "bin_end": 0.6000000000000001,
            "bin_start": 0.5,
            "count": 0
           },
           {
            "bin_end": 0.7000000000000001,
            "bin_start": 0.6000000000000001,
            "count": 0
           },
           {
            "bin_end": 0.8,
            "bin_start": 0.7000000000000001,
            "count": 0
           },
           {
            "bin_end": 0.9,
            "bin_start": 0.8,
            "count": 0
           },
           {
            "bin_end": 1,
            "bin_start": 0.9,
            "count": 255
           }
          ],
          "max": "1",
          "min": "0",
          "nan_count": 0,
          "unique_count": 2
         }
        },
        {
         "dtype": "int64",
         "name": "2",
         "stats": {
          "histogram": [
           {
            "bin_end": 0.1,
            "bin_start": 0,
            "count": 83
           },
           {
            "bin_end": 0.2,
            "bin_start": 0.1,
            "count": 0
           },
           {
            "bin_end": 0.30000000000000004,
            "bin_start": 0.2,
            "count": 0
           },
           {
            "bin_end": 0.4,
            "bin_start": 0.30000000000000004,
            "count": 0
           },
           {
            "bin_end": 0.5,
            "bin_start": 0.4,
            "count": 0
           },
           {
            "bin_end": 0.6000000000000001,
            "bin_start": 0.5,
            "count": 0
           },
           {
            "bin_end": 0.7000000000000001,
            "bin_start": 0.6000000000000001,
            "count": 0
           },
           {
            "bin_end": 0.8,
            "bin_start": 0.7000000000000001,
            "count": 0
           },
           {
            "bin_end": 0.9,
            "bin_start": 0.8,
            "count": 0
           },
           {
            "bin_end": 1,
            "bin_start": 0.9,
            "count": 231
           }
          ],
          "max": "1",
          "min": "0",
          "nan_count": 0,
          "unique_count": 2
         }
        },
        {
         "dtype": "int64",
         "name": "3",
         "stats": {
          "histogram": [
           {
            "bin_end": 0.1,
            "bin_start": 0,
            "count": 30
           },
           {
            "bin_end": 0.2,
            "bin_start": 0.1,
            "count": 0
           },
           {
            "bin_end": 0.30000000000000004,
            "bin_start": 0.2,
            "count": 0
           },
           {
            "bin_end": 0.4,
            "bin_start": 0.30000000000000004,
            "count": 0
           },
           {
            "bin_end": 0.5,
            "bin_start": 0.4,
            "count": 0
           },
           {
            "bin_end": 0.6000000000000001,
            "bin_start": 0.5,
            "count": 0
           },
           {
            "bin_end": 0.7000000000000001,
            "bin_start": 0.6000000000000001,
            "count": 0
           },
           {
            "bin_end": 0.8,
            "bin_start": 0.7000000000000001,
            "count": 0
           },
           {
            "bin_end": 0.9,
            "bin_start": 0.8,
            "count": 0
           },
           {
            "bin_end": 1,
            "bin_start": 0.9,
            "count": 284
           }
          ],
          "max": "1",
          "min": "0",
          "nan_count": 0,
          "unique_count": 2
         }
        },
        {
         "dtype": "int64",
         "name": "4",
         "stats": {
          "histogram": [
           {
            "bin_end": 0.1,
            "bin_start": 0,
            "count": 90
           },
           {
            "bin_end": 0.2,
            "bin_start": 0.1,
            "count": 0
           },
           {
            "bin_end": 0.30000000000000004,
            "bin_start": 0.2,
            "count": 0
           },
           {
            "bin_end": 0.4,
            "bin_start": 0.30000000000000004,
            "count": 0
           },
           {
            "bin_end": 0.5,
            "bin_start": 0.4,
            "count": 0
           },
           {
            "bin_end": 0.6000000000000001,
            "bin_start": 0.5,
            "count": 0
           },
           {
            "bin_end": 0.7000000000000001,
            "bin_start": 0.6000000000000001,
            "count": 0
           },
           {
            "bin_end": 0.8,
            "bin_start": 0.7000000000000001,
            "count": 0
           },
           {
            "bin_end": 0.9,
            "bin_start": 0.8,
            "count": 0
           },
           {
            "bin_end": 1,
            "bin_start": 0.9,
            "count": 224
           }
          ],
          "max": "1",
          "min": "0",
          "nan_count": 0,
          "unique_count": 2
         }
        },
        {
         "dtype": "int64",
         "name": "5",
         "stats": {
          "histogram": [
           {
            "bin_end": 0.2,
            "bin_start": 0,
            "count": 53
           },
           {
            "bin_end": 0.4,
            "bin_start": 0.2,
            "count": 0
           },
           {
            "bin_end": 0.6000000000000001,
            "bin_start": 0.4,
            "count": 0
           },
           {
            "bin_end": 0.8,
            "bin_start": 0.6000000000000001,
            "count": 0
           },
           {
            "bin_end": 1,
            "bin_start": 0.8,
            "count": 0
           },
           {
            "bin_end": 1.2000000000000002,
            "bin_start": 1,
            "count": 0
           },
           {
            "bin_end": 1.4000000000000001,
            "bin_start": 1.2000000000000002,
            "count": 0
           },
           {
            "bin_end": 1.6,
            "bin_start": 1.4000000000000001,
            "count": 0
           },
           {
            "bin_end": 1.8,
            "bin_start": 1.6,
            "count": 0
           },
           {
            "bin_end": 2,
            "bin_start": 1.8,
            "count": 261
           }
          ],
          "max": "2",
          "min": "0",
          "nan_count": 0,
          "unique_count": 2
         }
        },
        {
         "dtype": "int64",
         "name": "6",
         "stats": {
          "histogram": [
           {
            "bin_end": 0.1,
            "bin_start": 0,
            "count": 15
           },
           {
            "bin_end": 0.2,
            "bin_start": 0.1,
            "count": 0
           },
           {
            "bin_end": 0.30000000000000004,
            "bin_start": 0.2,
            "count": 0
           },
           {
            "bin_end": 0.4,
            "bin_start": 0.30000000000000004,
            "count": 0
           },
           {
            "bin_end": 0.5,
            "bin_start": 0.4,
            "count": 0
           },
           {
            "bin_end": 0.6000000000000001,
            "bin_start": 0.5,
            "count": 0
           },
           {
            "bin_end": 0.7000000000000001,
            "bin_start": 0.6000000000000001,
            "count": 0
           },
           {
            "bin_end": 0.8,
            "bin_start": 0.7000000000000001,
            "count": 0
           },
           {
            "bin_end": 0.9,
            "bin_start": 0.8,
            "count": 0
           },
           {
            "bin_end": 1,
            "bin_start": 0.9,
            "count": 299
           }
          ],
          "max": "1",
          "min": "0",
          "nan_count": 0,
          "unique_count": 2
         }
        },
        {
         "dtype": "int64",
         "name": "7",
         "stats": {
          "histogram": [
           {
            "bin_end": 0.1,
            "bin_start": 0,
            "count": 47
           },
           {
            "bin_end": 0.2,
            "bin_start": 0.1,
            "count": 0
           },
           {
            "bin_end": 0.30000000000000004,
            "bin_start": 0.2,
            "count": 0
           },
           {
            "bin_end": 0.4,
            "bin_start": 0.30000000000000004,
            "count": 0
           },
           {
            "bin_end": 0.5,
            "bin_start": 0.4,
            "count": 0
           },
           {
            "bin_end": 0.6000000000000001,
            "bin_start": 0.5,
            "count": 0
           },
           {
            "bin_end": 0.7000000000000001,
            "bin_start": 0.6000000000000001,
            "count": 0
           },
           {
            "bin_end": 0.8,
            "bin_start": 0.7000000000000001,
            "count": 0
           },
           {
            "bin_end": 0.9,
            "bin_start": 0.8,
            "count": 0
           },
           {
            "bin_end": 1,
            "bin_start": 0.9,
            "count": 267
           }
          ],
          "max": "1",
          "min": "0",
          "nan_count": 0,
          "unique_count": 2
         }
        },
        {
         "dtype": "int64",
         "name": "8",
         "stats": {
          "histogram": [
           {
            "bin_end": 0.1,
            "bin_start": 0,
            "count": 52
           },
           {
            "bin_end": 0.2,
            "bin_start": 0.1,
            "count": 0
           },
           {
            "bin_end": 0.30000000000000004,
            "bin_start": 0.2,
            "count": 0
           },
           {
            "bin_end": 0.4,
            "bin_start": 0.30000000000000004,
            "count": 0
           },
           {
            "bin_end": 0.5,
            "bin_start": 0.4,
            "count": 0
           },
           {
            "bin_end": 0.6000000000000001,
            "bin_start": 0.5,
            "count": 0
           },
           {
            "bin_end": 0.7000000000000001,
            "bin_start": 0.6000000000000001,
            "count": 0
           },
           {
            "bin_end": 0.8,
            "bin_start": 0.7000000000000001,
            "count": 0
           },
           {
            "bin_end": 0.9,
            "bin_start": 0.8,
            "count": 0
           },
           {
            "bin_end": 1,
            "bin_start": 0.9,
            "count": 262
           }
          ],
          "max": "1",
          "min": "0",
          "nan_count": 0,
          "unique_count": 2
         }
        },
        {
         "dtype": "int64",
         "name": "9",
         "stats": {
          "histogram": [
           {
            "bin_end": 0.1,
            "bin_start": 0,
            "count": 50
           },
           {
            "bin_end": 0.2,
            "bin_start": 0.1,
            "count": 0
           },
           {
            "bin_end": 0.30000000000000004,
            "bin_start": 0.2,
            "count": 0
           },
           {
            "bin_end": 0.4,
            "bin_start": 0.30000000000000004,
            "count": 0
           },
           {
            "bin_end": 0.5,
            "bin_start": 0.4,
            "count": 0
           },
           {
            "bin_end": 0.6000000000000001,
            "bin_start": 0.5,
            "count": 0
           },
           {
            "bin_end": 0.7000000000000001,
            "bin_start": 0.6000000000000001,
            "count": 0
           },
           {
            "bin_end": 0.8,
            "bin_start": 0.7000000000000001,
            "count": 0
           },
           {
            "bin_end": 0.9,
            "bin_start": 0.8,
            "count": 0
           },
           {
            "bin_end": 1,
            "bin_start": 0.9,
            "count": 264
           }
          ],
          "max": "1",
          "min": "0",
          "nan_count": 0,
          "unique_count": 2
         }
        },
        {
         "dtype": "int64",
         "name": "10",
         "stats": {
          "histogram": [
           {
            "bin_end": 0.1,
            "bin_start": 0,
            "count": 97
           },
           {
            "bin_end": 0.2,
            "bin_start": 0.1,
            "count": 0
           },
           {
            "bin_end": 0.30000000000000004,
            "bin_start": 0.2,
            "count": 0
           },
           {
            "bin_end": 0.4,
            "bin_start": 0.30000000000000004,
            "count": 0
           },
           {
            "bin_end": 0.5,
            "bin_start": 0.4,
            "count": 0
           },
           {
            "bin_end": 0.6000000000000001,
            "bin_start": 0.5,
            "count": 0
           },
           {
            "bin_end": 0.7000000000000001,
            "bin_start": 0.6000000000000001,
            "count": 0
           },
           {
            "bin_end": 0.8,
            "bin_start": 0.7000000000000001,
            "count": 0
           },
           {
            "bin_end": 0.9,
            "bin_start": 0.8,
            "count": 0
           },
           {
            "bin_end": 1,
            "bin_start": 0.9,
            "count": 217
           }
          ],
          "max": "1",
          "min": "0",
          "nan_count": 0,
          "unique_count": 2
         }
        },
        {
         "dtype": "int64",
         "name": "11",
         "stats": {
          "histogram": [
           {
            "bin_end": 0.1,
            "bin_start": 0,
            "count": 239
           },
           {
            "bin_end": 0.2,
            "bin_start": 0.1,
            "count": 0
           },
           {
            "bin_end": 0.30000000000000004,
            "bin_start": 0.2,
            "count": 0
           },
           {
            "bin_end": 0.4,
            "bin_start": 0.30000000000000004,
            "count": 0
           },
           {
            "bin_end": 0.5,
            "bin_start": 0.4,
            "count": 0
           },
           {
            "bin_end": 0.6000000000000001,
            "bin_start": 0.5,
            "count": 0
           },
           {
            "bin_end": 0.7000000000000001,
            "bin_start": 0.6000000000000001,
            "count": 0
           },
           {
            "bin_end": 0.8,
            "bin_start": 0.7000000000000001,
            "count": 0
           },
           {
            "bin_end": 0.9,
            "bin_start": 0.8,
            "count": 0
           },
           {
            "bin_end": 1,
            "bin_start": 0.9,
            "count": 75
           }
          ],
          "max": "1",
          "min": "0",
          "nan_count": 0,
          "unique_count": 2
         }
        },
        {
         "dtype": "int64",
         "name": "12",
         "stats": {
          "histogram": [
           {
            "bin_end": 0.1,
            "bin_start": 0,
            "count": 120
           },
           {
            "bin_end": 0.2,
            "bin_start": 0.1,
            "count": 0
           },
           {
            "bin_end": 0.30000000000000004,
            "bin_start": 0.2,
            "count": 0
           },
           {
            "bin_end": 0.4,
            "bin_start": 0.30000000000000004,
            "count": 0
           },
           {
            "bin_end": 0.5,
            "bin_start": 0.4,
            "count": 0
           },
           {
            "bin_end": 0.6000000000000001,
            "bin_start": 0.5,
            "count": 0
           },
           {
            "bin_end": 0.7000000000000001,
            "bin_start": 0.6000000000000001,
            "count": 0
           },
           {
            "bin_end": 0.8,
            "bin_start": 0.7000000000000001,
            "count": 0
           },
           {
            "bin_end": 0.9,
            "bin_start": 0.8,
            "count": 0
           },
           {
            "bin_end": 1,
            "bin_start": 0.9,
            "count": 194
           }
          ],
          "max": "1",
          "min": "0",
          "nan_count": 0,
          "unique_count": 2
         }
        },
        {
         "dtype": "int64",
         "name": "13",
         "stats": {
          "histogram": [
           {
            "bin_end": 0.1,
            "bin_start": 0,
            "count": 90
           },
           {
            "bin_end": 0.2,
            "bin_start": 0.1,
            "count": 0
           },
           {
            "bin_end": 0.30000000000000004,
            "bin_start": 0.2,
            "count": 0
           },
           {
            "bin_end": 0.4,
            "bin_start": 0.30000000000000004,
            "count": 0
           },
           {
            "bin_end": 0.5,
            "bin_start": 0.4,
            "count": 0
           },
           {
            "bin_end": 0.6000000000000001,
            "bin_start": 0.5,
            "count": 0
           },
           {
            "bin_end": 0.7000000000000001,
            "bin_start": 0.6000000000000001,
            "count": 0
           },
           {
            "bin_end": 0.8,
            "bin_start": 0.7000000000000001,
            "count": 0
           },
           {
            "bin_end": 0.9,
            "bin_start": 0.8,
            "count": 0
           },
           {
            "bin_end": 1,
            "bin_start": 0.9,
            "count": 224
           }
          ],
          "max": "1",
          "min": "0",
          "nan_count": 0,
          "unique_count": 2
         }
        },
        {
         "dtype": "int64",
         "name": "14",
         "stats": {
          "histogram": [
           {
            "bin_end": 0.1,
            "bin_start": 0,
            "count": 99
           },
           {
            "bin_end": 0.2,
            "bin_start": 0.1,
            "count": 0
           },
           {
            "bin_end": 0.30000000000000004,
            "bin_start": 0.2,
            "count": 0
           },
           {
            "bin_end": 0.4,
            "bin_start": 0.30000000000000004,
            "count": 0
           },
           {
            "bin_end": 0.5,
            "bin_start": 0.4,
            "count": 0
           },
           {
            "bin_end": 0.6000000000000001,
            "bin_start": 0.5,
            "count": 0
           },
           {
            "bin_end": 0.7000000000000001,
            "bin_start": 0.6000000000000001,
            "count": 0
           },
           {
            "bin_end": 0.8,
            "bin_start": 0.7000000000000001,
            "count": 0
           },
           {
            "bin_end": 0.9,
            "bin_start": 0.8,
            "count": 0
           },
           {
            "bin_end": 1,
            "bin_start": 0.9,
            "count": 215
           }
          ],
          "max": "1",
          "min": "0",
          "nan_count": 0,
          "unique_count": 2
         }
        },
        {
         "dtype": "int64",
         "name": "15",
         "stats": {
          "histogram": [
           {
            "bin_end": 0.1,
            "bin_start": 0,
            "count": 135
           },
           {
            "bin_end": 0.2,
            "bin_start": 0.1,
            "count": 0
           },
           {
            "bin_end": 0.30000000000000004,
            "bin_start": 0.2,
            "count": 0
           },
           {
            "bin_end": 0.4,
            "bin_start": 0.30000000000000004,
            "count": 0
           },
           {
            "bin_end": 0.5,
            "bin_start": 0.4,
            "count": 0
           },
           {
            "bin_end": 0.6000000000000001,
            "bin_start": 0.5,
            "count": 0
           },
           {
            "bin_end": 0.7000000000000001,
            "bin_start": 0.6000000000000001,
            "count": 0
           },
           {
            "bin_end": 0.8,
            "bin_start": 0.7000000000000001,
            "count": 0
           },
           {
            "bin_end": 0.9,
            "bin_start": 0.8,
            "count": 0
           },
           {
            "bin_end": 1,
            "bin_start": 0.9,
            "count": 179
           }
          ],
          "max": "1",
          "min": "0",
          "nan_count": 0,
          "unique_count": 2
         }
        },
        {
         "dtype": "int64",
         "name": "16",
         "stats": {
          "histogram": [
           {
            "bin_end": 0.2,
            "bin_start": 0,
            "count": 101
           },
           {
            "bin_end": 0.4,
            "bin_start": 0.2,
            "count": 0
           },
           {
            "bin_end": 0.6000000000000001,
            "bin_start": 0.4,
            "count": 0
           },
           {
            "bin_end": 0.8,
            "bin_start": 0.6000000000000001,
            "count": 0
           },
           {
            "bin_end": 1,
            "bin_start": 0.8,
            "count": 0
           },
           {
            "bin_end": 1.2000000000000002,
            "bin_start": 1,
            "count": 0
           },
           {
            "bin_end": 1.4000000000000001,
            "bin_start": 1.2000000000000002,
            "count": 0
           },
           {
            "bin_end": 1.6,
            "bin_start": 1.4000000000000001,
            "count": 0
           },
           {
            "bin_end": 1.8,
            "bin_start": 1.6,
            "count": 0
           },
           {
            "bin_end": 2,
            "bin_start": 1.8,
            "count": 213
           }
          ],
          "max": "2",
          "min": "0",
          "nan_count": 0,
          "unique_count": 2
         }
        },
        {
         "dtype": "int64",
         "name": "17",
         "stats": {
          "histogram": [
           {
            "bin_end": 0.1,
            "bin_start": 0,
            "count": 85
           },
           {
            "bin_end": 0.2,
            "bin_start": 0.1,
            "count": 0
           },
           {
            "bin_end": 0.30000000000000004,
            "bin_start": 0.2,
            "count": 0
           },
           {
            "bin_end": 0.4,
            "bin_start": 0.30000000000000004,
            "count": 0
           },
           {
            "bin_end": 0.5,
            "bin_start": 0.4,
            "count": 0
           },
           {
            "bin_end": 0.6000000000000001,
            "bin_start": 0.5,
            "count": 0
           },
           {
            "bin_end": 0.7000000000000001,
            "bin_start": 0.6000000000000001,
            "count": 0
           },
           {
            "bin_end": 0.8,
            "bin_start": 0.7000000000000001,
            "count": 0
           },
           {
            "bin_end": 0.9,
            "bin_start": 0.8,
            "count": 0
           },
           {
            "bin_end": 1,
            "bin_start": 0.9,
            "count": 229
           }
          ],
          "max": "1",
          "min": "0",
          "nan_count": 0,
          "unique_count": 2
         }
        },
        {
         "dtype": "int64",
         "name": "18",
         "stats": {
          "histogram": [
           {
            "bin_end": 0.1,
            "bin_start": 0,
            "count": 33
           },
           {
            "bin_end": 0.2,
            "bin_start": 0.1,
            "count": 0
           },
           {
            "bin_end": 0.30000000000000004,
            "bin_start": 0.2,
            "count": 0
           },
           {
            "bin_end": 0.4,
            "bin_start": 0.30000000000000004,
            "count": 0
           },
           {
            "bin_end": 0.5,
            "bin_start": 0.4,
            "count": 0
           },
           {
            "bin_end": 0.6000000000000001,
            "bin_start": 0.5,
            "count": 0
           },
           {
            "bin_end": 0.7000000000000001,
            "bin_start": 0.6000000000000001,
            "count": 0
           },
           {
            "bin_end": 0.8,
            "bin_start": 0.7000000000000001,
            "count": 0
           },
           {
            "bin_end": 0.9,
            "bin_start": 0.8,
            "count": 0
           },
           {
            "bin_end": 1,
            "bin_start": 0.9,
            "count": 281
           }
          ],
          "max": "1",
          "min": "0",
          "nan_count": 0,
          "unique_count": 2
         }
        },
        {
         "dtype": "int64",
         "name": "19",
         "stats": {
          "histogram": [
           {
            "bin_end": 0.6,
            "bin_start": 0.5,
            "count": 0
           },
           {
            "bin_end": 0.7,
            "bin_start": 0.6,
            "count": 0
           },
           {
            "bin_end": 0.8,
            "bin_start": 0.7,
            "count": 0
           },
           {
            "bin_end": 0.9,
            "bin_start": 0.8,
            "count": 0
           },
           {
            "bin_end": 1,
            "bin_start": 0.9,
            "count": 0
           },
           {
            "bin_end": 1.1,
            "bin_start": 1,
            "count": 314
           },
           {
            "bin_end": 1.2000000000000002,
            "bin_start": 1.1,
            "count": 0
           },
           {
            "bin_end": 1.3,
            "bin_start": 1.2000000000000002,
            "count": 0
           },
           {
            "bin_end": 1.4,
            "bin_start": 1.3,
            "count": 0
           },
           {
            "bin_end": 1.5,
            "bin_start": 1.4,
            "count": 0
           }
          ],
          "max": "1",
          "min": "1",
          "nan_count": 0,
          "unique_count": 1
         }
        },
        {
         "dtype": "int64",
         "name": "20",
         "stats": {
          "histogram": [
           {
            "bin_end": 0.1,
            "bin_start": 0,
            "count": 90
           },
           {
            "bin_end": 0.2,
            "bin_start": 0.1,
            "count": 0
           },
           {
            "bin_end": 0.30000000000000004,
            "bin_start": 0.2,
            "count": 0
           },
           {
            "bin_end": 0.4,
            "bin_start": 0.30000000000000004,
            "count": 0
           },
           {
            "bin_end": 0.5,
            "bin_start": 0.4,
            "count": 0
           },
           {
            "bin_end": 0.6000000000000001,
            "bin_start": 0.5,
            "count": 0
           },
           {
            "bin_end": 0.7000000000000001,
            "bin_start": 0.6000000000000001,
            "count": 0
           },
           {
            "bin_end": 0.8,
            "bin_start": 0.7000000000000001,
            "count": 0
           },
           {
            "bin_end": 0.9,
            "bin_start": 0.8,
            "count": 0
           },
           {
            "bin_end": 1,
            "bin_start": 0.9,
            "count": 224
           }
          ],
          "max": "1",
          "min": "0",
          "nan_count": 0,
          "unique_count": 2
         }
        },
        {
         "dtype": "int64",
         "name": "21",
         "stats": {
          "histogram": [
           {
            "bin_end": 0.1,
            "bin_start": 0,
            "count": 34
           },
           {
            "bin_end": 0.2,
            "bin_start": 0.1,
            "count": 0
           },
           {
            "bin_end": 0.30000000000000004,
            "bin_start": 0.2,
            "count": 0
           },
           {
            "bin_end": 0.4,
            "bin_start": 0.30000000000000004,
            "count": 0
           },
           {
            "bin_end": 0.5,
            "bin_start": 0.4,
            "count": 0
           },
           {
            "bin_end": 0.6000000000000001,
            "bin_start": 0.5,
            "count": 0
           },
           {
            "bin_end": 0.7000000000000001,
            "bin_start": 0.6000000000000001,
            "count": 0
           },
           {
            "bin_end": 0.8,
            "bin_start": 0.7000000000000001,
            "count": 0
           },
           {
            "bin_end": 0.9,
            "bin_start": 0.8,
            "count": 0
           },
           {
            "bin_end": 1,
            "bin_start": 0.9,
            "count": 280
           }
          ],
          "max": "1",
          "min": "0",
          "nan_count": 0,
          "unique_count": 2
         }
        },
        {
         "dtype": "int64",
         "name": "22",
         "stats": {
          "histogram": [
           {
            "bin_end": 0.2,
            "bin_start": 0,
            "count": 136
           },
           {
            "bin_end": 0.4,
            "bin_start": 0.2,
            "count": 0
           },
           {
            "bin_end": 0.6000000000000001,
            "bin_start": 0.4,
            "count": 0
           },
           {
            "bin_end": 0.8,
            "bin_start": 0.6000000000000001,
            "count": 0
           },
           {
            "bin_end": 1,
            "bin_start": 0.8,
            "count": 0
           },
           {
            "bin_end": 1.2000000000000002,
            "bin_start": 1,
            "count": 0
           },
           {
            "bin_end": 1.4000000000000001,
            "bin_start": 1.2000000000000002,
            "count": 0
           },
           {
            "bin_end": 1.6,
            "bin_start": 1.4000000000000001,
            "count": 0
           },
           {
            "bin_end": 1.8,
            "bin_start": 1.6,
            "count": 0
           },
           {
            "bin_end": 2,
            "bin_start": 1.8,
            "count": 178
           }
          ],
          "max": "2",
          "min": "0",
          "nan_count": 0,
          "unique_count": 2
         }
        },
        {
         "dtype": "int64",
         "name": "23",
         "stats": {
          "histogram": [
           {
            "bin_end": 0.2,
            "bin_start": 0,
            "count": 275
           },
           {
            "bin_end": 0.4,
            "bin_start": 0.2,
            "count": 0
           },
           {
            "bin_end": 0.6000000000000001,
            "bin_start": 0.4,
            "count": 0
           },
           {
            "bin_end": 0.8,
            "bin_start": 0.6000000000000001,
            "count": 0
           },
           {
            "bin_end": 1,
            "bin_start": 0.8,
            "count": 0
           },
           {
            "bin_end": 1.2000000000000002,
            "bin_start": 1,
            "count": 0
           },
           {
            "bin_end": 1.4000000000000001,
            "bin_start": 1.2000000000000002,
            "count": 0
           },
           {
            "bin_end": 1.6,
            "bin_start": 1.4000000000000001,
            "count": 0
           },
           {
            "bin_end": 1.8,
            "bin_start": 1.6,
            "count": 0
           },
           {
            "bin_end": 2,
            "bin_start": 1.8,
            "count": 39
           }
          ],
          "max": "2",
          "min": "0",
          "nan_count": 0,
          "unique_count": 2
         }
        },
        {
         "dtype": "int64",
         "name": "_deepnote_index_column"
        }
       ],
       "row_count": 314,
       "rows": [
        {
         "1": 1,
         "10": 0,
         "11": 0,
         "12": 0,
         "13": 0,
         "14": 0,
         "15": 0,
         "16": 0,
         "17": 0,
         "18": 1,
         "19": 1,
         "2": 1,
         "20": 1,
         "21": 1,
         "22": 2,
         "23": 0,
         "3": 1,
         "4": 1,
         "5": 2,
         "6": 1,
         "7": 1,
         "8": 1,
         "9": 1,
         "Mata Kuliah": "DPSI C",
         "NIM": 215150701111025,
         "Nama Mahasiswa": "Irfan Hanif Habibi",
         "Timestamp": "4/18/2022 14:06:17",
         "_deepnote_index_column": 0
        },
        {
         "1": 1,
         "10": 0,
         "11": 0,
         "12": 1,
         "13": 0,
         "14": 0,
         "15": 0,
         "16": 0,
         "17": 1,
         "18": 1,
         "19": 1,
         "2": 1,
         "20": 1,
         "21": 1,
         "22": 2,
         "23": 2,
         "3": 0,
         "4": 1,
         "5": 2,
         "6": 1,
         "7": 1,
         "8": 1,
         "9": 1,
         "Mata Kuliah": "DPSI C",
         "NIM": 215150701111003,
         "Nama Mahasiswa": "Ghifari Adil Ruchiyat",
         "Timestamp": "4/18/2022 14:07:37",
         "_deepnote_index_column": 1
        },
        {
         "1": 1,
         "10": 1,
         "11": 0,
         "12": 1,
         "13": 1,
         "14": 1,
         "15": 1,
         "16": 2,
         "17": 1,
         "18": 1,
         "19": 1,
         "2": 1,
         "20": 1,
         "21": 1,
         "22": 0,
         "23": 0,
         "3": 1,
         "4": 1,
         "5": 2,
         "6": 1,
         "7": 1,
         "8": 1,
         "9": 1,
         "Mata Kuliah": "DPSI C",
         "NIM": 215150701111032,
         "Nama Mahasiswa": "Redomeire",
         "Timestamp": "4/18/2022 14:07:43",
         "_deepnote_index_column": 2
        },
        {
         "1": 1,
         "10": 1,
         "11": 1,
         "12": 0,
         "13": 1,
         "14": 1,
         "15": 1,
         "16": 2,
         "17": 0,
         "18": 1,
         "19": 1,
         "2": 1,
         "20": 0,
         "21": 1,
         "22": 2,
         "23": 2,
         "3": 1,
         "4": 1,
         "5": 2,
         "6": 1,
         "7": 1,
         "8": 1,
         "9": 1,
         "Mata Kuliah": "DPSI C",
         "NIM": 215150701111024,
         "Nama Mahasiswa": "Danuar Wiranata",
         "Timestamp": "4/18/2022 14:08:09",
         "_deepnote_index_column": 3
        },
        {
         "1": 1,
         "10": 0,
         "11": 0,
         "12": 0,
         "13": 1,
         "14": 1,
         "15": 0,
         "16": 0,
         "17": 1,
         "18": 1,
         "19": 1,
         "2": 1,
         "20": 1,
         "21": 1,
         "22": 0,
         "23": 0,
         "3": 1,
         "4": 1,
         "5": 2,
         "6": 1,
         "7": 1,
         "8": 1,
         "9": 1,
         "Mata Kuliah": "DPSI C",
         "NIM": 215150701111005,
         "Nama Mahasiswa": "Danish Alif Arsan",
         "Timestamp": "4/18/2022 14:08:14",
         "_deepnote_index_column": 4
        },
        {
         "1": 1,
         "10": 0,
         "11": 0,
         "12": 0,
         "13": 0,
         "14": 0,
         "15": 0,
         "16": 0,
         "17": 0,
         "18": 0,
         "19": 1,
         "2": 1,
         "20": 0,
         "21": 0,
         "22": 2,
         "23": 2,
         "3": 1,
         "4": 1,
         "5": 2,
         "6": 1,
         "7": 1,
         "8": 1,
         "9": 0,
         "Mata Kuliah": "DPSI C",
         "NIM": 215150701111013,
         "Nama Mahasiswa": "Muhammad Dayfit Al Rashad ",
         "Timestamp": "4/18/2022 14:08:40",
         "_deepnote_index_column": 5
        },
        {
         "1": 1,
         "10": 0,
         "11": 0,
         "12": 0,
         "13": 1,
         "14": 0,
         "15": 0,
         "16": 2,
         "17": 1,
         "18": 1,
         "19": 1,
         "2": 1,
         "20": 1,
         "21": 1,
         "22": 0,
         "23": 2,
         "3": 1,
         "4": 1,
         "5": 0,
         "6": 1,
         "7": 0,
         "8": 0,
         "9": 1,
         "Mata Kuliah": "DPSI C",
         "NIM": 215150701111004,
         "Nama Mahasiswa": "Bagas Meganata",
         "Timestamp": "4/18/2022 14:08:50",
         "_deepnote_index_column": 6
        },
        {
         "1": 0,
         "10": 0,
         "11": 0,
         "12": 0,
         "13": 1,
         "14": 0,
         "15": 0,
         "16": 0,
         "17": 0,
         "18": 1,
         "19": 1,
         "2": 0,
         "20": 0,
         "21": 0,
         "22": 0,
         "23": 0,
         "3": 1,
         "4": 1,
         "5": 0,
         "6": 1,
         "7": 0,
         "8": 0,
         "9": 1,
         "Mata Kuliah": "DPSI C",
         "NIM": 215150701111019,
         "Nama Mahasiswa": "Aulia Heppy Cahya Sudjianto",
         "Timestamp": "4/18/2022 14:08:57",
         "_deepnote_index_column": 7
        },
        {
         "1": 0,
         "10": 1,
         "11": 1,
         "12": 0,
         "13": 0,
         "14": 0,
         "15": 1,
         "16": 2,
         "17": 0,
         "18": 0,
         "19": 1,
         "2": 0,
         "20": 0,
         "21": 0,
         "22": 2,
         "23": 0,
         "3": 0,
         "4": 1,
         "5": 0,
         "6": 1,
         "7": 0,
         "8": 0,
         "9": 1,
         "Mata Kuliah": "DPSI C",
         "NIM": 215150701111031,
         "Nama Mahasiswa": "Firda Kusumamawardhani",
         "Timestamp": "4/18/2022 14:08:58",
         "_deepnote_index_column": 8
        },
        {
         "1": 1,
         "10": 1,
         "11": 0,
         "12": 0,
         "13": 1,
         "14": 0,
         "15": 0,
         "16": 0,
         "17": 0,
         "18": 1,
         "19": 1,
         "2": 1,
         "20": 0,
         "21": 1,
         "22": 0,
         "23": 0,
         "3": 1,
         "4": 1,
         "5": 2,
         "6": 1,
         "7": 1,
         "8": 1,
         "9": 1,
         "Mata Kuliah": "DPSI C",
         "NIM": 215150701111026,
         "Nama Mahasiswa": "Erwin Marbinoto Tamba",
         "Timestamp": "4/18/2022 14:09:04",
         "_deepnote_index_column": 9
        }
       ]
      },
      "text/html": [
       "<div>\n",
       "<style scoped>\n",
       "    .dataframe tbody tr th:only-of-type {\n",
       "        vertical-align: middle;\n",
       "    }\n",
       "\n",
       "    .dataframe tbody tr th {\n",
       "        vertical-align: top;\n",
       "    }\n",
       "\n",
       "    .dataframe thead th {\n",
       "        text-align: right;\n",
       "    }\n",
       "</style>\n",
       "<table border=\"1\" class=\"dataframe\">\n",
       "  <thead>\n",
       "    <tr style=\"text-align: right;\">\n",
       "      <th></th>\n",
       "      <th>Timestamp</th>\n",
       "      <th>Nama Mahasiswa</th>\n",
       "      <th>NIM</th>\n",
       "      <th>Mata Kuliah</th>\n",
       "      <th>1</th>\n",
       "      <th>2</th>\n",
       "      <th>3</th>\n",
       "      <th>4</th>\n",
       "      <th>5</th>\n",
       "      <th>6</th>\n",
       "      <th>...</th>\n",
       "      <th>14</th>\n",
       "      <th>15</th>\n",
       "      <th>16</th>\n",
       "      <th>17</th>\n",
       "      <th>18</th>\n",
       "      <th>19</th>\n",
       "      <th>20</th>\n",
       "      <th>21</th>\n",
       "      <th>22</th>\n",
       "      <th>23</th>\n",
       "    </tr>\n",
       "  </thead>\n",
       "  <tbody>\n",
       "    <tr>\n",
       "      <th>0</th>\n",
       "      <td>4/18/2022 14:06:17</td>\n",
       "      <td>Irfan Hanif Habibi</td>\n",
       "      <td>215150701111025</td>\n",
       "      <td>DPSI C</td>\n",
       "      <td>1</td>\n",
       "      <td>1</td>\n",
       "      <td>1</td>\n",
       "      <td>1</td>\n",
       "      <td>2</td>\n",
       "      <td>1</td>\n",
       "      <td>...</td>\n",
       "      <td>0</td>\n",
       "      <td>0</td>\n",
       "      <td>0</td>\n",
       "      <td>0</td>\n",
       "      <td>1</td>\n",
       "      <td>1</td>\n",
       "      <td>1</td>\n",
       "      <td>1</td>\n",
       "      <td>2</td>\n",
       "      <td>0</td>\n",
       "    </tr>\n",
       "    <tr>\n",
       "      <th>1</th>\n",
       "      <td>4/18/2022 14:07:37</td>\n",
       "      <td>Ghifari Adil Ruchiyat</td>\n",
       "      <td>215150701111003</td>\n",
       "      <td>DPSI C</td>\n",
       "      <td>1</td>\n",
       "      <td>1</td>\n",
       "      <td>0</td>\n",
       "      <td>1</td>\n",
       "      <td>2</td>\n",
       "      <td>1</td>\n",
       "      <td>...</td>\n",
       "      <td>0</td>\n",
       "      <td>0</td>\n",
       "      <td>0</td>\n",
       "      <td>1</td>\n",
       "      <td>1</td>\n",
       "      <td>1</td>\n",
       "      <td>1</td>\n",
       "      <td>1</td>\n",
       "      <td>2</td>\n",
       "      <td>2</td>\n",
       "    </tr>\n",
       "    <tr>\n",
       "      <th>2</th>\n",
       "      <td>4/18/2022 14:07:43</td>\n",
       "      <td>Redomeire</td>\n",
       "      <td>215150701111032</td>\n",
       "      <td>DPSI C</td>\n",
       "      <td>1</td>\n",
       "      <td>1</td>\n",
       "      <td>1</td>\n",
       "      <td>1</td>\n",
       "      <td>2</td>\n",
       "      <td>1</td>\n",
       "      <td>...</td>\n",
       "      <td>1</td>\n",
       "      <td>1</td>\n",
       "      <td>2</td>\n",
       "      <td>1</td>\n",
       "      <td>1</td>\n",
       "      <td>1</td>\n",
       "      <td>1</td>\n",
       "      <td>1</td>\n",
       "      <td>0</td>\n",
       "      <td>0</td>\n",
       "    </tr>\n",
       "    <tr>\n",
       "      <th>3</th>\n",
       "      <td>4/18/2022 14:08:09</td>\n",
       "      <td>Danuar Wiranata</td>\n",
       "      <td>215150701111024</td>\n",
       "      <td>DPSI C</td>\n",
       "      <td>1</td>\n",
       "      <td>1</td>\n",
       "      <td>1</td>\n",
       "      <td>1</td>\n",
       "      <td>2</td>\n",
       "      <td>1</td>\n",
       "      <td>...</td>\n",
       "      <td>1</td>\n",
       "      <td>1</td>\n",
       "      <td>2</td>\n",
       "      <td>0</td>\n",
       "      <td>1</td>\n",
       "      <td>1</td>\n",
       "      <td>0</td>\n",
       "      <td>1</td>\n",
       "      <td>2</td>\n",
       "      <td>2</td>\n",
       "    </tr>\n",
       "    <tr>\n",
       "      <th>4</th>\n",
       "      <td>4/18/2022 14:08:14</td>\n",
       "      <td>Danish Alif Arsan</td>\n",
       "      <td>215150701111005</td>\n",
       "      <td>DPSI C</td>\n",
       "      <td>1</td>\n",
       "      <td>1</td>\n",
       "      <td>1</td>\n",
       "      <td>1</td>\n",
       "      <td>2</td>\n",
       "      <td>1</td>\n",
       "      <td>...</td>\n",
       "      <td>1</td>\n",
       "      <td>0</td>\n",
       "      <td>0</td>\n",
       "      <td>1</td>\n",
       "      <td>1</td>\n",
       "      <td>1</td>\n",
       "      <td>1</td>\n",
       "      <td>1</td>\n",
       "      <td>0</td>\n",
       "      <td>0</td>\n",
       "    </tr>\n",
       "    <tr>\n",
       "      <th>...</th>\n",
       "      <td>...</td>\n",
       "      <td>...</td>\n",
       "      <td>...</td>\n",
       "      <td>...</td>\n",
       "      <td>...</td>\n",
       "      <td>...</td>\n",
       "      <td>...</td>\n",
       "      <td>...</td>\n",
       "      <td>...</td>\n",
       "      <td>...</td>\n",
       "      <td>...</td>\n",
       "      <td>...</td>\n",
       "      <td>...</td>\n",
       "      <td>...</td>\n",
       "      <td>...</td>\n",
       "      <td>...</td>\n",
       "      <td>...</td>\n",
       "      <td>...</td>\n",
       "      <td>...</td>\n",
       "      <td>...</td>\n",
       "      <td>...</td>\n",
       "    </tr>\n",
       "    <tr>\n",
       "      <th>309</th>\n",
       "      <td>5/25/2022 11:36:09</td>\n",
       "      <td>Muhammad Rafi Aryadinata</td>\n",
       "      <td>205150407111037</td>\n",
       "      <td>ADSI E</td>\n",
       "      <td>1</td>\n",
       "      <td>1</td>\n",
       "      <td>1</td>\n",
       "      <td>1</td>\n",
       "      <td>2</td>\n",
       "      <td>1</td>\n",
       "      <td>...</td>\n",
       "      <td>1</td>\n",
       "      <td>1</td>\n",
       "      <td>2</td>\n",
       "      <td>1</td>\n",
       "      <td>1</td>\n",
       "      <td>1</td>\n",
       "      <td>1</td>\n",
       "      <td>1</td>\n",
       "      <td>2</td>\n",
       "      <td>0</td>\n",
       "    </tr>\n",
       "    <tr>\n",
       "      <th>310</th>\n",
       "      <td>5/31/2022 1:12:01</td>\n",
       "      <td>Leonard Samuel Pakpahan</td>\n",
       "      <td>205150707111019</td>\n",
       "      <td>IESI D</td>\n",
       "      <td>1</td>\n",
       "      <td>0</td>\n",
       "      <td>1</td>\n",
       "      <td>0</td>\n",
       "      <td>2</td>\n",
       "      <td>1</td>\n",
       "      <td>...</td>\n",
       "      <td>1</td>\n",
       "      <td>1</td>\n",
       "      <td>2</td>\n",
       "      <td>1</td>\n",
       "      <td>0</td>\n",
       "      <td>1</td>\n",
       "      <td>0</td>\n",
       "      <td>0</td>\n",
       "      <td>0</td>\n",
       "      <td>0</td>\n",
       "    </tr>\n",
       "    <tr>\n",
       "      <th>311</th>\n",
       "      <td>6/2/2022 11:52:54</td>\n",
       "      <td>Kevin Alif Mahendra</td>\n",
       "      <td>195150200111063</td>\n",
       "      <td>PPM F</td>\n",
       "      <td>1</td>\n",
       "      <td>1</td>\n",
       "      <td>1</td>\n",
       "      <td>0</td>\n",
       "      <td>0</td>\n",
       "      <td>0</td>\n",
       "      <td>...</td>\n",
       "      <td>1</td>\n",
       "      <td>1</td>\n",
       "      <td>2</td>\n",
       "      <td>1</td>\n",
       "      <td>1</td>\n",
       "      <td>1</td>\n",
       "      <td>1</td>\n",
       "      <td>1</td>\n",
       "      <td>2</td>\n",
       "      <td>2</td>\n",
       "    </tr>\n",
       "    <tr>\n",
       "      <th>312</th>\n",
       "      <td>6/14/2022 13:18:22</td>\n",
       "      <td>Rif'atul Ilmi</td>\n",
       "      <td>205150701111024</td>\n",
       "      <td>IESI D</td>\n",
       "      <td>1</td>\n",
       "      <td>0</td>\n",
       "      <td>1</td>\n",
       "      <td>0</td>\n",
       "      <td>2</td>\n",
       "      <td>1</td>\n",
       "      <td>...</td>\n",
       "      <td>1</td>\n",
       "      <td>1</td>\n",
       "      <td>2</td>\n",
       "      <td>1</td>\n",
       "      <td>1</td>\n",
       "      <td>1</td>\n",
       "      <td>1</td>\n",
       "      <td>1</td>\n",
       "      <td>2</td>\n",
       "      <td>0</td>\n",
       "    </tr>\n",
       "    <tr>\n",
       "      <th>313</th>\n",
       "      <td>6/25/2022 22:31:52</td>\n",
       "      <td>Irsyad Gema Adzani</td>\n",
       "      <td>175150200111049</td>\n",
       "      <td>PPM F</td>\n",
       "      <td>0</td>\n",
       "      <td>0</td>\n",
       "      <td>1</td>\n",
       "      <td>0</td>\n",
       "      <td>2</td>\n",
       "      <td>1</td>\n",
       "      <td>...</td>\n",
       "      <td>0</td>\n",
       "      <td>0</td>\n",
       "      <td>2</td>\n",
       "      <td>1</td>\n",
       "      <td>1</td>\n",
       "      <td>1</td>\n",
       "      <td>1</td>\n",
       "      <td>1</td>\n",
       "      <td>2</td>\n",
       "      <td>0</td>\n",
       "    </tr>\n",
       "  </tbody>\n",
       "</table>\n",
       "<p>314 rows × 27 columns</p>\n",
       "</div>"
      ],
      "text/plain": [
       "              Timestamp            Nama Mahasiswa              NIM  \\\n",
       "0    4/18/2022 14:06:17        Irfan Hanif Habibi  215150701111025   \n",
       "1    4/18/2022 14:07:37     Ghifari Adil Ruchiyat  215150701111003   \n",
       "2    4/18/2022 14:07:43                 Redomeire  215150701111032   \n",
       "3    4/18/2022 14:08:09           Danuar Wiranata  215150701111024   \n",
       "4    4/18/2022 14:08:14         Danish Alif Arsan  215150701111005   \n",
       "..                  ...                       ...              ...   \n",
       "309  5/25/2022 11:36:09  Muhammad Rafi Aryadinata  205150407111037   \n",
       "310   5/31/2022 1:12:01   Leonard Samuel Pakpahan  205150707111019   \n",
       "311   6/2/2022 11:52:54       Kevin Alif Mahendra  195150200111063   \n",
       "312  6/14/2022 13:18:22             Rif'atul Ilmi  205150701111024   \n",
       "313  6/25/2022 22:31:52        Irsyad Gema Adzani  175150200111049   \n",
       "\n",
       "    Mata Kuliah  1  2  3  4  5  6  ...  14  15  16  17  18  19  20  21  22  23  \n",
       "0        DPSI C  1  1  1  1  2  1  ...   0   0   0   0   1   1   1   1   2   0  \n",
       "1        DPSI C  1  1  0  1  2  1  ...   0   0   0   1   1   1   1   1   2   2  \n",
       "2        DPSI C  1  1  1  1  2  1  ...   1   1   2   1   1   1   1   1   0   0  \n",
       "3        DPSI C  1  1  1  1  2  1  ...   1   1   2   0   1   1   0   1   2   2  \n",
       "4        DPSI C  1  1  1  1  2  1  ...   1   0   0   1   1   1   1   1   0   0  \n",
       "..          ... .. .. .. .. .. ..  ...  ..  ..  ..  ..  ..  ..  ..  ..  ..  ..  \n",
       "309      ADSI E  1  1  1  1  2  1  ...   1   1   2   1   1   1   1   1   2   0  \n",
       "310      IESI D  1  0  1  0  2  1  ...   1   1   2   1   0   1   0   0   0   0  \n",
       "311       PPM F  1  1  1  0  0  0  ...   1   1   2   1   1   1   1   1   2   2  \n",
       "312      IESI D  1  0  1  0  2  1  ...   1   1   2   1   1   1   1   1   2   0  \n",
       "313       PPM F  0  0  1  0  2  1  ...   0   0   2   1   1   1   1   1   2   0  \n",
       "\n",
       "[314 rows x 27 columns]"
      ]
     },
     "execution_count": 7,
     "metadata": {},
     "output_type": "execute_result"
    }
   ],
   "source": [
    "pretest[\"1\"]=pretest[\"1\"].astype(str).astype(int)\n",
    "pretest[\"2\"]=pretest[\"2\"].astype(str).astype(int)\n",
    "pretest[\"3\"]=pretest[\"3\"].astype(str).astype(int)\n",
    "pretest[\"4\"]=pretest[\"4\"].astype(str).astype(int)\n",
    "pretest[\"5\"]=pretest[\"5\"].astype(str).astype(int)\n",
    "pretest[\"6\"]=pretest[\"6\"].astype(str).astype(int)\n",
    "pretest[\"7\"]=pretest[\"7\"].astype(str).astype(int)\n",
    "pretest[\"8\"]=pretest[\"8\"].astype(str).astype(int)\n",
    "pretest[\"9\"]=pretest[\"9\"].astype(str).astype(int)\n",
    "pretest[\"10\"]=pretest[\"10\"].astype(str).astype(int)\n",
    "pretest[\"11\"]=pretest[\"11\"].astype(str).astype(int)\n",
    "pretest[\"12\"]=pretest[\"12\"].astype(str).astype(int)\n",
    "pretest[\"13\"]=pretest[\"13\"].astype(str).astype(int)\n",
    "pretest[\"14\"]=pretest[\"14\"].astype(str).astype(int)\n",
    "pretest[\"15\"]=pretest[\"15\"].astype(str).astype(int)\n",
    "pretest[\"16\"]=pretest[\"16\"].astype(str).astype(int)\n",
    "pretest[\"17\"]=pretest[\"17\"].astype(str).astype(int)\n",
    "pretest[\"18\"]=pretest[\"18\"].astype(str).astype(int)\n",
    "pretest[\"19\"]=pretest[\"19\"].astype(str).astype(int)\n",
    "pretest[\"20\"]=pretest[\"20\"].astype(str).astype(int)\n",
    "pretest[\"21\"]=pretest[\"21\"].astype(str).astype(int)\n",
    "pretest[\"22\"]=pretest[\"22\"].astype(str).astype(int)\n",
    "pretest[\"23\"]=pretest[\"23\"].astype(str).astype(int)\n",
    "\n",
    "pretest"
   ]
  },
  {
   "cell_type": "code",
   "execution_count": null,
   "metadata": {
    "cell_id": "5bc7581bfbd342d5a8c6dbdd340cb9c4",
    "deepnote_cell_height": 1042,
    "deepnote_cell_type": "code",
    "deepnote_to_be_reexecuted": false,
    "execution_millis": 62,
    "execution_start": 1659931846391,
    "source_hash": "fbb7ffae",
    "tags": []
   },
   "outputs": [
    {
     "data": {
      "application/vnd.deepnote.dataframe.v3+json": {
       "column_count": 27,
       "columns": [
        {
         "dtype": "object",
         "name": "Timestamp",
         "stats": {
          "categories": [
           {
            "count": 3,
            "name": "4/27/2022 22:29:22"
           },
           {
            "count": 2,
            "name": "4/27/2022 22:29:21"
           },
           {
            "count": 237,
            "name": "235 others"
           }
          ],
          "nan_count": 0,
          "unique_count": 237
         }
        },
        {
         "dtype": "object",
         "name": "Nama Mahasiswa",
         "stats": {
          "categories": [
           {
            "count": 2,
            "name": "Dimas Agung Gumelar"
           },
           {
            "count": 2,
            "name": "Noverdi Anugrah Ramadhan"
           },
           {
            "count": 238,
            "name": "234 others"
           }
          ],
          "nan_count": 0,
          "unique_count": 236
         }
        },
        {
         "dtype": "int64",
         "name": "NIM",
         "stats": {
          "histogram": [
           {
            "bin_end": 39978588811031.4,
            "bin_start": 20515020111030,
            "count": 3
           },
           {
            "bin_end": 59442157511032.8,
            "bin_start": 39978588811031.4,
            "count": 0
           },
           {
            "bin_end": 78905726211034.19,
            "bin_start": 59442157511032.8,
            "count": 0
           },
           {
            "bin_end": 98369294911035.6,
            "bin_start": 78905726211034.19,
            "count": 0
           },
           {
            "bin_end": 117832863611037,
            "bin_start": 98369294911035.6,
            "count": 1
           },
           {
            "bin_end": 137296432311038.39,
            "bin_start": 117832863611037,
            "count": 0
           },
           {
            "bin_end": 156760001011039.78,
            "bin_start": 137296432311038.39,
            "count": 0
           },
           {
            "bin_end": 176223569711041.2,
            "bin_start": 156760001011039.78,
            "count": 2
           },
           {
            "bin_end": 195687138411042.6,
            "bin_start": 176223569711041.2,
            "count": 18
           },
           {
            "bin_end": 215150707111044,
            "bin_start": 195687138411042.6,
            "count": 218
           }
          ],
          "max": "215150707111044",
          "min": "20515020111030",
          "nan_count": 0,
          "unique_count": 234
         }
        },
        {
         "dtype": "object",
         "name": "Mata Kuliah",
         "stats": {
          "categories": [
           {
            "count": 32,
            "name": "DPSI C"
           },
           {
            "count": 30,
            "name": "IESI D"
           },
           {
            "count": 180,
            "name": "9 others"
           }
          ],
          "nan_count": 0,
          "unique_count": 11
         }
        },
        {
         "dtype": "int64",
         "name": "1",
         "stats": {
          "histogram": [
           {
            "bin_end": 0.1,
            "bin_start": 0,
            "count": 39
           },
           {
            "bin_end": 0.2,
            "bin_start": 0.1,
            "count": 0
           },
           {
            "bin_end": 0.30000000000000004,
            "bin_start": 0.2,
            "count": 0
           },
           {
            "bin_end": 0.4,
            "bin_start": 0.30000000000000004,
            "count": 0
           },
           {
            "bin_end": 0.5,
            "bin_start": 0.4,
            "count": 0
           },
           {
            "bin_end": 0.6000000000000001,
            "bin_start": 0.5,
            "count": 0
           },
           {
            "bin_end": 0.7000000000000001,
            "bin_start": 0.6000000000000001,
            "count": 0
           },
           {
            "bin_end": 0.8,
            "bin_start": 0.7000000000000001,
            "count": 0
           },
           {
            "bin_end": 0.9,
            "bin_start": 0.8,
            "count": 0
           },
           {
            "bin_end": 1,
            "bin_start": 0.9,
            "count": 203
           }
          ],
          "max": "1",
          "min": "0",
          "nan_count": 0,
          "unique_count": 2
         }
        },
        {
         "dtype": "int64",
         "name": "2",
         "stats": {
          "histogram": [
           {
            "bin_end": 0.1,
            "bin_start": 0,
            "count": 52
           },
           {
            "bin_end": 0.2,
            "bin_start": 0.1,
            "count": 0
           },
           {
            "bin_end": 0.30000000000000004,
            "bin_start": 0.2,
            "count": 0
           },
           {
            "bin_end": 0.4,
            "bin_start": 0.30000000000000004,
            "count": 0
           },
           {
            "bin_end": 0.5,
            "bin_start": 0.4,
            "count": 0
           },
           {
            "bin_end": 0.6000000000000001,
            "bin_start": 0.5,
            "count": 0
           },
           {
            "bin_end": 0.7000000000000001,
            "bin_start": 0.6000000000000001,
            "count": 0
           },
           {
            "bin_end": 0.8,
            "bin_start": 0.7000000000000001,
            "count": 0
           },
           {
            "bin_end": 0.9,
            "bin_start": 0.8,
            "count": 0
           },
           {
            "bin_end": 1,
            "bin_start": 0.9,
            "count": 190
           }
          ],
          "max": "1",
          "min": "0",
          "nan_count": 0,
          "unique_count": 2
         }
        },
        {
         "dtype": "int64",
         "name": "3",
         "stats": {
          "histogram": [
           {
            "bin_end": 0.1,
            "bin_start": 0,
            "count": 11
           },
           {
            "bin_end": 0.2,
            "bin_start": 0.1,
            "count": 0
           },
           {
            "bin_end": 0.30000000000000004,
            "bin_start": 0.2,
            "count": 0
           },
           {
            "bin_end": 0.4,
            "bin_start": 0.30000000000000004,
            "count": 0
           },
           {
            "bin_end": 0.5,
            "bin_start": 0.4,
            "count": 0
           },
           {
            "bin_end": 0.6000000000000001,
            "bin_start": 0.5,
            "count": 0
           },
           {
            "bin_end": 0.7000000000000001,
            "bin_start": 0.6000000000000001,
            "count": 0
           },
           {
            "bin_end": 0.8,
            "bin_start": 0.7000000000000001,
            "count": 0
           },
           {
            "bin_end": 0.9,
            "bin_start": 0.8,
            "count": 0
           },
           {
            "bin_end": 1,
            "bin_start": 0.9,
            "count": 231
           }
          ],
          "max": "1",
          "min": "0",
          "nan_count": 0,
          "unique_count": 2
         }
        },
        {
         "dtype": "int64",
         "name": "4",
         "stats": {
          "histogram": [
           {
            "bin_end": 0.1,
            "bin_start": 0,
            "count": 43
           },
           {
            "bin_end": 0.2,
            "bin_start": 0.1,
            "count": 0
           },
           {
            "bin_end": 0.30000000000000004,
            "bin_start": 0.2,
            "count": 0
           },
           {
            "bin_end": 0.4,
            "bin_start": 0.30000000000000004,
            "count": 0
           },
           {
            "bin_end": 0.5,
            "bin_start": 0.4,
            "count": 0
           },
           {
            "bin_end": 0.6000000000000001,
            "bin_start": 0.5,
            "count": 0
           },
           {
            "bin_end": 0.7000000000000001,
            "bin_start": 0.6000000000000001,
            "count": 0
           },
           {
            "bin_end": 0.8,
            "bin_start": 0.7000000000000001,
            "count": 0
           },
           {
            "bin_end": 0.9,
            "bin_start": 0.8,
            "count": 0
           },
           {
            "bin_end": 1,
            "bin_start": 0.9,
            "count": 199
           }
          ],
          "max": "1",
          "min": "0",
          "nan_count": 0,
          "unique_count": 2
         }
        },
        {
         "dtype": "int64",
         "name": "5",
         "stats": {
          "histogram": [
           {
            "bin_end": 0.2,
            "bin_start": 0,
            "count": 16
           },
           {
            "bin_end": 0.4,
            "bin_start": 0.2,
            "count": 0
           },
           {
            "bin_end": 0.6000000000000001,
            "bin_start": 0.4,
            "count": 0
           },
           {
            "bin_end": 0.8,
            "bin_start": 0.6000000000000001,
            "count": 0
           },
           {
            "bin_end": 1,
            "bin_start": 0.8,
            "count": 0
           },
           {
            "bin_end": 1.2000000000000002,
            "bin_start": 1,
            "count": 0
           },
           {
            "bin_end": 1.4000000000000001,
            "bin_start": 1.2000000000000002,
            "count": 0
           },
           {
            "bin_end": 1.6,
            "bin_start": 1.4000000000000001,
            "count": 0
           },
           {
            "bin_end": 1.8,
            "bin_start": 1.6,
            "count": 0
           },
           {
            "bin_end": 2,
            "bin_start": 1.8,
            "count": 226
           }
          ],
          "max": "2",
          "min": "0",
          "nan_count": 0,
          "unique_count": 2
         }
        },
        {
         "dtype": "int64",
         "name": "6",
         "stats": {
          "histogram": [
           {
            "bin_end": 0.1,
            "bin_start": 0,
            "count": 10
           },
           {
            "bin_end": 0.2,
            "bin_start": 0.1,
            "count": 0
           },
           {
            "bin_end": 0.30000000000000004,
            "bin_start": 0.2,
            "count": 0
           },
           {
            "bin_end": 0.4,
            "bin_start": 0.30000000000000004,
            "count": 0
           },
           {
            "bin_end": 0.5,
            "bin_start": 0.4,
            "count": 0
           },
           {
            "bin_end": 0.6000000000000001,
            "bin_start": 0.5,
            "count": 0
           },
           {
            "bin_end": 0.7000000000000001,
            "bin_start": 0.6000000000000001,
            "count": 0
           },
           {
            "bin_end": 0.8,
            "bin_start": 0.7000000000000001,
            "count": 0
           },
           {
            "bin_end": 0.9,
            "bin_start": 0.8,
            "count": 0
           },
           {
            "bin_end": 1,
            "bin_start": 0.9,
            "count": 232
           }
          ],
          "max": "1",
          "min": "0",
          "nan_count": 0,
          "unique_count": 2
         }
        },
        {
         "dtype": "int64",
         "name": "7",
         "stats": {
          "histogram": [
           {
            "bin_end": 0.1,
            "bin_start": 0,
            "count": 9
           },
           {
            "bin_end": 0.2,
            "bin_start": 0.1,
            "count": 0
           },
           {
            "bin_end": 0.30000000000000004,
            "bin_start": 0.2,
            "count": 0
           },
           {
            "bin_end": 0.4,
            "bin_start": 0.30000000000000004,
            "count": 0
           },
           {
            "bin_end": 0.5,
            "bin_start": 0.4,
            "count": 0
           },
           {
            "bin_end": 0.6000000000000001,
            "bin_start": 0.5,
            "count": 0
           },
           {
            "bin_end": 0.7000000000000001,
            "bin_start": 0.6000000000000001,
            "count": 0
           },
           {
            "bin_end": 0.8,
            "bin_start": 0.7000000000000001,
            "count": 0
           },
           {
            "bin_end": 0.9,
            "bin_start": 0.8,
            "count": 0
           },
           {
            "bin_end": 1,
            "bin_start": 0.9,
            "count": 233
           }
          ],
          "max": "1",
          "min": "0",
          "nan_count": 0,
          "unique_count": 2
         }
        },
        {
         "dtype": "int64",
         "name": "8",
         "stats": {
          "histogram": [
           {
            "bin_end": 0.1,
            "bin_start": 0,
            "count": 8
           },
           {
            "bin_end": 0.2,
            "bin_start": 0.1,
            "count": 0
           },
           {
            "bin_end": 0.30000000000000004,
            "bin_start": 0.2,
            "count": 0
           },
           {
            "bin_end": 0.4,
            "bin_start": 0.30000000000000004,
            "count": 0
           },
           {
            "bin_end": 0.5,
            "bin_start": 0.4,
            "count": 0
           },
           {
            "bin_end": 0.6000000000000001,
            "bin_start": 0.5,
            "count": 0
           },
           {
            "bin_end": 0.7000000000000001,
            "bin_start": 0.6000000000000001,
            "count": 0
           },
           {
            "bin_end": 0.8,
            "bin_start": 0.7000000000000001,
            "count": 0
           },
           {
            "bin_end": 0.9,
            "bin_start": 0.8,
            "count": 0
           },
           {
            "bin_end": 1,
            "bin_start": 0.9,
            "count": 234
           }
          ],
          "max": "1",
          "min": "0",
          "nan_count": 0,
          "unique_count": 2
         }
        },
        {
         "dtype": "int64",
         "name": "9",
         "stats": {
          "histogram": [
           {
            "bin_end": 0.1,
            "bin_start": 0,
            "count": 17
           },
           {
            "bin_end": 0.2,
            "bin_start": 0.1,
            "count": 0
           },
           {
            "bin_end": 0.30000000000000004,
            "bin_start": 0.2,
            "count": 0
           },
           {
            "bin_end": 0.4,
            "bin_start": 0.30000000000000004,
            "count": 0
           },
           {
            "bin_end": 0.5,
            "bin_start": 0.4,
            "count": 0
           },
           {
            "bin_end": 0.6000000000000001,
            "bin_start": 0.5,
            "count": 0
           },
           {
            "bin_end": 0.7000000000000001,
            "bin_start": 0.6000000000000001,
            "count": 0
           },
           {
            "bin_end": 0.8,
            "bin_start": 0.7000000000000001,
            "count": 0
           },
           {
            "bin_end": 0.9,
            "bin_start": 0.8,
            "count": 0
           },
           {
            "bin_end": 1,
            "bin_start": 0.9,
            "count": 225
           }
          ],
          "max": "1",
          "min": "0",
          "nan_count": 0,
          "unique_count": 2
         }
        },
        {
         "dtype": "int64",
         "name": "10",
         "stats": {
          "histogram": [
           {
            "bin_end": 0.1,
            "bin_start": 0,
            "count": 42
           },
           {
            "bin_end": 0.2,
            "bin_start": 0.1,
            "count": 0
           },
           {
            "bin_end": 0.30000000000000004,
            "bin_start": 0.2,
            "count": 0
           },
           {
            "bin_end": 0.4,
            "bin_start": 0.30000000000000004,
            "count": 0
           },
           {
            "bin_end": 0.5,
            "bin_start": 0.4,
            "count": 0
           },
           {
            "bin_end": 0.6000000000000001,
            "bin_start": 0.5,
            "count": 0
           },
           {
            "bin_end": 0.7000000000000001,
            "bin_start": 0.6000000000000001,
            "count": 0
           },
           {
            "bin_end": 0.8,
            "bin_start": 0.7000000000000001,
            "count": 0
           },
           {
            "bin_end": 0.9,
            "bin_start": 0.8,
            "count": 0
           },
           {
            "bin_end": 1,
            "bin_start": 0.9,
            "count": 200
           }
          ],
          "max": "1",
          "min": "0",
          "nan_count": 0,
          "unique_count": 2
         }
        },
        {
         "dtype": "int64",
         "name": "11",
         "stats": {
          "histogram": [
           {
            "bin_end": 0.1,
            "bin_start": 0,
            "count": 173
           },
           {
            "bin_end": 0.2,
            "bin_start": 0.1,
            "count": 0
           },
           {
            "bin_end": 0.30000000000000004,
            "bin_start": 0.2,
            "count": 0
           },
           {
            "bin_end": 0.4,
            "bin_start": 0.30000000000000004,
            "count": 0
           },
           {
            "bin_end": 0.5,
            "bin_start": 0.4,
            "count": 0
           },
           {
            "bin_end": 0.6000000000000001,
            "bin_start": 0.5,
            "count": 0
           },
           {
            "bin_end": 0.7000000000000001,
            "bin_start": 0.6000000000000001,
            "count": 0
           },
           {
            "bin_end": 0.8,
            "bin_start": 0.7000000000000001,
            "count": 0
           },
           {
            "bin_end": 0.9,
            "bin_start": 0.8,
            "count": 0
           },
           {
            "bin_end": 1,
            "bin_start": 0.9,
            "count": 69
           }
          ],
          "max": "1",
          "min": "0",
          "nan_count": 0,
          "unique_count": 2
         }
        },
        {
         "dtype": "int64",
         "name": "12",
         "stats": {
          "histogram": [
           {
            "bin_end": 0.1,
            "bin_start": 0,
            "count": 60
           },
           {
            "bin_end": 0.2,
            "bin_start": 0.1,
            "count": 0
           },
           {
            "bin_end": 0.30000000000000004,
            "bin_start": 0.2,
            "count": 0
           },
           {
            "bin_end": 0.4,
            "bin_start": 0.30000000000000004,
            "count": 0
           },
           {
            "bin_end": 0.5,
            "bin_start": 0.4,
            "count": 0
           },
           {
            "bin_end": 0.6000000000000001,
            "bin_start": 0.5,
            "count": 0
           },
           {
            "bin_end": 0.7000000000000001,
            "bin_start": 0.6000000000000001,
            "count": 0
           },
           {
            "bin_end": 0.8,
            "bin_start": 0.7000000000000001,
            "count": 0
           },
           {
            "bin_end": 0.9,
            "bin_start": 0.8,
            "count": 0
           },
           {
            "bin_end": 1,
            "bin_start": 0.9,
            "count": 182
           }
          ],
          "max": "1",
          "min": "0",
          "nan_count": 0,
          "unique_count": 2
         }
        },
        {
         "dtype": "int64",
         "name": "13",
         "stats": {
          "histogram": [
           {
            "bin_end": 0.1,
            "bin_start": 0,
            "count": 26
           },
           {
            "bin_end": 0.2,
            "bin_start": 0.1,
            "count": 0
           },
           {
            "bin_end": 0.30000000000000004,
            "bin_start": 0.2,
            "count": 0
           },
           {
            "bin_end": 0.4,
            "bin_start": 0.30000000000000004,
            "count": 0
           },
           {
            "bin_end": 0.5,
            "bin_start": 0.4,
            "count": 0
           },
           {
            "bin_end": 0.6000000000000001,
            "bin_start": 0.5,
            "count": 0
           },
           {
            "bin_end": 0.7000000000000001,
            "bin_start": 0.6000000000000001,
            "count": 0
           },
           {
            "bin_end": 0.8,
            "bin_start": 0.7000000000000001,
            "count": 0
           },
           {
            "bin_end": 0.9,
            "bin_start": 0.8,
            "count": 0
           },
           {
            "bin_end": 1,
            "bin_start": 0.9,
            "count": 216
           }
          ],
          "max": "1",
          "min": "0",
          "nan_count": 0,
          "unique_count": 2
         }
        },
        {
         "dtype": "int64",
         "name": "14",
         "stats": {
          "histogram": [
           {
            "bin_end": 0.1,
            "bin_start": 0,
            "count": 66
           },
           {
            "bin_end": 0.2,
            "bin_start": 0.1,
            "count": 0
           },
           {
            "bin_end": 0.30000000000000004,
            "bin_start": 0.2,
            "count": 0
           },
           {
            "bin_end": 0.4,
            "bin_start": 0.30000000000000004,
            "count": 0
           },
           {
            "bin_end": 0.5,
            "bin_start": 0.4,
            "count": 0
           },
           {
            "bin_end": 0.6000000000000001,
            "bin_start": 0.5,
            "count": 0
           },
           {
            "bin_end": 0.7000000000000001,
            "bin_start": 0.6000000000000001,
            "count": 0
           },
           {
            "bin_end": 0.8,
            "bin_start": 0.7000000000000001,
            "count": 0
           },
           {
            "bin_end": 0.9,
            "bin_start": 0.8,
            "count": 0
           },
           {
            "bin_end": 1,
            "bin_start": 0.9,
            "count": 176
           }
          ],
          "max": "1",
          "min": "0",
          "nan_count": 0,
          "unique_count": 2
         }
        },
        {
         "dtype": "int64",
         "name": "15",
         "stats": {
          "histogram": [
           {
            "bin_end": 0.1,
            "bin_start": 0,
            "count": 62
           },
           {
            "bin_end": 0.2,
            "bin_start": 0.1,
            "count": 0
           },
           {
            "bin_end": 0.30000000000000004,
            "bin_start": 0.2,
            "count": 0
           },
           {
            "bin_end": 0.4,
            "bin_start": 0.30000000000000004,
            "count": 0
           },
           {
            "bin_end": 0.5,
            "bin_start": 0.4,
            "count": 0
           },
           {
            "bin_end": 0.6000000000000001,
            "bin_start": 0.5,
            "count": 0
           },
           {
            "bin_end": 0.7000000000000001,
            "bin_start": 0.6000000000000001,
            "count": 0
           },
           {
            "bin_end": 0.8,
            "bin_start": 0.7000000000000001,
            "count": 0
           },
           {
            "bin_end": 0.9,
            "bin_start": 0.8,
            "count": 0
           },
           {
            "bin_end": 1,
            "bin_start": 0.9,
            "count": 180
           }
          ],
          "max": "1",
          "min": "0",
          "nan_count": 0,
          "unique_count": 2
         }
        },
        {
         "dtype": "int64",
         "name": "16",
         "stats": {
          "histogram": [
           {
            "bin_end": 0.2,
            "bin_start": 0,
            "count": 33
           },
           {
            "bin_end": 0.4,
            "bin_start": 0.2,
            "count": 0
           },
           {
            "bin_end": 0.6000000000000001,
            "bin_start": 0.4,
            "count": 0
           },
           {
            "bin_end": 0.8,
            "bin_start": 0.6000000000000001,
            "count": 0
           },
           {
            "bin_end": 1,
            "bin_start": 0.8,
            "count": 0
           },
           {
            "bin_end": 1.2000000000000002,
            "bin_start": 1,
            "count": 0
           },
           {
            "bin_end": 1.4000000000000001,
            "bin_start": 1.2000000000000002,
            "count": 0
           },
           {
            "bin_end": 1.6,
            "bin_start": 1.4000000000000001,
            "count": 0
           },
           {
            "bin_end": 1.8,
            "bin_start": 1.6,
            "count": 0
           },
           {
            "bin_end": 2,
            "bin_start": 1.8,
            "count": 209
           }
          ],
          "max": "2",
          "min": "0",
          "nan_count": 0,
          "unique_count": 2
         }
        },
        {
         "dtype": "int64",
         "name": "17",
         "stats": {
          "histogram": [
           {
            "bin_end": 0.1,
            "bin_start": 0,
            "count": 67
           },
           {
            "bin_end": 0.2,
            "bin_start": 0.1,
            "count": 0
           },
           {
            "bin_end": 0.30000000000000004,
            "bin_start": 0.2,
            "count": 0
           },
           {
            "bin_end": 0.4,
            "bin_start": 0.30000000000000004,
            "count": 0
           },
           {
            "bin_end": 0.5,
            "bin_start": 0.4,
            "count": 0
           },
           {
            "bin_end": 0.6000000000000001,
            "bin_start": 0.5,
            "count": 0
           },
           {
            "bin_end": 0.7000000000000001,
            "bin_start": 0.6000000000000001,
            "count": 0
           },
           {
            "bin_end": 0.8,
            "bin_start": 0.7000000000000001,
            "count": 0
           },
           {
            "bin_end": 0.9,
            "bin_start": 0.8,
            "count": 0
           },
           {
            "bin_end": 1,
            "bin_start": 0.9,
            "count": 175
           }
          ],
          "max": "1",
          "min": "0",
          "nan_count": 0,
          "unique_count": 2
         }
        },
        {
         "dtype": "int64",
         "name": "18",
         "stats": {
          "histogram": [
           {
            "bin_end": 0.1,
            "bin_start": 0,
            "count": 13
           },
           {
            "bin_end": 0.2,
            "bin_start": 0.1,
            "count": 0
           },
           {
            "bin_end": 0.30000000000000004,
            "bin_start": 0.2,
            "count": 0
           },
           {
            "bin_end": 0.4,
            "bin_start": 0.30000000000000004,
            "count": 0
           },
           {
            "bin_end": 0.5,
            "bin_start": 0.4,
            "count": 0
           },
           {
            "bin_end": 0.6000000000000001,
            "bin_start": 0.5,
            "count": 0
           },
           {
            "bin_end": 0.7000000000000001,
            "bin_start": 0.6000000000000001,
            "count": 0
           },
           {
            "bin_end": 0.8,
            "bin_start": 0.7000000000000001,
            "count": 0
           },
           {
            "bin_end": 0.9,
            "bin_start": 0.8,
            "count": 0
           },
           {
            "bin_end": 1,
            "bin_start": 0.9,
            "count": 229
           }
          ],
          "max": "1",
          "min": "0",
          "nan_count": 0,
          "unique_count": 2
         }
        },
        {
         "dtype": "int64",
         "name": "19",
         "stats": {
          "histogram": [
           {
            "bin_end": 0.6,
            "bin_start": 0.5,
            "count": 0
           },
           {
            "bin_end": 0.7,
            "bin_start": 0.6,
            "count": 0
           },
           {
            "bin_end": 0.8,
            "bin_start": 0.7,
            "count": 0
           },
           {
            "bin_end": 0.9,
            "bin_start": 0.8,
            "count": 0
           },
           {
            "bin_end": 1,
            "bin_start": 0.9,
            "count": 0
           },
           {
            "bin_end": 1.1,
            "bin_start": 1,
            "count": 242
           },
           {
            "bin_end": 1.2000000000000002,
            "bin_start": 1.1,
            "count": 0
           },
           {
            "bin_end": 1.3,
            "bin_start": 1.2000000000000002,
            "count": 0
           },
           {
            "bin_end": 1.4,
            "bin_start": 1.3,
            "count": 0
           },
           {
            "bin_end": 1.5,
            "bin_start": 1.4,
            "count": 0
           }
          ],
          "max": "1",
          "min": "1",
          "nan_count": 0,
          "unique_count": 1
         }
        },
        {
         "dtype": "int64",
         "name": "20",
         "stats": {
          "histogram": [
           {
            "bin_end": 0.1,
            "bin_start": 0,
            "count": 67
           },
           {
            "bin_end": 0.2,
            "bin_start": 0.1,
            "count": 0
           },
           {
            "bin_end": 0.30000000000000004,
            "bin_start": 0.2,
            "count": 0
           },
           {
            "bin_end": 0.4,
            "bin_start": 0.30000000000000004,
            "count": 0
           },
           {
            "bin_end": 0.5,
            "bin_start": 0.4,
            "count": 0
           },
           {
            "bin_end": 0.6000000000000001,
            "bin_start": 0.5,
            "count": 0
           },
           {
            "bin_end": 0.7000000000000001,
            "bin_start": 0.6000000000000001,
            "count": 0
           },
           {
            "bin_end": 0.8,
            "bin_start": 0.7000000000000001,
            "count": 0
           },
           {
            "bin_end": 0.9,
            "bin_start": 0.8,
            "count": 0
           },
           {
            "bin_end": 1,
            "bin_start": 0.9,
            "count": 175
           }
          ],
          "max": "1",
          "min": "0",
          "nan_count": 0,
          "unique_count": 2
         }
        },
        {
         "dtype": "int64",
         "name": "21",
         "stats": {
          "histogram": [
           {
            "bin_end": 0.1,
            "bin_start": 0,
            "count": 15
           },
           {
            "bin_end": 0.2,
            "bin_start": 0.1,
            "count": 0
           },
           {
            "bin_end": 0.30000000000000004,
            "bin_start": 0.2,
            "count": 0
           },
           {
            "bin_end": 0.4,
            "bin_start": 0.30000000000000004,
            "count": 0
           },
           {
            "bin_end": 0.5,
            "bin_start": 0.4,
            "count": 0
           },
           {
            "bin_end": 0.6000000000000001,
            "bin_start": 0.5,
            "count": 0
           },
           {
            "bin_end": 0.7000000000000001,
            "bin_start": 0.6000000000000001,
            "count": 0
           },
           {
            "bin_end": 0.8,
            "bin_start": 0.7000000000000001,
            "count": 0
           },
           {
            "bin_end": 0.9,
            "bin_start": 0.8,
            "count": 0
           },
           {
            "bin_end": 1,
            "bin_start": 0.9,
            "count": 227
           }
          ],
          "max": "1",
          "min": "0",
          "nan_count": 0,
          "unique_count": 2
         }
        },
        {
         "dtype": "int64",
         "name": "22",
         "stats": {
          "histogram": [
           {
            "bin_end": 0.2,
            "bin_start": 0,
            "count": 88
           },
           {
            "bin_end": 0.4,
            "bin_start": 0.2,
            "count": 0
           },
           {
            "bin_end": 0.6000000000000001,
            "bin_start": 0.4,
            "count": 0
           },
           {
            "bin_end": 0.8,
            "bin_start": 0.6000000000000001,
            "count": 0
           },
           {
            "bin_end": 1,
            "bin_start": 0.8,
            "count": 0
           },
           {
            "bin_end": 1.2000000000000002,
            "bin_start": 1,
            "count": 0
           },
           {
            "bin_end": 1.4000000000000001,
            "bin_start": 1.2000000000000002,
            "count": 0
           },
           {
            "bin_end": 1.6,
            "bin_start": 1.4000000000000001,
            "count": 0
           },
           {
            "bin_end": 1.8,
            "bin_start": 1.6,
            "count": 0
           },
           {
            "bin_end": 2,
            "bin_start": 1.8,
            "count": 154
           }
          ],
          "max": "2",
          "min": "0",
          "nan_count": 0,
          "unique_count": 2
         }
        },
        {
         "dtype": "int64",
         "name": "23",
         "stats": {
          "histogram": [
           {
            "bin_end": 0.2,
            "bin_start": 0,
            "count": 154
           },
           {
            "bin_end": 0.4,
            "bin_start": 0.2,
            "count": 0
           },
           {
            "bin_end": 0.6000000000000001,
            "bin_start": 0.4,
            "count": 0
           },
           {
            "bin_end": 0.8,
            "bin_start": 0.6000000000000001,
            "count": 0
           },
           {
            "bin_end": 1,
            "bin_start": 0.8,
            "count": 0
           },
           {
            "bin_end": 1.2000000000000002,
            "bin_start": 1,
            "count": 0
           },
           {
            "bin_end": 1.4000000000000001,
            "bin_start": 1.2000000000000002,
            "count": 0
           },
           {
            "bin_end": 1.6,
            "bin_start": 1.4000000000000001,
            "count": 0
           },
           {
            "bin_end": 1.8,
            "bin_start": 1.6,
            "count": 0
           },
           {
            "bin_end": 2,
            "bin_start": 1.8,
            "count": 88
           }
          ],
          "max": "2",
          "min": "0",
          "nan_count": 0,
          "unique_count": 2
         }
        },
        {
         "dtype": "int64",
         "name": "_deepnote_index_column"
        }
       ],
       "row_count": 242,
       "rows": [
        {
         "1": 1,
         "10": 1,
         "11": 0,
         "12": 1,
         "13": 1,
         "14": 1,
         "15": 1,
         "16": 2,
         "17": 1,
         "18": 1,
         "19": 1,
         "2": 1,
         "20": 1,
         "21": 1,
         "22": 2,
         "23": 0,
         "3": 1,
         "4": 1,
         "5": 2,
         "6": 1,
         "7": 1,
         "8": 1,
         "9": 1,
         "Mata Kuliah": "Lainnya",
         "NIM": 205150200111037,
         "Nama Mahasiswa": "Muhamad Fauzan Wahyudi",
         "Timestamp": "4/27/2022 22:25:23",
         "_deepnote_index_column": 0
        },
        {
         "1": 1,
         "10": 1,
         "11": 0,
         "12": 1,
         "13": 1,
         "14": 1,
         "15": 1,
         "16": 2,
         "17": 1,
         "18": 1,
         "19": 1,
         "2": 1,
         "20": 1,
         "21": 1,
         "22": 2,
         "23": 0,
         "3": 1,
         "4": 1,
         "5": 2,
         "6": 1,
         "7": 1,
         "8": 1,
         "9": 1,
         "Mata Kuliah": "Lainnya",
         "NIM": 205150200111067,
         "Nama Mahasiswa": "Fito Briantama ",
         "Timestamp": "4/27/2022 22:29:21",
         "_deepnote_index_column": 1
        },
        {
         "1": 1,
         "10": 1,
         "11": 1,
         "12": 1,
         "13": 1,
         "14": 1,
         "15": 1,
         "16": 2,
         "17": 1,
         "18": 1,
         "19": 1,
         "2": 1,
         "20": 1,
         "21": 1,
         "22": 2,
         "23": 0,
         "3": 1,
         "4": 1,
         "5": 2,
         "6": 1,
         "7": 1,
         "8": 1,
         "9": 1,
         "Mata Kuliah": "Lainnya",
         "NIM": 205150200111019,
         "Nama Mahasiswa": "Vincent Revel Aldisa",
         "Timestamp": "4/27/2022 22:29:21",
         "_deepnote_index_column": 2
        },
        {
         "1": 1,
         "10": 1,
         "11": 1,
         "12": 1,
         "13": 1,
         "14": 1,
         "15": 1,
         "16": 2,
         "17": 1,
         "18": 1,
         "19": 1,
         "2": 1,
         "20": 1,
         "21": 1,
         "22": 2,
         "23": 0,
         "3": 1,
         "4": 1,
         "5": 2,
         "6": 1,
         "7": 1,
         "8": 1,
         "9": 1,
         "Mata Kuliah": "Lainnya",
         "NIM": 205150207111012,
         "Nama Mahasiswa": "Aditya Ikhwan Saputro",
         "Timestamp": "4/27/2022 22:29:22",
         "_deepnote_index_column": 3
        },
        {
         "1": 1,
         "10": 1,
         "11": 1,
         "12": 1,
         "13": 1,
         "14": 1,
         "15": 1,
         "16": 2,
         "17": 1,
         "18": 1,
         "19": 1,
         "2": 1,
         "20": 1,
         "21": 1,
         "22": 2,
         "23": 0,
         "3": 1,
         "4": 1,
         "5": 2,
         "6": 1,
         "7": 1,
         "8": 1,
         "9": 1,
         "Mata Kuliah": "Lainnya",
         "NIM": 205150200111014,
         "Nama Mahasiswa": "Muhammad Fadhil Hidayatullah",
         "Timestamp": "4/27/2022 22:29:22",
         "_deepnote_index_column": 4
        },
        {
         "1": 1,
         "10": 1,
         "11": 1,
         "12": 1,
         "13": 1,
         "14": 1,
         "15": 1,
         "16": 0,
         "17": 1,
         "18": 1,
         "19": 1,
         "2": 1,
         "20": 1,
         "21": 1,
         "22": 2,
         "23": 0,
         "3": 1,
         "4": 1,
         "5": 2,
         "6": 1,
         "7": 1,
         "8": 1,
         "9": 1,
         "Mata Kuliah": "Lainnya",
         "NIM": 205150201111016,
         "Nama Mahasiswa": "Bagus Dermawan Mulya",
         "Timestamp": "4/27/2022 22:29:22",
         "_deepnote_index_column": 5
        },
        {
         "1": 1,
         "10": 1,
         "11": 1,
         "12": 1,
         "13": 1,
         "14": 1,
         "15": 1,
         "16": 2,
         "17": 1,
         "18": 1,
         "19": 1,
         "2": 1,
         "20": 1,
         "21": 1,
         "22": 2,
         "23": 0,
         "3": 1,
         "4": 1,
         "5": 2,
         "6": 1,
         "7": 1,
         "8": 1,
         "9": 1,
         "Mata Kuliah": "Lainnya",
         "NIM": 205150200111025,
         "Nama Mahasiswa": "Reyhan Ardiya Yogastama",
         "Timestamp": "4/27/2022 22:29:29",
         "_deepnote_index_column": 6
        },
        {
         "1": 1,
         "10": 1,
         "11": 1,
         "12": 1,
         "13": 1,
         "14": 1,
         "15": 1,
         "16": 2,
         "17": 1,
         "18": 1,
         "19": 1,
         "2": 1,
         "20": 1,
         "21": 1,
         "22": 2,
         "23": 0,
         "3": 1,
         "4": 1,
         "5": 2,
         "6": 1,
         "7": 1,
         "8": 1,
         "9": 1,
         "Mata Kuliah": "Lainnya",
         "NIM": 205150201111002,
         "Nama Mahasiswa": "Wildan Mufid Ramadhan",
         "Timestamp": "4/27/2022 22:29:34",
         "_deepnote_index_column": 7
        },
        {
         "1": 1,
         "10": 1,
         "11": 0,
         "12": 1,
         "13": 1,
         "14": 1,
         "15": 1,
         "16": 2,
         "17": 0,
         "18": 1,
         "19": 1,
         "2": 1,
         "20": 0,
         "21": 1,
         "22": 2,
         "23": 2,
         "3": 1,
         "4": 1,
         "5": 2,
         "6": 1,
         "7": 1,
         "8": 1,
         "9": 1,
         "Mata Kuliah": "VD",
         "NIM": 195150200111073,
         "Nama Mahasiswa": "Andriko Fajar Prakoso",
         "Timestamp": "4/29/2022 6:56:19",
         "_deepnote_index_column": 8
        },
        {
         "1": 1,
         "10": 1,
         "11": 1,
         "12": 1,
         "13": 1,
         "14": 1,
         "15": 1,
         "16": 2,
         "17": 0,
         "18": 1,
         "19": 1,
         "2": 1,
         "20": 0,
         "21": 1,
         "22": 0,
         "23": 2,
         "3": 1,
         "4": 1,
         "5": 2,
         "6": 1,
         "7": 1,
         "8": 1,
         "9": 1,
         "Mata Kuliah": "VD",
         "NIM": 195150200111039,
         "Nama Mahasiswa": "Riski Darmawan",
         "Timestamp": "4/29/2022 8:49:57",
         "_deepnote_index_column": 9
        }
       ]
      },
      "text/html": [
       "<div>\n",
       "<style scoped>\n",
       "    .dataframe tbody tr th:only-of-type {\n",
       "        vertical-align: middle;\n",
       "    }\n",
       "\n",
       "    .dataframe tbody tr th {\n",
       "        vertical-align: top;\n",
       "    }\n",
       "\n",
       "    .dataframe thead th {\n",
       "        text-align: right;\n",
       "    }\n",
       "</style>\n",
       "<table border=\"1\" class=\"dataframe\">\n",
       "  <thead>\n",
       "    <tr style=\"text-align: right;\">\n",
       "      <th></th>\n",
       "      <th>Timestamp</th>\n",
       "      <th>Nama Mahasiswa</th>\n",
       "      <th>NIM</th>\n",
       "      <th>Mata Kuliah</th>\n",
       "      <th>1</th>\n",
       "      <th>2</th>\n",
       "      <th>3</th>\n",
       "      <th>4</th>\n",
       "      <th>5</th>\n",
       "      <th>6</th>\n",
       "      <th>...</th>\n",
       "      <th>14</th>\n",
       "      <th>15</th>\n",
       "      <th>16</th>\n",
       "      <th>17</th>\n",
       "      <th>18</th>\n",
       "      <th>19</th>\n",
       "      <th>20</th>\n",
       "      <th>21</th>\n",
       "      <th>22</th>\n",
       "      <th>23</th>\n",
       "    </tr>\n",
       "  </thead>\n",
       "  <tbody>\n",
       "    <tr>\n",
       "      <th>0</th>\n",
       "      <td>4/27/2022 22:25:23</td>\n",
       "      <td>Muhamad Fauzan Wahyudi</td>\n",
       "      <td>205150200111037</td>\n",
       "      <td>Lainnya</td>\n",
       "      <td>1</td>\n",
       "      <td>1</td>\n",
       "      <td>1</td>\n",
       "      <td>1</td>\n",
       "      <td>2</td>\n",
       "      <td>1</td>\n",
       "      <td>...</td>\n",
       "      <td>1</td>\n",
       "      <td>1</td>\n",
       "      <td>2</td>\n",
       "      <td>1</td>\n",
       "      <td>1</td>\n",
       "      <td>1</td>\n",
       "      <td>1</td>\n",
       "      <td>1</td>\n",
       "      <td>2</td>\n",
       "      <td>0</td>\n",
       "    </tr>\n",
       "    <tr>\n",
       "      <th>1</th>\n",
       "      <td>4/27/2022 22:29:21</td>\n",
       "      <td>Fito Briantama</td>\n",
       "      <td>205150200111067</td>\n",
       "      <td>Lainnya</td>\n",
       "      <td>1</td>\n",
       "      <td>1</td>\n",
       "      <td>1</td>\n",
       "      <td>1</td>\n",
       "      <td>2</td>\n",
       "      <td>1</td>\n",
       "      <td>...</td>\n",
       "      <td>1</td>\n",
       "      <td>1</td>\n",
       "      <td>2</td>\n",
       "      <td>1</td>\n",
       "      <td>1</td>\n",
       "      <td>1</td>\n",
       "      <td>1</td>\n",
       "      <td>1</td>\n",
       "      <td>2</td>\n",
       "      <td>0</td>\n",
       "    </tr>\n",
       "    <tr>\n",
       "      <th>2</th>\n",
       "      <td>4/27/2022 22:29:21</td>\n",
       "      <td>Vincent Revel Aldisa</td>\n",
       "      <td>205150200111019</td>\n",
       "      <td>Lainnya</td>\n",
       "      <td>1</td>\n",
       "      <td>1</td>\n",
       "      <td>1</td>\n",
       "      <td>1</td>\n",
       "      <td>2</td>\n",
       "      <td>1</td>\n",
       "      <td>...</td>\n",
       "      <td>1</td>\n",
       "      <td>1</td>\n",
       "      <td>2</td>\n",
       "      <td>1</td>\n",
       "      <td>1</td>\n",
       "      <td>1</td>\n",
       "      <td>1</td>\n",
       "      <td>1</td>\n",
       "      <td>2</td>\n",
       "      <td>0</td>\n",
       "    </tr>\n",
       "    <tr>\n",
       "      <th>3</th>\n",
       "      <td>4/27/2022 22:29:22</td>\n",
       "      <td>Aditya Ikhwan Saputro</td>\n",
       "      <td>205150207111012</td>\n",
       "      <td>Lainnya</td>\n",
       "      <td>1</td>\n",
       "      <td>1</td>\n",
       "      <td>1</td>\n",
       "      <td>1</td>\n",
       "      <td>2</td>\n",
       "      <td>1</td>\n",
       "      <td>...</td>\n",
       "      <td>1</td>\n",
       "      <td>1</td>\n",
       "      <td>2</td>\n",
       "      <td>1</td>\n",
       "      <td>1</td>\n",
       "      <td>1</td>\n",
       "      <td>1</td>\n",
       "      <td>1</td>\n",
       "      <td>2</td>\n",
       "      <td>0</td>\n",
       "    </tr>\n",
       "    <tr>\n",
       "      <th>4</th>\n",
       "      <td>4/27/2022 22:29:22</td>\n",
       "      <td>Muhammad Fadhil Hidayatullah</td>\n",
       "      <td>205150200111014</td>\n",
       "      <td>Lainnya</td>\n",
       "      <td>1</td>\n",
       "      <td>1</td>\n",
       "      <td>1</td>\n",
       "      <td>1</td>\n",
       "      <td>2</td>\n",
       "      <td>1</td>\n",
       "      <td>...</td>\n",
       "      <td>1</td>\n",
       "      <td>1</td>\n",
       "      <td>2</td>\n",
       "      <td>1</td>\n",
       "      <td>1</td>\n",
       "      <td>1</td>\n",
       "      <td>1</td>\n",
       "      <td>1</td>\n",
       "      <td>2</td>\n",
       "      <td>0</td>\n",
       "    </tr>\n",
       "    <tr>\n",
       "      <th>...</th>\n",
       "      <td>...</td>\n",
       "      <td>...</td>\n",
       "      <td>...</td>\n",
       "      <td>...</td>\n",
       "      <td>...</td>\n",
       "      <td>...</td>\n",
       "      <td>...</td>\n",
       "      <td>...</td>\n",
       "      <td>...</td>\n",
       "      <td>...</td>\n",
       "      <td>...</td>\n",
       "      <td>...</td>\n",
       "      <td>...</td>\n",
       "      <td>...</td>\n",
       "      <td>...</td>\n",
       "      <td>...</td>\n",
       "      <td>...</td>\n",
       "      <td>...</td>\n",
       "      <td>...</td>\n",
       "      <td>...</td>\n",
       "      <td>...</td>\n",
       "    </tr>\n",
       "    <tr>\n",
       "      <th>237</th>\n",
       "      <td>6/5/2022 14:25:02</td>\n",
       "      <td>Raka Belva Raihansha</td>\n",
       "      <td>205150700111020</td>\n",
       "      <td>IESI D</td>\n",
       "      <td>1</td>\n",
       "      <td>1</td>\n",
       "      <td>1</td>\n",
       "      <td>1</td>\n",
       "      <td>2</td>\n",
       "      <td>1</td>\n",
       "      <td>...</td>\n",
       "      <td>1</td>\n",
       "      <td>1</td>\n",
       "      <td>2</td>\n",
       "      <td>1</td>\n",
       "      <td>1</td>\n",
       "      <td>1</td>\n",
       "      <td>1</td>\n",
       "      <td>1</td>\n",
       "      <td>2</td>\n",
       "      <td>0</td>\n",
       "    </tr>\n",
       "    <tr>\n",
       "      <th>238</th>\n",
       "      <td>6/5/2022 21:15:28</td>\n",
       "      <td>Rizky Pramudita Setyawan</td>\n",
       "      <td>205150407111030</td>\n",
       "      <td>ADSI E</td>\n",
       "      <td>1</td>\n",
       "      <td>1</td>\n",
       "      <td>1</td>\n",
       "      <td>1</td>\n",
       "      <td>2</td>\n",
       "      <td>1</td>\n",
       "      <td>...</td>\n",
       "      <td>0</td>\n",
       "      <td>1</td>\n",
       "      <td>2</td>\n",
       "      <td>1</td>\n",
       "      <td>1</td>\n",
       "      <td>1</td>\n",
       "      <td>1</td>\n",
       "      <td>1</td>\n",
       "      <td>2</td>\n",
       "      <td>0</td>\n",
       "    </tr>\n",
       "    <tr>\n",
       "      <th>239</th>\n",
       "      <td>6/10/2022 17:19:34</td>\n",
       "      <td>King Arthur Bintang Alfarez</td>\n",
       "      <td>205150607111006</td>\n",
       "      <td>DIMP C</td>\n",
       "      <td>0</td>\n",
       "      <td>1</td>\n",
       "      <td>1</td>\n",
       "      <td>0</td>\n",
       "      <td>0</td>\n",
       "      <td>1</td>\n",
       "      <td>...</td>\n",
       "      <td>1</td>\n",
       "      <td>0</td>\n",
       "      <td>2</td>\n",
       "      <td>0</td>\n",
       "      <td>1</td>\n",
       "      <td>1</td>\n",
       "      <td>0</td>\n",
       "      <td>1</td>\n",
       "      <td>0</td>\n",
       "      <td>2</td>\n",
       "    </tr>\n",
       "    <tr>\n",
       "      <th>240</th>\n",
       "      <td>6/12/2022 19:34:39</td>\n",
       "      <td>Muhammad Zaydan Sulthon</td>\n",
       "      <td>215150707111044</td>\n",
       "      <td>DDAP E</td>\n",
       "      <td>1</td>\n",
       "      <td>0</td>\n",
       "      <td>1</td>\n",
       "      <td>1</td>\n",
       "      <td>0</td>\n",
       "      <td>1</td>\n",
       "      <td>...</td>\n",
       "      <td>1</td>\n",
       "      <td>1</td>\n",
       "      <td>2</td>\n",
       "      <td>1</td>\n",
       "      <td>1</td>\n",
       "      <td>1</td>\n",
       "      <td>1</td>\n",
       "      <td>1</td>\n",
       "      <td>2</td>\n",
       "      <td>2</td>\n",
       "    </tr>\n",
       "    <tr>\n",
       "      <th>241</th>\n",
       "      <td>6/14/2022 13:14:01</td>\n",
       "      <td>Rif'atul Ilmi</td>\n",
       "      <td>205150701111024</td>\n",
       "      <td>IESI D</td>\n",
       "      <td>1</td>\n",
       "      <td>1</td>\n",
       "      <td>1</td>\n",
       "      <td>0</td>\n",
       "      <td>2</td>\n",
       "      <td>1</td>\n",
       "      <td>...</td>\n",
       "      <td>1</td>\n",
       "      <td>1</td>\n",
       "      <td>2</td>\n",
       "      <td>1</td>\n",
       "      <td>1</td>\n",
       "      <td>1</td>\n",
       "      <td>1</td>\n",
       "      <td>1</td>\n",
       "      <td>2</td>\n",
       "      <td>0</td>\n",
       "    </tr>\n",
       "  </tbody>\n",
       "</table>\n",
       "<p>242 rows × 27 columns</p>\n",
       "</div>"
      ],
      "text/plain": [
       "              Timestamp                Nama Mahasiswa              NIM  \\\n",
       "0    4/27/2022 22:25:23        Muhamad Fauzan Wahyudi  205150200111037   \n",
       "1    4/27/2022 22:29:21               Fito Briantama   205150200111067   \n",
       "2    4/27/2022 22:29:21          Vincent Revel Aldisa  205150200111019   \n",
       "3    4/27/2022 22:29:22         Aditya Ikhwan Saputro  205150207111012   \n",
       "4    4/27/2022 22:29:22  Muhammad Fadhil Hidayatullah  205150200111014   \n",
       "..                  ...                           ...              ...   \n",
       "237   6/5/2022 14:25:02          Raka Belva Raihansha  205150700111020   \n",
       "238   6/5/2022 21:15:28     Rizky Pramudita Setyawan   205150407111030   \n",
       "239  6/10/2022 17:19:34   King Arthur Bintang Alfarez  205150607111006   \n",
       "240  6/12/2022 19:34:39       Muhammad Zaydan Sulthon  215150707111044   \n",
       "241  6/14/2022 13:14:01                 Rif'atul Ilmi  205150701111024   \n",
       "\n",
       "    Mata Kuliah  1  2  3  4  5  6  ...  14  15  16  17  18  19  20  21  22  23  \n",
       "0       Lainnya  1  1  1  1  2  1  ...   1   1   2   1   1   1   1   1   2   0  \n",
       "1       Lainnya  1  1  1  1  2  1  ...   1   1   2   1   1   1   1   1   2   0  \n",
       "2       Lainnya  1  1  1  1  2  1  ...   1   1   2   1   1   1   1   1   2   0  \n",
       "3       Lainnya  1  1  1  1  2  1  ...   1   1   2   1   1   1   1   1   2   0  \n",
       "4       Lainnya  1  1  1  1  2  1  ...   1   1   2   1   1   1   1   1   2   0  \n",
       "..          ... .. .. .. .. .. ..  ...  ..  ..  ..  ..  ..  ..  ..  ..  ..  ..  \n",
       "237      IESI D  1  1  1  1  2  1  ...   1   1   2   1   1   1   1   1   2   0  \n",
       "238      ADSI E  1  1  1  1  2  1  ...   0   1   2   1   1   1   1   1   2   0  \n",
       "239      DIMP C  0  1  1  0  0  1  ...   1   0   2   0   1   1   0   1   0   2  \n",
       "240      DDAP E  1  0  1  1  0  1  ...   1   1   2   1   1   1   1   1   2   2  \n",
       "241      IESI D  1  1  1  0  2  1  ...   1   1   2   1   1   1   1   1   2   0  \n",
       "\n",
       "[242 rows x 27 columns]"
      ]
     },
     "execution_count": 8,
     "metadata": {},
     "output_type": "execute_result"
    }
   ],
   "source": [
    "posttest[\"1\"]=posttest[\"1\"].astype(str).astype(int)\n",
    "posttest[\"2\"]=posttest[\"2\"].astype(str).astype(int)\n",
    "posttest[\"3\"]=posttest[\"3\"].astype(str).astype(int)\n",
    "posttest[\"4\"]=posttest[\"4\"].astype(str).astype(int)\n",
    "posttest[\"5\"]=posttest[\"5\"].astype(str).astype(int)\n",
    "posttest[\"6\"]=posttest[\"6\"].astype(str).astype(int)\n",
    "posttest[\"7\"]=posttest[\"7\"].astype(str).astype(int)\n",
    "posttest[\"8\"]=posttest[\"8\"].astype(str).astype(int)\n",
    "posttest[\"9\"]=posttest[\"9\"].astype(str).astype(int)\n",
    "posttest[\"10\"]=posttest[\"10\"].astype(str).astype(int)\n",
    "posttest[\"11\"]=posttest[\"11\"].astype(str).astype(int)\n",
    "posttest[\"12\"]=posttest[\"12\"].astype(str).astype(int)\n",
    "posttest[\"13\"]=posttest[\"13\"].astype(str).astype(int)\n",
    "posttest[\"14\"]=posttest[\"14\"].astype(str).astype(int)\n",
    "posttest[\"15\"]=posttest[\"15\"].astype(str).astype(int)\n",
    "posttest[\"16\"]=posttest[\"16\"].astype(str).astype(int)\n",
    "posttest[\"17\"]=posttest[\"17\"].astype(str).astype(int)\n",
    "posttest[\"18\"]=posttest[\"18\"].astype(str).astype(int)\n",
    "posttest[\"19\"]=posttest[\"19\"].astype(str).astype(int)\n",
    "posttest[\"20\"]=posttest[\"20\"].astype(str).astype(int)\n",
    "posttest[\"21\"]=posttest[\"21\"].astype(str).astype(int)\n",
    "posttest[\"22\"]=posttest[\"22\"].astype(str).astype(int)\n",
    "posttest[\"23\"]=posttest[\"23\"].astype(str).astype(int)\n",
    "\n",
    "posttest"
   ]
  },
  {
   "cell_type": "code",
   "execution_count": null,
   "metadata": {
    "cell_id": "de1b96a0d69844f5b0058f82b8468272",
    "deepnote_cell_height": 106.1875,
    "deepnote_cell_type": "code",
    "deepnote_to_be_reexecuted": false,
    "execution_millis": 4,
    "execution_start": 1659931846454,
    "source_hash": "15309165",
    "tags": []
   },
   "outputs": [
    {
     "name": "stdout",
     "output_type": "stream",
     "text": [
      "(242, 27)\n"
     ]
    }
   ],
   "source": [
    "print(posttest.shape)"
   ]
  },
  {
   "cell_type": "code",
   "execution_count": null,
   "metadata": {
    "cell_id": "e758649bfb2f4bb1885735944ccd536f",
    "deepnote_cell_height": 153,
    "deepnote_cell_type": "code",
    "deepnote_to_be_reexecuted": false,
    "execution_millis": 16,
    "execution_start": 1659931846460,
    "source_hash": "992d2b41",
    "tags": []
   },
   "outputs": [],
   "source": [
    "col_list = [\"1\",\"2\",\"3\",\"4\",\"5\",\"6\",\"7\",\"8\",\"9\",\"10\",\"11\",\"12\",\"13\",\"14\",\"15\",\"16\",\"17\",\"18\",\"19\",\"20\",\"21\",\"22\",\"23\"]\n",
    "\n",
    "pretest[\"nilai_pretest\"]=pretest[col_list].sum(axis=1)\n",
    "posttest[\"nilai_posttest\"]=posttest[col_list].sum(axis=1)\n",
    "posttest=posttest.merge(pretest, on=\"NIM\", how='left')"
   ]
  },
  {
   "cell_type": "code",
   "execution_count": null,
   "metadata": {
    "cell_id": "d4391225500c431ba6ff832a5dafc3c6",
    "deepnote_cell_height": 130,
    "deepnote_cell_type": "code",
    "deepnote_table_loading": false,
    "deepnote_table_state": {
     "filters": [],
     "pageIndex": 24,
     "pageSize": 10,
     "sortBy": []
    },
    "deepnote_to_be_reexecuted": false,
    "execution_millis": 6,
    "execution_start": 1659931846477,
    "source_hash": "8b77acd9",
    "tags": []
   },
   "outputs": [],
   "source": [
    "df_nilai = pd.DataFrame()\n",
    "df_nilai[\"NIM\"]=posttest[\"NIM\"].copy()\n",
    "df_nilai[\"nilai_pretest\"]=posttest[\"nilai_pretest\"].copy()\n",
    "df_nilai[\"nilai_posttest\"]=posttest[\"nilai_posttest\"].copy()"
   ]
  },
  {
   "cell_type": "code",
   "execution_count": null,
   "metadata": {
    "cell_id": "76d1de0786ce40a98d11390a8996d509",
    "deepnote_cell_height": 531,
    "deepnote_cell_type": "code",
    "deepnote_table_loading": false,
    "deepnote_table_state": {
     "filters": [],
     "pageIndex": 0,
     "pageSize": 10,
     "sortBy": []
    },
    "deepnote_to_be_reexecuted": false,
    "execution_millis": 29,
    "execution_start": 1659931846483,
    "source_hash": "b02ebcb7",
    "tags": []
   },
   "outputs": [
    {
     "data": {
      "application/vnd.deepnote.dataframe.v3+json": {
       "column_count": 3,
       "columns": [
        {
         "dtype": "float64",
         "name": "NIM",
         "stats": {
          "histogram": [
           {
            "bin_end": 21515070711317.7,
            "bin_start": 237,
            "count": 2
           },
           {
            "bin_end": 43030141422398.4,
            "bin_start": 21515070711317.7,
            "count": 0
           },
           {
            "bin_end": 64545212133479.09,
            "bin_start": 43030141422398.4,
            "count": 0
           },
           {
            "bin_end": 86060282844559.8,
            "bin_start": 64545212133479.09,
            "count": 0
           },
           {
            "bin_end": 107575353555640.5,
            "bin_start": 86060282844559.8,
            "count": 0
           },
           {
            "bin_end": 129090424266721.19,
            "bin_start": 107575353555640.5,
            "count": 0
           },
           {
            "bin_end": 150605494977801.9,
            "bin_start": 129090424266721.19,
            "count": 0
           },
           {
            "bin_end": 172120565688882.6,
            "bin_start": 150605494977801.9,
            "count": 0
           },
           {
            "bin_end": 193635636399963.28,
            "bin_start": 172120565688882.6,
            "count": 1
           },
           {
            "bin_end": 215150707111044,
            "bin_start": 193635636399963.28,
            "count": 5
           }
          ],
          "max": "215150707111044.0",
          "min": "237.0",
          "nan_count": 0,
          "unique_count": 8
         }
        },
        {
         "dtype": "float64",
         "name": "nilai_pretest",
         "stats": {
          "histogram": [
           {
            "bin_end": 24.6,
            "bin_start": 1,
            "count": 6
           },
           {
            "bin_end": 48.2,
            "bin_start": 24.6,
            "count": 1
           },
           {
            "bin_end": 71.80000000000001,
            "bin_start": 48.2,
            "count": 0
           },
           {
            "bin_end": 95.4,
            "bin_start": 71.80000000000001,
            "count": 0
           },
           {
            "bin_end": 119,
            "bin_start": 95.4,
            "count": 0
           },
           {
            "bin_end": 142.60000000000002,
            "bin_start": 119,
            "count": 0
           },
           {
            "bin_end": 166.20000000000002,
            "bin_start": 142.60000000000002,
            "count": 0
           },
           {
            "bin_end": 189.8,
            "bin_start": 166.20000000000002,
            "count": 0
           },
           {
            "bin_end": 213.4,
            "bin_start": 189.8,
            "count": 0
           },
           {
            "bin_end": 237,
            "bin_start": 213.4,
            "count": 1
           }
          ],
          "max": "237.0",
          "min": "1.0",
          "nan_count": 0,
          "unique_count": 8
         }
        },
        {
         "dtype": "float64",
         "name": "nilai_posttest",
         "stats": {
          "histogram": [
           {
            "bin_end": 24.6,
            "bin_start": 1,
            "count": 6
           },
           {
            "bin_end": 48.2,
            "bin_start": 24.6,
            "count": 1
           },
           {
            "bin_end": 71.80000000000001,
            "bin_start": 48.2,
            "count": 0
           },
           {
            "bin_end": 95.4,
            "bin_start": 71.80000000000001,
            "count": 0
           },
           {
            "bin_end": 119,
            "bin_start": 95.4,
            "count": 0
           },
           {
            "bin_end": 142.60000000000002,
            "bin_start": 119,
            "count": 0
           },
           {
            "bin_end": 166.20000000000002,
            "bin_start": 142.60000000000002,
            "count": 0
           },
           {
            "bin_end": 189.8,
            "bin_start": 166.20000000000002,
            "count": 0
           },
           {
            "bin_end": 213.4,
            "bin_start": 189.8,
            "count": 0
           },
           {
            "bin_end": 237,
            "bin_start": 213.4,
            "count": 1
           }
          ],
          "max": "237.0",
          "min": "1.0",
          "nan_count": 0,
          "unique_count": 8
         }
        },
        {
         "dtype": "object",
         "name": "_deepnote_index_column"
        }
       ],
       "row_count": 8,
       "rows": [
        {
         "NIM": 237,
         "_deepnote_index_column": "count",
         "nilai_posttest": 237,
         "nilai_pretest": 237
        },
        {
         "NIM": 206585107878958.25,
         "_deepnote_index_column": "mean",
         "nilai_posttest": 21.443037974683545,
         "nilai_pretest": 18.932489451476794
        },
        {
         "NIM": 6145319991681.415,
         "_deepnote_index_column": "std",
         "nilai_posttest": 3.5620891155606818,
         "nilai_pretest": 4.113289660018944
        },
        {
         "NIM": 175150407111024,
         "_deepnote_index_column": "min",
         "nilai_posttest": 1,
         "nilai_pretest": 1
        },
        {
         "NIM": 205150400111031,
         "_deepnote_index_column": "25%",
         "nilai_posttest": 19,
         "nilai_pretest": 16
        },
        {
         "NIM": 205150600111031,
         "_deepnote_index_column": "50%",
         "nilai_posttest": 22,
         "nilai_pretest": 20
        },
        {
         "NIM": 205150707111033,
         "_deepnote_index_column": "75%",
         "nilai_posttest": 24,
         "nilai_pretest": 22
        },
        {
         "NIM": 215150707111044,
         "_deepnote_index_column": "max",
         "nilai_posttest": 27,
         "nilai_pretest": 25
        }
       ]
      },
      "text/html": [
       "<div>\n",
       "<style scoped>\n",
       "    .dataframe tbody tr th:only-of-type {\n",
       "        vertical-align: middle;\n",
       "    }\n",
       "\n",
       "    .dataframe tbody tr th {\n",
       "        vertical-align: top;\n",
       "    }\n",
       "\n",
       "    .dataframe thead th {\n",
       "        text-align: right;\n",
       "    }\n",
       "</style>\n",
       "<table border=\"1\" class=\"dataframe\">\n",
       "  <thead>\n",
       "    <tr style=\"text-align: right;\">\n",
       "      <th></th>\n",
       "      <th>NIM</th>\n",
       "      <th>nilai_pretest</th>\n",
       "      <th>nilai_posttest</th>\n",
       "    </tr>\n",
       "  </thead>\n",
       "  <tbody>\n",
       "    <tr>\n",
       "      <th>count</th>\n",
       "      <td>2.370000e+02</td>\n",
       "      <td>237.000000</td>\n",
       "      <td>237.000000</td>\n",
       "    </tr>\n",
       "    <tr>\n",
       "      <th>mean</th>\n",
       "      <td>2.065851e+14</td>\n",
       "      <td>18.932489</td>\n",
       "      <td>21.443038</td>\n",
       "    </tr>\n",
       "    <tr>\n",
       "      <th>std</th>\n",
       "      <td>6.145320e+12</td>\n",
       "      <td>4.113290</td>\n",
       "      <td>3.562089</td>\n",
       "    </tr>\n",
       "    <tr>\n",
       "      <th>min</th>\n",
       "      <td>1.751504e+14</td>\n",
       "      <td>1.000000</td>\n",
       "      <td>1.000000</td>\n",
       "    </tr>\n",
       "    <tr>\n",
       "      <th>25%</th>\n",
       "      <td>2.051504e+14</td>\n",
       "      <td>16.000000</td>\n",
       "      <td>19.000000</td>\n",
       "    </tr>\n",
       "    <tr>\n",
       "      <th>50%</th>\n",
       "      <td>2.051506e+14</td>\n",
       "      <td>20.000000</td>\n",
       "      <td>22.000000</td>\n",
       "    </tr>\n",
       "    <tr>\n",
       "      <th>75%</th>\n",
       "      <td>2.051507e+14</td>\n",
       "      <td>22.000000</td>\n",
       "      <td>24.000000</td>\n",
       "    </tr>\n",
       "    <tr>\n",
       "      <th>max</th>\n",
       "      <td>2.151507e+14</td>\n",
       "      <td>25.000000</td>\n",
       "      <td>27.000000</td>\n",
       "    </tr>\n",
       "  </tbody>\n",
       "</table>\n",
       "</div>"
      ],
      "text/plain": [
       "                NIM  nilai_pretest  nilai_posttest\n",
       "count  2.370000e+02     237.000000      237.000000\n",
       "mean   2.065851e+14      18.932489       21.443038\n",
       "std    6.145320e+12       4.113290        3.562089\n",
       "min    1.751504e+14       1.000000        1.000000\n",
       "25%    2.051504e+14      16.000000       19.000000\n",
       "50%    2.051506e+14      20.000000       22.000000\n",
       "75%    2.051507e+14      22.000000       24.000000\n",
       "max    2.151507e+14      25.000000       27.000000"
      ]
     },
     "execution_count": 12,
     "metadata": {},
     "output_type": "execute_result"
    }
   ],
   "source": [
    "df_nilai=df_nilai.dropna()\n",
    "df_nilai.describe()"
   ]
  },
  {
   "cell_type": "code",
   "execution_count": null,
   "metadata": {
    "cell_id": "4ec2cc6d5d234811a8ee6cc7383e3f67",
    "deepnote_cell_height": 1169,
    "deepnote_cell_type": "code",
    "deepnote_table_loading": false,
    "deepnote_table_state": {
     "filters": [],
     "pageIndex": 0,
     "pageSize": 25,
     "sortBy": []
    },
    "deepnote_to_be_reexecuted": false,
    "execution_millis": 2,
    "execution_start": 1659931846532,
    "source_hash": "ab662ea0",
    "tags": []
   },
   "outputs": [
    {
     "data": {
      "application/vnd.deepnote.dataframe.v3+json": {
       "column_count": 3,
       "columns": [
        {
         "dtype": "int64",
         "name": "NIM",
         "stats": {
          "histogram": [
           {
            "bin_end": 197150250811061,
            "bin_start": 195150200111063,
            "count": 4
           },
           {
            "bin_end": 199150301511059,
            "bin_start": 197150250811061,
            "count": 0
           },
           {
            "bin_end": 201150352211057,
            "bin_start": 199150301511059,
            "count": 0
           },
           {
            "bin_end": 203150402911055,
            "bin_start": 201150352211057,
            "count": 0
           },
           {
            "bin_end": 205150453611053,
            "bin_start": 203150402911055,
            "count": 2
           },
           {
            "bin_end": 207150504311051,
            "bin_start": 205150453611053,
            "count": 8
           },
           {
            "bin_end": 209150555011049,
            "bin_start": 207150504311051,
            "count": 0
           },
           {
            "bin_end": 211150605711047,
            "bin_start": 209150555011049,
            "count": 0
           },
           {
            "bin_end": 213150656411045,
            "bin_start": 211150605711047,
            "count": 0
           },
           {
            "bin_end": 215150707111043,
            "bin_start": 213150656411045,
            "count": 10
           }
          ],
          "max": "215150707111043",
          "min": "195150200111063",
          "nan_count": 0,
          "unique_count": 11
         }
        },
        {
         "dtype": "float64",
         "name": "nilai_pretest",
         "stats": {
          "histogram": [
           {
            "bin_end": 3.4,
            "bin_start": 1,
            "count": 1
           },
           {
            "bin_end": 5.8,
            "bin_start": 3.4,
            "count": 0
           },
           {
            "bin_end": 8.2,
            "bin_start": 5.8,
            "count": 0
           },
           {
            "bin_end": 10.6,
            "bin_start": 8.2,
            "count": 1
           },
           {
            "bin_end": 13,
            "bin_start": 10.6,
            "count": 1
           },
           {
            "bin_end": 15.399999999999999,
            "bin_start": 13,
            "count": 2
           },
           {
            "bin_end": 17.8,
            "bin_start": 15.399999999999999,
            "count": 5
           },
           {
            "bin_end": 20.2,
            "bin_start": 17.8,
            "count": 1
           },
           {
            "bin_end": 22.599999999999998,
            "bin_start": 20.2,
            "count": 9
           },
           {
            "bin_end": 25,
            "bin_start": 22.599999999999998,
            "count": 4
           }
          ],
          "max": "25.0",
          "min": "1.0",
          "nan_count": 0,
          "unique_count": 10
         }
        },
        {
         "dtype": "int64",
         "name": "nilai_posttest",
         "stats": {
          "histogram": [
           {
            "bin_end": 3.6,
            "bin_start": 1,
            "count": 2
           },
           {
            "bin_end": 6.2,
            "bin_start": 3.6,
            "count": 0
           },
           {
            "bin_end": 8.8,
            "bin_start": 6.2,
            "count": 0
           },
           {
            "bin_end": 11.4,
            "bin_start": 8.8,
            "count": 0
           },
           {
            "bin_end": 14,
            "bin_start": 11.4,
            "count": 0
           },
           {
            "bin_end": 16.6,
            "bin_start": 14,
            "count": 2
           },
           {
            "bin_end": 19.2,
            "bin_start": 16.6,
            "count": 7
           },
           {
            "bin_end": 21.8,
            "bin_start": 19.2,
            "count": 1
           },
           {
            "bin_end": 24.400000000000002,
            "bin_start": 21.8,
            "count": 8
           },
           {
            "bin_end": 27,
            "bin_start": 24.400000000000002,
            "count": 4
           }
          ],
          "max": "27",
          "min": "1",
          "nan_count": 0,
          "unique_count": 12
         }
        },
        {
         "dtype": "int64",
         "name": "_deepnote_index_column"
        }
       ],
       "row_count": 24,
       "rows": [
        {
         "NIM": 195150201111032,
         "_deepnote_index_column": 10,
         "nilai_posttest": 25,
         "nilai_pretest": 23
        },
        {
         "NIM": 195150201111032,
         "_deepnote_index_column": 11,
         "nilai_posttest": 25,
         "nilai_pretest": 23
        },
        {
         "NIM": 205150700111018,
         "_deepnote_index_column": 91,
         "nilai_posttest": 1,
         "nilai_pretest": 16
        },
        {
         "NIM": 205150700111018,
         "_deepnote_index_column": 94,
         "nilai_posttest": 22,
         "nilai_pretest": 16
        },
        {
         "NIM": 205150200111059,
         "_deepnote_index_column": 107,
         "nilai_posttest": 27,
         "nilai_pretest": 25
        },
        {
         "NIM": 205150200111059,
         "_deepnote_index_column": 108,
         "nilai_posttest": 27,
         "nilai_pretest": 25
        },
        {
         "NIM": 215150209111011,
         "_deepnote_index_column": 135,
         "nilai_posttest": 23,
         "nilai_pretest": 22
        },
        {
         "NIM": 215150209111011,
         "_deepnote_index_column": 136,
         "nilai_posttest": 23,
         "nilai_pretest": 22
        },
        {
         "NIM": 215150209111011,
         "_deepnote_index_column": 137,
         "nilai_posttest": 23,
         "nilai_pretest": 22
        },
        {
         "NIM": 215150209111011,
         "_deepnote_index_column": 138,
         "nilai_posttest": 23,
         "nilai_pretest": 22
        },
        {
         "NIM": 205150701111015,
         "_deepnote_index_column": 157,
         "nilai_posttest": 17,
         "nilai_pretest": 15
        },
        {
         "NIM": 215150701111004,
         "_deepnote_index_column": 159,
         "nilai_posttest": 18,
         "nilai_pretest": 16
        },
        {
         "NIM": 215150701111004,
         "_deepnote_index_column": 161,
         "nilai_posttest": 20,
         "nilai_pretest": 16
        },
        {
         "NIM": 205150701111015,
         "_deepnote_index_column": 162,
         "nilai_posttest": 16,
         "nilai_pretest": 15
        },
        {
         "NIM": 215150707111019,
         "_deepnote_index_column": 174,
         "nilai_posttest": 1,
         "nilai_pretest": 21
        },
        {
         "NIM": 215150707111019,
         "_deepnote_index_column": 176,
         "nilai_posttest": 24,
         "nilai_pretest": 21
        },
        {
         "NIM": 215150707111043,
         "_deepnote_index_column": 195,
         "nilai_posttest": 19,
         "nilai_pretest": 16
        },
        {
         "NIM": 215150707111043,
         "_deepnote_index_column": 196,
         "nilai_posttest": 19,
         "nilai_pretest": 18
        },
        {
         "NIM": 205150707111019,
         "_deepnote_index_column": 226,
         "nilai_posttest": 19,
         "nilai_pretest": 9
        },
        {
         "NIM": 205150707111019,
         "_deepnote_index_column": 227,
         "nilai_posttest": 19,
         "nilai_pretest": 12
        },
        {
         "NIM": 195150200111063,
         "_deepnote_index_column": 235,
         "nilai_posttest": 15,
         "nilai_pretest": 21
        },
        {
         "NIM": 195150200111063,
         "_deepnote_index_column": 236,
         "nilai_posttest": 17,
         "nilai_pretest": 21
        },
        {
         "NIM": 205150701111024,
         "_deepnote_index_column": 245,
         "nilai_posttest": 24,
         "nilai_pretest": 1
        },
        {
         "NIM": 205150701111024,
         "_deepnote_index_column": 246,
         "nilai_posttest": 24,
         "nilai_pretest": 22
        }
       ]
      },
      "text/html": [
       "<div>\n",
       "<style scoped>\n",
       "    .dataframe tbody tr th:only-of-type {\n",
       "        vertical-align: middle;\n",
       "    }\n",
       "\n",
       "    .dataframe tbody tr th {\n",
       "        vertical-align: top;\n",
       "    }\n",
       "\n",
       "    .dataframe thead th {\n",
       "        text-align: right;\n",
       "    }\n",
       "</style>\n",
       "<table border=\"1\" class=\"dataframe\">\n",
       "  <thead>\n",
       "    <tr style=\"text-align: right;\">\n",
       "      <th></th>\n",
       "      <th>NIM</th>\n",
       "      <th>nilai_pretest</th>\n",
       "      <th>nilai_posttest</th>\n",
       "    </tr>\n",
       "  </thead>\n",
       "  <tbody>\n",
       "    <tr>\n",
       "      <th>10</th>\n",
       "      <td>195150201111032</td>\n",
       "      <td>23.0</td>\n",
       "      <td>25</td>\n",
       "    </tr>\n",
       "    <tr>\n",
       "      <th>11</th>\n",
       "      <td>195150201111032</td>\n",
       "      <td>23.0</td>\n",
       "      <td>25</td>\n",
       "    </tr>\n",
       "    <tr>\n",
       "      <th>91</th>\n",
       "      <td>205150700111018</td>\n",
       "      <td>16.0</td>\n",
       "      <td>1</td>\n",
       "    </tr>\n",
       "    <tr>\n",
       "      <th>94</th>\n",
       "      <td>205150700111018</td>\n",
       "      <td>16.0</td>\n",
       "      <td>22</td>\n",
       "    </tr>\n",
       "    <tr>\n",
       "      <th>107</th>\n",
       "      <td>205150200111059</td>\n",
       "      <td>25.0</td>\n",
       "      <td>27</td>\n",
       "    </tr>\n",
       "    <tr>\n",
       "      <th>108</th>\n",
       "      <td>205150200111059</td>\n",
       "      <td>25.0</td>\n",
       "      <td>27</td>\n",
       "    </tr>\n",
       "    <tr>\n",
       "      <th>135</th>\n",
       "      <td>215150209111011</td>\n",
       "      <td>22.0</td>\n",
       "      <td>23</td>\n",
       "    </tr>\n",
       "    <tr>\n",
       "      <th>136</th>\n",
       "      <td>215150209111011</td>\n",
       "      <td>22.0</td>\n",
       "      <td>23</td>\n",
       "    </tr>\n",
       "    <tr>\n",
       "      <th>137</th>\n",
       "      <td>215150209111011</td>\n",
       "      <td>22.0</td>\n",
       "      <td>23</td>\n",
       "    </tr>\n",
       "    <tr>\n",
       "      <th>138</th>\n",
       "      <td>215150209111011</td>\n",
       "      <td>22.0</td>\n",
       "      <td>23</td>\n",
       "    </tr>\n",
       "    <tr>\n",
       "      <th>157</th>\n",
       "      <td>205150701111015</td>\n",
       "      <td>15.0</td>\n",
       "      <td>17</td>\n",
       "    </tr>\n",
       "    <tr>\n",
       "      <th>159</th>\n",
       "      <td>215150701111004</td>\n",
       "      <td>16.0</td>\n",
       "      <td>18</td>\n",
       "    </tr>\n",
       "    <tr>\n",
       "      <th>161</th>\n",
       "      <td>215150701111004</td>\n",
       "      <td>16.0</td>\n",
       "      <td>20</td>\n",
       "    </tr>\n",
       "    <tr>\n",
       "      <th>162</th>\n",
       "      <td>205150701111015</td>\n",
       "      <td>15.0</td>\n",
       "      <td>16</td>\n",
       "    </tr>\n",
       "    <tr>\n",
       "      <th>174</th>\n",
       "      <td>215150707111019</td>\n",
       "      <td>21.0</td>\n",
       "      <td>1</td>\n",
       "    </tr>\n",
       "    <tr>\n",
       "      <th>176</th>\n",
       "      <td>215150707111019</td>\n",
       "      <td>21.0</td>\n",
       "      <td>24</td>\n",
       "    </tr>\n",
       "    <tr>\n",
       "      <th>195</th>\n",
       "      <td>215150707111043</td>\n",
       "      <td>16.0</td>\n",
       "      <td>19</td>\n",
       "    </tr>\n",
       "    <tr>\n",
       "      <th>196</th>\n",
       "      <td>215150707111043</td>\n",
       "      <td>18.0</td>\n",
       "      <td>19</td>\n",
       "    </tr>\n",
       "    <tr>\n",
       "      <th>226</th>\n",
       "      <td>205150707111019</td>\n",
       "      <td>9.0</td>\n",
       "      <td>19</td>\n",
       "    </tr>\n",
       "    <tr>\n",
       "      <th>227</th>\n",
       "      <td>205150707111019</td>\n",
       "      <td>12.0</td>\n",
       "      <td>19</td>\n",
       "    </tr>\n",
       "    <tr>\n",
       "      <th>235</th>\n",
       "      <td>195150200111063</td>\n",
       "      <td>21.0</td>\n",
       "      <td>15</td>\n",
       "    </tr>\n",
       "    <tr>\n",
       "      <th>236</th>\n",
       "      <td>195150200111063</td>\n",
       "      <td>21.0</td>\n",
       "      <td>17</td>\n",
       "    </tr>\n",
       "    <tr>\n",
       "      <th>245</th>\n",
       "      <td>205150701111024</td>\n",
       "      <td>1.0</td>\n",
       "      <td>24</td>\n",
       "    </tr>\n",
       "    <tr>\n",
       "      <th>246</th>\n",
       "      <td>205150701111024</td>\n",
       "      <td>22.0</td>\n",
       "      <td>24</td>\n",
       "    </tr>\n",
       "  </tbody>\n",
       "</table>\n",
       "</div>"
      ],
      "text/plain": [
       "                 NIM  nilai_pretest  nilai_posttest\n",
       "10   195150201111032           23.0              25\n",
       "11   195150201111032           23.0              25\n",
       "91   205150700111018           16.0               1\n",
       "94   205150700111018           16.0              22\n",
       "107  205150200111059           25.0              27\n",
       "108  205150200111059           25.0              27\n",
       "135  215150209111011           22.0              23\n",
       "136  215150209111011           22.0              23\n",
       "137  215150209111011           22.0              23\n",
       "138  215150209111011           22.0              23\n",
       "157  205150701111015           15.0              17\n",
       "159  215150701111004           16.0              18\n",
       "161  215150701111004           16.0              20\n",
       "162  205150701111015           15.0              16\n",
       "174  215150707111019           21.0               1\n",
       "176  215150707111019           21.0              24\n",
       "195  215150707111043           16.0              19\n",
       "196  215150707111043           18.0              19\n",
       "226  205150707111019            9.0              19\n",
       "227  205150707111019           12.0              19\n",
       "235  195150200111063           21.0              15\n",
       "236  195150200111063           21.0              17\n",
       "245  205150701111024            1.0              24\n",
       "246  205150701111024           22.0              24"
      ]
     },
     "execution_count": 13,
     "metadata": {},
     "output_type": "execute_result"
    }
   ],
   "source": [
    "df_nilai[df_nilai.duplicated(['NIM'], keep=False)]"
   ]
  },
  {
   "cell_type": "code",
   "execution_count": null,
   "metadata": {
    "cell_id": "f1d584199134462b9fcbb574ced3f83c",
    "deepnote_cell_height": 76,
    "deepnote_cell_type": "code",
    "deepnote_to_be_reexecuted": false,
    "execution_millis": 1,
    "execution_start": 1659931846566,
    "source_hash": "d7bb1dc5",
    "tags": []
   },
   "outputs": [],
   "source": [
    "df_nilai.drop([245,235,226,195,174,159,162,108,135,136,137,91,11],axis=0, inplace=True)"
   ]
  },
  {
   "cell_type": "code",
   "execution_count": null,
   "metadata": {
    "cell_id": "dde943f96f1a4521b28b8bfad6302dbd",
    "deepnote_cell_height": 613,
    "deepnote_cell_type": "code",
    "deepnote_to_be_reexecuted": false,
    "execution_millis": 31,
    "execution_start": 1659931895568,
    "source_hash": "422d25b4",
    "tags": []
   },
   "outputs": [
    {
     "data": {
      "application/vnd.deepnote.dataframe.v3+json": {
       "column_count": 4,
       "columns": [
        {
         "dtype": "int64",
         "name": "NIM",
         "stats": {
          "histogram": [
           {
            "bin_end": 179150437111026,
            "bin_start": 175150407111024,
            "count": 1
           },
           {
            "bin_end": 183150467111028,
            "bin_start": 179150437111026,
            "count": 0
           },
           {
            "bin_end": 187150497111030,
            "bin_start": 183150467111028,
            "count": 3
           },
           {
            "bin_end": 191150527111032,
            "bin_start": 187150497111030,
            "count": 0
           },
           {
            "bin_end": 195150557111034,
            "bin_start": 191150527111032,
            "count": 12
           },
           {
            "bin_end": 199150587111036,
            "bin_start": 195150557111034,
            "count": 1
           },
           {
            "bin_end": 203150617111038,
            "bin_start": 199150587111036,
            "count": 0
           },
           {
            "bin_end": 207150647111040,
            "bin_start": 203150617111038,
            "count": 155
           },
           {
            "bin_end": 211150677111042,
            "bin_start": 207150647111040,
            "count": 0
           },
           {
            "bin_end": 215150707111044,
            "bin_start": 211150677111042,
            "count": 52
           }
          ],
          "max": "215150707111044",
          "min": "175150407111024",
          "nan_count": 0,
          "unique_count": 224
         }
        },
        {
         "dtype": "float64",
         "name": "nilai_pretest",
         "stats": {
          "histogram": [
           {
            "bin_end": 8.8,
            "bin_start": 7,
            "count": 1
           },
           {
            "bin_end": 10.6,
            "bin_start": 8.8,
            "count": 3
           },
           {
            "bin_end": 12.4,
            "bin_start": 10.6,
            "count": 11
           },
           {
            "bin_end": 14.2,
            "bin_start": 12.4,
            "count": 19
           },
           {
            "bin_end": 16,
            "bin_start": 14.2,
            "count": 11
           },
           {
            "bin_end": 17.8,
            "bin_start": 16,
            "count": 30
           },
           {
            "bin_end": 19.6,
            "bin_start": 17.8,
            "count": 34
           },
           {
            "bin_end": 21.4,
            "bin_start": 19.6,
            "count": 43
           },
           {
            "bin_end": 23.2,
            "bin_start": 21.4,
            "count": 44
           },
           {
            "bin_end": 25,
            "bin_start": 23.2,
            "count": 28
           }
          ],
          "max": "25.0",
          "min": "7.0",
          "nan_count": 0,
          "unique_count": 17
         }
        },
        {
         "dtype": "int64",
         "name": "nilai_posttest",
         "stats": {
          "histogram": [
           {
            "bin_end": 12.6,
            "bin_start": 11,
            "count": 3
           },
           {
            "bin_end": 14.2,
            "bin_start": 12.6,
            "count": 2
           },
           {
            "bin_end": 15.8,
            "bin_start": 14.2,
            "count": 2
           },
           {
            "bin_end": 17.4,
            "bin_start": 15.8,
            "count": 14
           },
           {
            "bin_end": 19,
            "bin_start": 17.4,
            "count": 12
           },
           {
            "bin_end": 20.6,
            "bin_start": 19,
            "count": 34
           },
           {
            "bin_end": 22.200000000000003,
            "bin_start": 20.6,
            "count": 52
           },
           {
            "bin_end": 23.8,
            "bin_start": 22.200000000000003,
            "count": 41
           },
           {
            "bin_end": 25.4,
            "bin_start": 23.8,
            "count": 52
           },
           {
            "bin_end": 27,
            "bin_start": 25.4,
            "count": 12
           }
          ],
          "max": "27",
          "min": "11",
          "nan_count": 0,
          "unique_count": 17
         }
        },
        {
         "dtype": "float64",
         "name": "delta",
         "stats": {
          "histogram": [
           {
            "bin_end": -7.5,
            "bin_start": -10,
            "count": 3
           },
           {
            "bin_end": -5,
            "bin_start": -7.5,
            "count": 4
           },
           {
            "bin_end": -2.5,
            "bin_start": -5,
            "count": 10
           },
           {
            "bin_end": 0,
            "bin_start": -2.5,
            "count": 24
           },
           {
            "bin_end": 2.5,
            "bin_start": 0,
            "count": 78
           },
           {
            "bin_end": 5,
            "bin_start": 2.5,
            "count": 35
           },
           {
            "bin_end": 7.5,
            "bin_start": 5,
            "count": 47
           },
           {
            "bin_end": 10,
            "bin_start": 7.5,
            "count": 15
           },
           {
            "bin_end": 12.5,
            "bin_start": 10,
            "count": 5
           },
           {
            "bin_end": 15,
            "bin_start": 12.5,
            "count": 3
           }
          ],
          "max": "15.0",
          "min": "-10.0",
          "nan_count": 0,
          "unique_count": 24
         }
        },
        {
         "dtype": "int64",
         "name": "_deepnote_index_column"
        }
       ],
       "row_count": 224,
       "rows": [
        {
         "NIM": 205150200111037,
         "_deepnote_index_column": 0,
         "delta": -1,
         "nilai_posttest": 24,
         "nilai_pretest": 25
        },
        {
         "NIM": 205150200111067,
         "_deepnote_index_column": 1,
         "delta": 0,
         "nilai_posttest": 24,
         "nilai_pretest": 24
        },
        {
         "NIM": 205150200111019,
         "_deepnote_index_column": 2,
         "delta": 1,
         "nilai_posttest": 25,
         "nilai_pretest": 24
        },
        {
         "NIM": 205150207111012,
         "_deepnote_index_column": 3,
         "delta": 0,
         "nilai_posttest": 25,
         "nilai_pretest": 25
        },
        {
         "NIM": 205150200111014,
         "_deepnote_index_column": 4,
         "delta": 0,
         "nilai_posttest": 25,
         "nilai_pretest": 25
        },
        {
         "NIM": 205150201111016,
         "_deepnote_index_column": 5,
         "delta": -2,
         "nilai_posttest": 23,
         "nilai_pretest": 25
        },
        {
         "NIM": 205150200111025,
         "_deepnote_index_column": 6,
         "delta": 0,
         "nilai_posttest": 25,
         "nilai_pretest": 25
        },
        {
         "NIM": 205150201111002,
         "_deepnote_index_column": 7,
         "delta": 0,
         "nilai_posttest": 25,
         "nilai_pretest": 25
        },
        {
         "NIM": 195150200111073,
         "_deepnote_index_column": 8,
         "delta": 2,
         "nilai_posttest": 24,
         "nilai_pretest": 22
        },
        {
         "NIM": 195150200111039,
         "_deepnote_index_column": 9,
         "delta": 6,
         "nilai_posttest": 23,
         "nilai_pretest": 17
        }
       ]
      },
      "text/html": [
       "<div>\n",
       "<style scoped>\n",
       "    .dataframe tbody tr th:only-of-type {\n",
       "        vertical-align: middle;\n",
       "    }\n",
       "\n",
       "    .dataframe tbody tr th {\n",
       "        vertical-align: top;\n",
       "    }\n",
       "\n",
       "    .dataframe thead th {\n",
       "        text-align: right;\n",
       "    }\n",
       "</style>\n",
       "<table border=\"1\" class=\"dataframe\">\n",
       "  <thead>\n",
       "    <tr style=\"text-align: right;\">\n",
       "      <th></th>\n",
       "      <th>NIM</th>\n",
       "      <th>nilai_pretest</th>\n",
       "      <th>nilai_posttest</th>\n",
       "      <th>delta</th>\n",
       "    </tr>\n",
       "  </thead>\n",
       "  <tbody>\n",
       "    <tr>\n",
       "      <th>0</th>\n",
       "      <td>205150200111037</td>\n",
       "      <td>25.0</td>\n",
       "      <td>24</td>\n",
       "      <td>-1.0</td>\n",
       "    </tr>\n",
       "    <tr>\n",
       "      <th>1</th>\n",
       "      <td>205150200111067</td>\n",
       "      <td>24.0</td>\n",
       "      <td>24</td>\n",
       "      <td>0.0</td>\n",
       "    </tr>\n",
       "    <tr>\n",
       "      <th>2</th>\n",
       "      <td>205150200111019</td>\n",
       "      <td>24.0</td>\n",
       "      <td>25</td>\n",
       "      <td>1.0</td>\n",
       "    </tr>\n",
       "    <tr>\n",
       "      <th>3</th>\n",
       "      <td>205150207111012</td>\n",
       "      <td>25.0</td>\n",
       "      <td>25</td>\n",
       "      <td>0.0</td>\n",
       "    </tr>\n",
       "    <tr>\n",
       "      <th>4</th>\n",
       "      <td>205150200111014</td>\n",
       "      <td>25.0</td>\n",
       "      <td>25</td>\n",
       "      <td>0.0</td>\n",
       "    </tr>\n",
       "    <tr>\n",
       "      <th>...</th>\n",
       "      <td>...</td>\n",
       "      <td>...</td>\n",
       "      <td>...</td>\n",
       "      <td>...</td>\n",
       "    </tr>\n",
       "    <tr>\n",
       "      <th>241</th>\n",
       "      <td>205150700111020</td>\n",
       "      <td>13.0</td>\n",
       "      <td>22</td>\n",
       "      <td>9.0</td>\n",
       "    </tr>\n",
       "    <tr>\n",
       "      <th>242</th>\n",
       "      <td>205150407111030</td>\n",
       "      <td>21.0</td>\n",
       "      <td>23</td>\n",
       "      <td>2.0</td>\n",
       "    </tr>\n",
       "    <tr>\n",
       "      <th>243</th>\n",
       "      <td>205150607111006</td>\n",
       "      <td>18.0</td>\n",
       "      <td>16</td>\n",
       "      <td>-2.0</td>\n",
       "    </tr>\n",
       "    <tr>\n",
       "      <th>244</th>\n",
       "      <td>215150707111044</td>\n",
       "      <td>19.0</td>\n",
       "      <td>23</td>\n",
       "      <td>4.0</td>\n",
       "    </tr>\n",
       "    <tr>\n",
       "      <th>246</th>\n",
       "      <td>205150701111024</td>\n",
       "      <td>22.0</td>\n",
       "      <td>24</td>\n",
       "      <td>2.0</td>\n",
       "    </tr>\n",
       "  </tbody>\n",
       "</table>\n",
       "<p>224 rows × 4 columns</p>\n",
       "</div>"
      ],
      "text/plain": [
       "                 NIM  nilai_pretest  nilai_posttest  delta\n",
       "0    205150200111037           25.0              24   -1.0\n",
       "1    205150200111067           24.0              24    0.0\n",
       "2    205150200111019           24.0              25    1.0\n",
       "3    205150207111012           25.0              25    0.0\n",
       "4    205150200111014           25.0              25    0.0\n",
       "..               ...            ...             ...    ...\n",
       "241  205150700111020           13.0              22    9.0\n",
       "242  205150407111030           21.0              23    2.0\n",
       "243  205150607111006           18.0              16   -2.0\n",
       "244  215150707111044           19.0              23    4.0\n",
       "246  205150701111024           22.0              24    2.0\n",
       "\n",
       "[224 rows x 4 columns]"
      ]
     },
     "execution_count": 17,
     "metadata": {},
     "output_type": "execute_result"
    }
   ],
   "source": [
    "df_nilai[\"delta\"]=df_nilai[\"nilai_posttest\"]-df_nilai[\"nilai_pretest\"]\n",
    "df_nilai"
   ]
  },
  {
   "cell_type": "code",
   "execution_count": null,
   "metadata": {
    "cell_id": "75fb598f6f6c466f9020399a3ec2b558",
    "deepnote_cell_height": 391.625,
    "deepnote_cell_type": "code",
    "deepnote_to_be_reexecuted": false,
    "execution_millis": 13,
    "execution_start": 1659932150055,
    "source_hash": "8e6f3772",
    "tags": []
   },
   "outputs": [
    {
     "name": "stdout",
     "output_type": "stream",
     "text": [
      "                 NIM  nilai_pretest  nilai_posttest  delta\n",
      "0    205150200111037           25.0              24   -1.0\n",
      "1    205150200111067           24.0              24    0.0\n",
      "2    205150200111019           24.0              25    1.0\n",
      "3    205150207111012           25.0              25    0.0\n",
      "4    205150200111014           25.0              25    0.0\n",
      "..               ...            ...             ...    ...\n",
      "241  205150700111020           13.0              22    9.0\n",
      "242  205150407111030           21.0              23    2.0\n",
      "243  205150607111006           18.0              16   -2.0\n",
      "244  215150707111044           19.0              23    4.0\n",
      "246  205150701111024           22.0              24    2.0\n",
      "\n",
      "[224 rows x 4 columns]\n"
     ]
    }
   ],
   "source": [
    "df_nilai.to_csv (r'df_nilai.csv', index = False, header=True)\n",
    "\n",
    "print (df_nilai)"
   ]
  },
  {
   "cell_type": "markdown",
   "metadata": {
    "created_in_deepnote_cell": true,
    "deepnote_cell_type": "markdown",
    "tags": []
   },
   "source": [
    "<a style='text-decoration:none;line-height:16px;display:flex;color:#5B5B62;padding:10px;justify-content:end;' href='https://deepnote.com?utm_source=created-in-deepnote-cell&projectId=1d50ba51-483e-487a-a800-81d0e24d7a16' target=\"_blank\">\n",
    "<img alt='Created in deepnote.com' style='display:inline;max-height:16px;margin:0px;margin-right:7.5px;' src='data:image/svg+xml;base64,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' > </img>\n",
    "Created in <span style='font-weight:600;margin-left:4px;'>Deepnote</span></a>"
   ]
  }
 ],
 "metadata": {
  "deepnote": {},
  "deepnote_execution_queue": [],
  "deepnote_notebook_id": "fbd3d65d-fcae-475b-ab13-4295b248a5a4",
  "kernelspec": {
   "display_name": "Python 3 (ipykernel)",
   "language": "python",
   "name": "python3"
  },
  "language_info": {
   "codemirror_mode": {
    "name": "ipython",
    "version": 3
   },
   "file_extension": ".py",
   "mimetype": "text/x-python",
   "name": "python",
   "nbconvert_exporter": "python",
   "pygments_lexer": "ipython3",
   "version": "3.10.5"
  }
 },
 "nbformat": 4,
 "nbformat_minor": 2
}
